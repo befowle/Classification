{
 "cells": [
  {
   "cell_type": "code",
   "execution_count": 121,
   "metadata": {},
   "outputs": [],
   "source": [
    "import pandas as pd\n",
    "import numpy as np\n",
    "import random\n",
    "import matplotlib.pyplot as plt\n",
    "%matplotlib inline\n",
    "import seaborn as sns\n",
    "import scipy.stats as stats\n",
    "from scipy.stats import zscore\n",
    "from statsmodels.formula.api import ols\n",
    "import statsmodels as sm\n",
    "import statsmodels.api as sm\n",
    "import sklearn.preprocessing as preprocessing\n",
    "from sklearn.linear_model import LogisticRegression\n",
    "from sklearn.model_selection import train_test_split\n",
    "pd.set_option('display.max_columns', None)"
   ]
  },
  {
   "cell_type": "code",
   "execution_count": 5,
   "metadata": {},
   "outputs": [
    {
     "data": {
      "text/html": [
       "<div>\n",
       "<style scoped>\n",
       "    .dataframe tbody tr th:only-of-type {\n",
       "        vertical-align: middle;\n",
       "    }\n",
       "\n",
       "    .dataframe tbody tr th {\n",
       "        vertical-align: top;\n",
       "    }\n",
       "\n",
       "    .dataframe thead th {\n",
       "        text-align: right;\n",
       "    }\n",
       "</style>\n",
       "<table border=\"1\" class=\"dataframe\">\n",
       "  <thead>\n",
       "    <tr style=\"text-align: right;\">\n",
       "      <th></th>\n",
       "      <th>Unnamed: 0</th>\n",
       "      <th>Age</th>\n",
       "      <th>Gender</th>\n",
       "      <th>BMI</th>\n",
       "      <th>Fever</th>\n",
       "      <th>Nausea/Vomting</th>\n",
       "      <th>Headache</th>\n",
       "      <th>Diarrhea</th>\n",
       "      <th>Fatigue &amp; generalized bone ache</th>\n",
       "      <th>Jaundice</th>\n",
       "      <th>...</th>\n",
       "      <th>ALT 48</th>\n",
       "      <th>ALT after 24 w</th>\n",
       "      <th>RNA Base</th>\n",
       "      <th>RNA 4</th>\n",
       "      <th>RNA 12</th>\n",
       "      <th>RNA EOT</th>\n",
       "      <th>RNA EF</th>\n",
       "      <th>Baseline histological Grading</th>\n",
       "      <th>Baselinehistological staging</th>\n",
       "      <th>Transplant</th>\n",
       "    </tr>\n",
       "  </thead>\n",
       "  <tbody>\n",
       "    <tr>\n",
       "      <td>0</td>\n",
       "      <td>0</td>\n",
       "      <td>56</td>\n",
       "      <td>0</td>\n",
       "      <td>35</td>\n",
       "      <td>1</td>\n",
       "      <td>0</td>\n",
       "      <td>0</td>\n",
       "      <td>0</td>\n",
       "      <td>1</td>\n",
       "      <td>1</td>\n",
       "      <td>...</td>\n",
       "      <td>84</td>\n",
       "      <td>34</td>\n",
       "      <td>655330</td>\n",
       "      <td>634536</td>\n",
       "      <td>288194</td>\n",
       "      <td>386384</td>\n",
       "      <td>387088</td>\n",
       "      <td>13</td>\n",
       "      <td>2</td>\n",
       "      <td>0</td>\n",
       "    </tr>\n",
       "    <tr>\n",
       "      <td>1</td>\n",
       "      <td>1</td>\n",
       "      <td>46</td>\n",
       "      <td>0</td>\n",
       "      <td>29</td>\n",
       "      <td>0</td>\n",
       "      <td>1</td>\n",
       "      <td>1</td>\n",
       "      <td>0</td>\n",
       "      <td>1</td>\n",
       "      <td>1</td>\n",
       "      <td>...</td>\n",
       "      <td>123</td>\n",
       "      <td>44</td>\n",
       "      <td>40620</td>\n",
       "      <td>538635</td>\n",
       "      <td>637056</td>\n",
       "      <td>336804</td>\n",
       "      <td>31085</td>\n",
       "      <td>4</td>\n",
       "      <td>2</td>\n",
       "      <td>0</td>\n",
       "    </tr>\n",
       "    <tr>\n",
       "      <td>2</td>\n",
       "      <td>2</td>\n",
       "      <td>57</td>\n",
       "      <td>0</td>\n",
       "      <td>33</td>\n",
       "      <td>1</td>\n",
       "      <td>1</td>\n",
       "      <td>1</td>\n",
       "      <td>1</td>\n",
       "      <td>0</td>\n",
       "      <td>0</td>\n",
       "      <td>...</td>\n",
       "      <td>84</td>\n",
       "      <td>34</td>\n",
       "      <td>571148</td>\n",
       "      <td>661346</td>\n",
       "      <td>406373</td>\n",
       "      <td>735945</td>\n",
       "      <td>558829</td>\n",
       "      <td>4</td>\n",
       "      <td>4</td>\n",
       "      <td>1</td>\n",
       "    </tr>\n",
       "    <tr>\n",
       "      <td>3</td>\n",
       "      <td>3</td>\n",
       "      <td>49</td>\n",
       "      <td>1</td>\n",
       "      <td>33</td>\n",
       "      <td>0</td>\n",
       "      <td>1</td>\n",
       "      <td>0</td>\n",
       "      <td>1</td>\n",
       "      <td>0</td>\n",
       "      <td>1</td>\n",
       "      <td>...</td>\n",
       "      <td>77</td>\n",
       "      <td>33</td>\n",
       "      <td>1041941</td>\n",
       "      <td>449939</td>\n",
       "      <td>585688</td>\n",
       "      <td>744463</td>\n",
       "      <td>582301</td>\n",
       "      <td>10</td>\n",
       "      <td>3</td>\n",
       "      <td>0</td>\n",
       "    </tr>\n",
       "    <tr>\n",
       "      <td>4</td>\n",
       "      <td>4</td>\n",
       "      <td>59</td>\n",
       "      <td>0</td>\n",
       "      <td>32</td>\n",
       "      <td>0</td>\n",
       "      <td>0</td>\n",
       "      <td>1</td>\n",
       "      <td>0</td>\n",
       "      <td>1</td>\n",
       "      <td>1</td>\n",
       "      <td>...</td>\n",
       "      <td>90</td>\n",
       "      <td>30</td>\n",
       "      <td>660410</td>\n",
       "      <td>738756</td>\n",
       "      <td>3731527</td>\n",
       "      <td>338946</td>\n",
       "      <td>242861</td>\n",
       "      <td>11</td>\n",
       "      <td>1</td>\n",
       "      <td>0</td>\n",
       "    </tr>\n",
       "  </tbody>\n",
       "</table>\n",
       "<p>5 rows × 31 columns</p>\n",
       "</div>"
      ],
      "text/plain": [
       "   Unnamed: 0  Age  Gender  BMI  Fever  Nausea/Vomting  Headache  Diarrhea  \\\n",
       "0           0   56       0   35      1               0         0         0   \n",
       "1           1   46       0   29      0               1         1         0   \n",
       "2           2   57       0   33      1               1         1         1   \n",
       "3           3   49       1   33      0               1         0         1   \n",
       "4           4   59       0   32      0               0         1         0   \n",
       "\n",
       "   Fatigue & generalized bone ache  Jaundice  ...  ALT 48  ALT after 24 w  \\\n",
       "0                                1         1  ...      84              34   \n",
       "1                                1         1  ...     123              44   \n",
       "2                                0         0  ...      84              34   \n",
       "3                                0         1  ...      77              33   \n",
       "4                                1         1  ...      90              30   \n",
       "\n",
       "   RNA Base   RNA 4   RNA 12  RNA EOT  RNA EF  Baseline histological Grading  \\\n",
       "0    655330  634536   288194   386384  387088                             13   \n",
       "1     40620  538635   637056   336804   31085                              4   \n",
       "2    571148  661346   406373   735945  558829                              4   \n",
       "3   1041941  449939   585688   744463  582301                             10   \n",
       "4    660410  738756  3731527   338946  242861                             11   \n",
       "\n",
       "   Baselinehistological staging  Transplant  \n",
       "0                             2           0  \n",
       "1                             2           0  \n",
       "2                             4           1  \n",
       "3                             3           0  \n",
       "4                             1           0  \n",
       "\n",
       "[5 rows x 31 columns]"
      ]
     },
     "execution_count": 5,
     "metadata": {},
     "output_type": "execute_result"
    }
   ],
   "source": [
    "data.head()"
   ]
  },
  {
   "cell_type": "code",
   "execution_count": 6,
   "metadata": {},
   "outputs": [
    {
     "data": {
      "text/html": [
       "<div>\n",
       "<style scoped>\n",
       "    .dataframe tbody tr th:only-of-type {\n",
       "        vertical-align: middle;\n",
       "    }\n",
       "\n",
       "    .dataframe tbody tr th {\n",
       "        vertical-align: top;\n",
       "    }\n",
       "\n",
       "    .dataframe thead th {\n",
       "        text-align: right;\n",
       "    }\n",
       "</style>\n",
       "<table border=\"1\" class=\"dataframe\">\n",
       "  <thead>\n",
       "    <tr style=\"text-align: right;\">\n",
       "      <th></th>\n",
       "      <th>Unnamed: 0</th>\n",
       "      <th>Age</th>\n",
       "      <th>Gender</th>\n",
       "      <th>BMI</th>\n",
       "      <th>Fever</th>\n",
       "      <th>Nausea/Vomting</th>\n",
       "      <th>Headache</th>\n",
       "      <th>Diarrhea</th>\n",
       "      <th>Fatigue &amp; generalized bone ache</th>\n",
       "      <th>Jaundice</th>\n",
       "      <th>...</th>\n",
       "      <th>ALT 48</th>\n",
       "      <th>ALT after 24 w</th>\n",
       "      <th>RNA Base</th>\n",
       "      <th>RNA 4</th>\n",
       "      <th>RNA 12</th>\n",
       "      <th>RNA EOT</th>\n",
       "      <th>RNA EF</th>\n",
       "      <th>Baseline histological Grading</th>\n",
       "      <th>Baselinehistological staging</th>\n",
       "      <th>Transplant</th>\n",
       "    </tr>\n",
       "  </thead>\n",
       "  <tbody>\n",
       "    <tr>\n",
       "      <td>count</td>\n",
       "      <td>1385.000000</td>\n",
       "      <td>1385.000000</td>\n",
       "      <td>1385.000000</td>\n",
       "      <td>1385.000000</td>\n",
       "      <td>1385.000000</td>\n",
       "      <td>1385.000000</td>\n",
       "      <td>1385.000000</td>\n",
       "      <td>1385.000000</td>\n",
       "      <td>1385.000000</td>\n",
       "      <td>1385.000000</td>\n",
       "      <td>...</td>\n",
       "      <td>1385.000000</td>\n",
       "      <td>1385.000000</td>\n",
       "      <td>1.385000e+03</td>\n",
       "      <td>1.385000e+03</td>\n",
       "      <td>1.385000e+03</td>\n",
       "      <td>1385.000000</td>\n",
       "      <td>1385.000000</td>\n",
       "      <td>1385.000000</td>\n",
       "      <td>1385.000000</td>\n",
       "      <td>1385.000000</td>\n",
       "    </tr>\n",
       "    <tr>\n",
       "      <td>mean</td>\n",
       "      <td>692.000000</td>\n",
       "      <td>46.319134</td>\n",
       "      <td>0.489531</td>\n",
       "      <td>28.608664</td>\n",
       "      <td>0.515523</td>\n",
       "      <td>0.502527</td>\n",
       "      <td>0.496029</td>\n",
       "      <td>0.502527</td>\n",
       "      <td>0.498917</td>\n",
       "      <td>0.501083</td>\n",
       "      <td>...</td>\n",
       "      <td>83.800722</td>\n",
       "      <td>33.501083</td>\n",
       "      <td>5.909512e+05</td>\n",
       "      <td>6.013275e+05</td>\n",
       "      <td>4.017151e+05</td>\n",
       "      <td>394786.355235</td>\n",
       "      <td>398140.533574</td>\n",
       "      <td>10.164621</td>\n",
       "      <td>2.536462</td>\n",
       "      <td>0.261372</td>\n",
       "    </tr>\n",
       "    <tr>\n",
       "      <td>std</td>\n",
       "      <td>399.959373</td>\n",
       "      <td>8.781506</td>\n",
       "      <td>0.500071</td>\n",
       "      <td>4.076215</td>\n",
       "      <td>0.499939</td>\n",
       "      <td>0.500174</td>\n",
       "      <td>0.500165</td>\n",
       "      <td>0.500174</td>\n",
       "      <td>0.500179</td>\n",
       "      <td>0.500179</td>\n",
       "      <td>...</td>\n",
       "      <td>25.966617</td>\n",
       "      <td>6.948315</td>\n",
       "      <td>3.539354e+05</td>\n",
       "      <td>3.619547e+05</td>\n",
       "      <td>2.220597e+05</td>\n",
       "      <td>195584.622749</td>\n",
       "      <td>198375.078731</td>\n",
       "      <td>3.822135</td>\n",
       "      <td>1.121392</td>\n",
       "      <td>0.439541</td>\n",
       "    </tr>\n",
       "    <tr>\n",
       "      <td>min</td>\n",
       "      <td>0.000000</td>\n",
       "      <td>32.000000</td>\n",
       "      <td>0.000000</td>\n",
       "      <td>22.000000</td>\n",
       "      <td>0.000000</td>\n",
       "      <td>0.000000</td>\n",
       "      <td>0.000000</td>\n",
       "      <td>0.000000</td>\n",
       "      <td>0.000000</td>\n",
       "      <td>0.000000</td>\n",
       "      <td>...</td>\n",
       "      <td>39.000000</td>\n",
       "      <td>22.000000</td>\n",
       "      <td>1.100000e+01</td>\n",
       "      <td>1.900000e+02</td>\n",
       "      <td>6.170000e+02</td>\n",
       "      <td>408.000000</td>\n",
       "      <td>570.000000</td>\n",
       "      <td>3.000000</td>\n",
       "      <td>1.000000</td>\n",
       "      <td>0.000000</td>\n",
       "    </tr>\n",
       "    <tr>\n",
       "      <td>25%</td>\n",
       "      <td>346.000000</td>\n",
       "      <td>39.000000</td>\n",
       "      <td>0.000000</td>\n",
       "      <td>25.000000</td>\n",
       "      <td>0.000000</td>\n",
       "      <td>0.000000</td>\n",
       "      <td>0.000000</td>\n",
       "      <td>0.000000</td>\n",
       "      <td>0.000000</td>\n",
       "      <td>0.000000</td>\n",
       "      <td>...</td>\n",
       "      <td>61.000000</td>\n",
       "      <td>28.000000</td>\n",
       "      <td>2.692530e+05</td>\n",
       "      <td>2.725070e+05</td>\n",
       "      <td>2.699330e+05</td>\n",
       "      <td>284760.000000</td>\n",
       "      <td>275007.000000</td>\n",
       "      <td>7.000000</td>\n",
       "      <td>2.000000</td>\n",
       "      <td>0.000000</td>\n",
       "    </tr>\n",
       "    <tr>\n",
       "      <td>50%</td>\n",
       "      <td>692.000000</td>\n",
       "      <td>46.000000</td>\n",
       "      <td>0.000000</td>\n",
       "      <td>29.000000</td>\n",
       "      <td>1.000000</td>\n",
       "      <td>1.000000</td>\n",
       "      <td>0.000000</td>\n",
       "      <td>1.000000</td>\n",
       "      <td>0.000000</td>\n",
       "      <td>1.000000</td>\n",
       "      <td>...</td>\n",
       "      <td>84.000000</td>\n",
       "      <td>34.000000</td>\n",
       "      <td>5.931030e+05</td>\n",
       "      <td>5.981280e+05</td>\n",
       "      <td>4.063730e+05</td>\n",
       "      <td>386384.000000</td>\n",
       "      <td>387088.000000</td>\n",
       "      <td>11.000000</td>\n",
       "      <td>3.000000</td>\n",
       "      <td>0.000000</td>\n",
       "    </tr>\n",
       "    <tr>\n",
       "      <td>75%</td>\n",
       "      <td>1038.000000</td>\n",
       "      <td>54.000000</td>\n",
       "      <td>1.000000</td>\n",
       "      <td>32.000000</td>\n",
       "      <td>1.000000</td>\n",
       "      <td>1.000000</td>\n",
       "      <td>1.000000</td>\n",
       "      <td>1.000000</td>\n",
       "      <td>1.000000</td>\n",
       "      <td>1.000000</td>\n",
       "      <td>...</td>\n",
       "      <td>106.000000</td>\n",
       "      <td>40.000000</td>\n",
       "      <td>8.867910e+05</td>\n",
       "      <td>9.090930e+05</td>\n",
       "      <td>5.248190e+05</td>\n",
       "      <td>517806.000000</td>\n",
       "      <td>527864.000000</td>\n",
       "      <td>13.000000</td>\n",
       "      <td>4.000000</td>\n",
       "      <td>1.000000</td>\n",
       "    </tr>\n",
       "    <tr>\n",
       "      <td>max</td>\n",
       "      <td>1384.000000</td>\n",
       "      <td>61.000000</td>\n",
       "      <td>1.000000</td>\n",
       "      <td>35.000000</td>\n",
       "      <td>1.000000</td>\n",
       "      <td>1.000000</td>\n",
       "      <td>1.000000</td>\n",
       "      <td>1.000000</td>\n",
       "      <td>1.000000</td>\n",
       "      <td>1.000000</td>\n",
       "      <td>...</td>\n",
       "      <td>128.000000</td>\n",
       "      <td>45.000000</td>\n",
       "      <td>1.201086e+06</td>\n",
       "      <td>1.201715e+06</td>\n",
       "      <td>3.731527e+06</td>\n",
       "      <td>808450.000000</td>\n",
       "      <td>810333.000000</td>\n",
       "      <td>16.000000</td>\n",
       "      <td>4.000000</td>\n",
       "      <td>1.000000</td>\n",
       "    </tr>\n",
       "  </tbody>\n",
       "</table>\n",
       "<p>8 rows × 31 columns</p>\n",
       "</div>"
      ],
      "text/plain": [
       "        Unnamed: 0          Age       Gender          BMI        Fever  \\\n",
       "count  1385.000000  1385.000000  1385.000000  1385.000000  1385.000000   \n",
       "mean    692.000000    46.319134     0.489531    28.608664     0.515523   \n",
       "std     399.959373     8.781506     0.500071     4.076215     0.499939   \n",
       "min       0.000000    32.000000     0.000000    22.000000     0.000000   \n",
       "25%     346.000000    39.000000     0.000000    25.000000     0.000000   \n",
       "50%     692.000000    46.000000     0.000000    29.000000     1.000000   \n",
       "75%    1038.000000    54.000000     1.000000    32.000000     1.000000   \n",
       "max    1384.000000    61.000000     1.000000    35.000000     1.000000   \n",
       "\n",
       "       Nausea/Vomting     Headache     Diarrhea  \\\n",
       "count     1385.000000  1385.000000  1385.000000   \n",
       "mean         0.502527     0.496029     0.502527   \n",
       "std          0.500174     0.500165     0.500174   \n",
       "min          0.000000     0.000000     0.000000   \n",
       "25%          0.000000     0.000000     0.000000   \n",
       "50%          1.000000     0.000000     1.000000   \n",
       "75%          1.000000     1.000000     1.000000   \n",
       "max          1.000000     1.000000     1.000000   \n",
       "\n",
       "       Fatigue & generalized bone ache     Jaundice  ...       ALT 48  \\\n",
       "count                      1385.000000  1385.000000  ...  1385.000000   \n",
       "mean                          0.498917     0.501083  ...    83.800722   \n",
       "std                           0.500179     0.500179  ...    25.966617   \n",
       "min                           0.000000     0.000000  ...    39.000000   \n",
       "25%                           0.000000     0.000000  ...    61.000000   \n",
       "50%                           0.000000     1.000000  ...    84.000000   \n",
       "75%                           1.000000     1.000000  ...   106.000000   \n",
       "max                           1.000000     1.000000  ...   128.000000   \n",
       "\n",
       "       ALT after 24 w      RNA Base         RNA 4        RNA 12  \\\n",
       "count     1385.000000  1.385000e+03  1.385000e+03  1.385000e+03   \n",
       "mean        33.501083  5.909512e+05  6.013275e+05  4.017151e+05   \n",
       "std          6.948315  3.539354e+05  3.619547e+05  2.220597e+05   \n",
       "min         22.000000  1.100000e+01  1.900000e+02  6.170000e+02   \n",
       "25%         28.000000  2.692530e+05  2.725070e+05  2.699330e+05   \n",
       "50%         34.000000  5.931030e+05  5.981280e+05  4.063730e+05   \n",
       "75%         40.000000  8.867910e+05  9.090930e+05  5.248190e+05   \n",
       "max         45.000000  1.201086e+06  1.201715e+06  3.731527e+06   \n",
       "\n",
       "             RNA EOT         RNA EF  Baseline histological Grading  \\\n",
       "count    1385.000000    1385.000000                    1385.000000   \n",
       "mean   394786.355235  398140.533574                      10.164621   \n",
       "std    195584.622749  198375.078731                       3.822135   \n",
       "min       408.000000     570.000000                       3.000000   \n",
       "25%    284760.000000  275007.000000                       7.000000   \n",
       "50%    386384.000000  387088.000000                      11.000000   \n",
       "75%    517806.000000  527864.000000                      13.000000   \n",
       "max    808450.000000  810333.000000                      16.000000   \n",
       "\n",
       "       Baselinehistological staging   Transplant  \n",
       "count                   1385.000000  1385.000000  \n",
       "mean                       2.536462     0.261372  \n",
       "std                        1.121392     0.439541  \n",
       "min                        1.000000     0.000000  \n",
       "25%                        2.000000     0.000000  \n",
       "50%                        3.000000     0.000000  \n",
       "75%                        4.000000     1.000000  \n",
       "max                        4.000000     1.000000  \n",
       "\n",
       "[8 rows x 31 columns]"
      ]
     },
     "execution_count": 6,
     "metadata": {},
     "output_type": "execute_result"
    }
   ],
   "source": [
    "data.describe()"
   ]
  },
  {
   "cell_type": "code",
   "execution_count": 7,
   "metadata": {},
   "outputs": [
    {
     "name": "stdout",
     "output_type": "stream",
     "text": [
      "<class 'pandas.core.frame.DataFrame'>\n",
      "RangeIndex: 1385 entries, 0 to 1384\n",
      "Data columns (total 31 columns):\n",
      "Unnamed: 0                         1385 non-null int64\n",
      "Age                                1385 non-null int64\n",
      "Gender                             1385 non-null int64\n",
      "BMI                                1385 non-null int64\n",
      "Fever                              1385 non-null int64\n",
      "Nausea/Vomting                     1385 non-null int64\n",
      "Headache                           1385 non-null int64\n",
      "Diarrhea                           1385 non-null int64\n",
      "Fatigue & generalized bone ache    1385 non-null int64\n",
      "Jaundice                           1385 non-null int64\n",
      "Epigastric pain                    1385 non-null int64\n",
      "WBC                                1385 non-null int64\n",
      "RBC                                1385 non-null int64\n",
      "HGB                                1385 non-null int64\n",
      "Plat                               1385 non-null int64\n",
      "AST 1                              1385 non-null int64\n",
      "ALT 1                              1385 non-null int64\n",
      "ALT4                               1385 non-null int64\n",
      "ALT 12                             1385 non-null int64\n",
      "ALT 24                             1385 non-null int64\n",
      "ALT 36                             1385 non-null int64\n",
      "ALT 48                             1385 non-null int64\n",
      "ALT after 24 w                     1385 non-null int64\n",
      "RNA Base                           1385 non-null int64\n",
      "RNA 4                              1385 non-null int64\n",
      "RNA 12                             1385 non-null int64\n",
      "RNA EOT                            1385 non-null int64\n",
      "RNA EF                             1385 non-null int64\n",
      "Baseline histological Grading      1385 non-null int64\n",
      "Baselinehistological staging       1385 non-null int64\n",
      "Transplant                         1385 non-null int64\n",
      "dtypes: int64(31)\n",
      "memory usage: 335.6 KB\n"
     ]
    }
   ],
   "source": [
    "data.info()"
   ]
  },
  {
   "cell_type": "code",
   "execution_count": 8,
   "metadata": {},
   "outputs": [],
   "source": [
    "map_dummies = {'Gender': {1: '0', 2: '1'},\n",
    "              'Fever': {1: '0', 2: '1'},\n",
    "              'Nausea/Vomting': {1: '0', 2: '1'},\n",
    "              'Headache': {1: '0', 2: '1'},\n",
    "              'Diarrhea': {1: '0', 2: '1'},\n",
    "              'Fatigue & generalized bone ache': {1: '0', 2: '1'},\n",
    "              'Jaundice': {1: '0', 2: '1'},\n",
    "              'Epigastric pain': {1: '0', 2: '1'}}"
   ]
  },
  {
   "cell_type": "code",
   "execution_count": 9,
   "metadata": {},
   "outputs": [
    {
     "data": {
      "text/html": [
       "<div>\n",
       "<style scoped>\n",
       "    .dataframe tbody tr th:only-of-type {\n",
       "        vertical-align: middle;\n",
       "    }\n",
       "\n",
       "    .dataframe tbody tr th {\n",
       "        vertical-align: top;\n",
       "    }\n",
       "\n",
       "    .dataframe thead th {\n",
       "        text-align: right;\n",
       "    }\n",
       "</style>\n",
       "<table border=\"1\" class=\"dataframe\">\n",
       "  <thead>\n",
       "    <tr style=\"text-align: right;\">\n",
       "      <th></th>\n",
       "      <th>Unnamed: 0</th>\n",
       "      <th>Age</th>\n",
       "      <th>Gender</th>\n",
       "      <th>BMI</th>\n",
       "      <th>Fever</th>\n",
       "      <th>Nausea/Vomting</th>\n",
       "      <th>Headache</th>\n",
       "      <th>Diarrhea</th>\n",
       "      <th>Fatigue &amp; generalized bone ache</th>\n",
       "      <th>Jaundice</th>\n",
       "      <th>...</th>\n",
       "      <th>ALT 48</th>\n",
       "      <th>ALT after 24 w</th>\n",
       "      <th>RNA Base</th>\n",
       "      <th>RNA 4</th>\n",
       "      <th>RNA 12</th>\n",
       "      <th>RNA EOT</th>\n",
       "      <th>RNA EF</th>\n",
       "      <th>Baseline histological Grading</th>\n",
       "      <th>Baselinehistological staging</th>\n",
       "      <th>Transplant</th>\n",
       "    </tr>\n",
       "  </thead>\n",
       "  <tbody>\n",
       "    <tr>\n",
       "      <td>0</td>\n",
       "      <td>0</td>\n",
       "      <td>56</td>\n",
       "      <td>0</td>\n",
       "      <td>35</td>\n",
       "      <td>0</td>\n",
       "      <td>0</td>\n",
       "      <td>0</td>\n",
       "      <td>0</td>\n",
       "      <td>0</td>\n",
       "      <td>0</td>\n",
       "      <td>...</td>\n",
       "      <td>84</td>\n",
       "      <td>34</td>\n",
       "      <td>655330</td>\n",
       "      <td>634536</td>\n",
       "      <td>288194</td>\n",
       "      <td>386384</td>\n",
       "      <td>387088</td>\n",
       "      <td>13</td>\n",
       "      <td>2</td>\n",
       "      <td>0</td>\n",
       "    </tr>\n",
       "    <tr>\n",
       "      <td>1</td>\n",
       "      <td>1</td>\n",
       "      <td>46</td>\n",
       "      <td>0</td>\n",
       "      <td>29</td>\n",
       "      <td>0</td>\n",
       "      <td>0</td>\n",
       "      <td>0</td>\n",
       "      <td>0</td>\n",
       "      <td>0</td>\n",
       "      <td>0</td>\n",
       "      <td>...</td>\n",
       "      <td>123</td>\n",
       "      <td>44</td>\n",
       "      <td>40620</td>\n",
       "      <td>538635</td>\n",
       "      <td>637056</td>\n",
       "      <td>336804</td>\n",
       "      <td>31085</td>\n",
       "      <td>4</td>\n",
       "      <td>2</td>\n",
       "      <td>0</td>\n",
       "    </tr>\n",
       "    <tr>\n",
       "      <td>2</td>\n",
       "      <td>2</td>\n",
       "      <td>57</td>\n",
       "      <td>0</td>\n",
       "      <td>33</td>\n",
       "      <td>0</td>\n",
       "      <td>0</td>\n",
       "      <td>0</td>\n",
       "      <td>0</td>\n",
       "      <td>0</td>\n",
       "      <td>0</td>\n",
       "      <td>...</td>\n",
       "      <td>84</td>\n",
       "      <td>34</td>\n",
       "      <td>571148</td>\n",
       "      <td>661346</td>\n",
       "      <td>406373</td>\n",
       "      <td>735945</td>\n",
       "      <td>558829</td>\n",
       "      <td>4</td>\n",
       "      <td>4</td>\n",
       "      <td>1</td>\n",
       "    </tr>\n",
       "    <tr>\n",
       "      <td>3</td>\n",
       "      <td>3</td>\n",
       "      <td>49</td>\n",
       "      <td>0</td>\n",
       "      <td>33</td>\n",
       "      <td>0</td>\n",
       "      <td>0</td>\n",
       "      <td>0</td>\n",
       "      <td>0</td>\n",
       "      <td>0</td>\n",
       "      <td>0</td>\n",
       "      <td>...</td>\n",
       "      <td>77</td>\n",
       "      <td>33</td>\n",
       "      <td>1041941</td>\n",
       "      <td>449939</td>\n",
       "      <td>585688</td>\n",
       "      <td>744463</td>\n",
       "      <td>582301</td>\n",
       "      <td>10</td>\n",
       "      <td>3</td>\n",
       "      <td>0</td>\n",
       "    </tr>\n",
       "    <tr>\n",
       "      <td>4</td>\n",
       "      <td>4</td>\n",
       "      <td>59</td>\n",
       "      <td>0</td>\n",
       "      <td>32</td>\n",
       "      <td>0</td>\n",
       "      <td>0</td>\n",
       "      <td>0</td>\n",
       "      <td>0</td>\n",
       "      <td>0</td>\n",
       "      <td>0</td>\n",
       "      <td>...</td>\n",
       "      <td>90</td>\n",
       "      <td>30</td>\n",
       "      <td>660410</td>\n",
       "      <td>738756</td>\n",
       "      <td>3731527</td>\n",
       "      <td>338946</td>\n",
       "      <td>242861</td>\n",
       "      <td>11</td>\n",
       "      <td>1</td>\n",
       "      <td>0</td>\n",
       "    </tr>\n",
       "  </tbody>\n",
       "</table>\n",
       "<p>5 rows × 31 columns</p>\n",
       "</div>"
      ],
      "text/plain": [
       "   Unnamed: 0  Age Gender  BMI Fever Nausea/Vomting Headache Diarrhea  \\\n",
       "0           0   56      0   35     0              0        0        0   \n",
       "1           1   46      0   29     0              0        0        0   \n",
       "2           2   57      0   33     0              0        0        0   \n",
       "3           3   49      0   33     0              0        0        0   \n",
       "4           4   59      0   32     0              0        0        0   \n",
       "\n",
       "  Fatigue & generalized bone ache Jaundice  ... ALT 48  ALT after 24 w  \\\n",
       "0                               0        0  ...     84              34   \n",
       "1                               0        0  ...    123              44   \n",
       "2                               0        0  ...     84              34   \n",
       "3                               0        0  ...     77              33   \n",
       "4                               0        0  ...     90              30   \n",
       "\n",
       "   RNA Base   RNA 4   RNA 12  RNA EOT  RNA EF  Baseline histological Grading  \\\n",
       "0    655330  634536   288194   386384  387088                             13   \n",
       "1     40620  538635   637056   336804   31085                              4   \n",
       "2    571148  661346   406373   735945  558829                              4   \n",
       "3   1041941  449939   585688   744463  582301                             10   \n",
       "4    660410  738756  3731527   338946  242861                             11   \n",
       "\n",
       "   Baselinehistological staging  Transplant  \n",
       "0                             2           0  \n",
       "1                             2           0  \n",
       "2                             4           1  \n",
       "3                             3           0  \n",
       "4                             1           0  \n",
       "\n",
       "[5 rows x 31 columns]"
      ]
     },
     "execution_count": 9,
     "metadata": {},
     "output_type": "execute_result"
    }
   ],
   "source": [
    "data.replace(map_dummies, inplace=True)\n",
    "data.head()"
   ]
  },
  {
   "cell_type": "code",
   "execution_count": 10,
   "metadata": {},
   "outputs": [],
   "source": [
    "#create new column for transplant candidates\n",
    "data['Transplant'] = np.where(data['Baselinehistological staging']==4, '1', '0')"
   ]
  },
  {
   "cell_type": "code",
   "execution_count": 11,
   "metadata": {},
   "outputs": [
    {
     "data": {
      "text/html": [
       "<div>\n",
       "<style scoped>\n",
       "    .dataframe tbody tr th:only-of-type {\n",
       "        vertical-align: middle;\n",
       "    }\n",
       "\n",
       "    .dataframe tbody tr th {\n",
       "        vertical-align: top;\n",
       "    }\n",
       "\n",
       "    .dataframe thead th {\n",
       "        text-align: right;\n",
       "    }\n",
       "</style>\n",
       "<table border=\"1\" class=\"dataframe\">\n",
       "  <thead>\n",
       "    <tr style=\"text-align: right;\">\n",
       "      <th></th>\n",
       "      <th>Unnamed: 0</th>\n",
       "      <th>Age</th>\n",
       "      <th>Gender</th>\n",
       "      <th>BMI</th>\n",
       "      <th>Fever</th>\n",
       "      <th>Nausea/Vomting</th>\n",
       "      <th>Headache</th>\n",
       "      <th>Diarrhea</th>\n",
       "      <th>Fatigue &amp; generalized bone ache</th>\n",
       "      <th>Jaundice</th>\n",
       "      <th>...</th>\n",
       "      <th>ALT 48</th>\n",
       "      <th>ALT after 24 w</th>\n",
       "      <th>RNA Base</th>\n",
       "      <th>RNA 4</th>\n",
       "      <th>RNA 12</th>\n",
       "      <th>RNA EOT</th>\n",
       "      <th>RNA EF</th>\n",
       "      <th>Baseline histological Grading</th>\n",
       "      <th>Baselinehistological staging</th>\n",
       "      <th>Transplant</th>\n",
       "    </tr>\n",
       "  </thead>\n",
       "  <tbody>\n",
       "    <tr>\n",
       "      <td>0</td>\n",
       "      <td>0</td>\n",
       "      <td>56</td>\n",
       "      <td>0</td>\n",
       "      <td>35</td>\n",
       "      <td>0</td>\n",
       "      <td>0</td>\n",
       "      <td>0</td>\n",
       "      <td>0</td>\n",
       "      <td>0</td>\n",
       "      <td>0</td>\n",
       "      <td>...</td>\n",
       "      <td>84</td>\n",
       "      <td>34</td>\n",
       "      <td>655330</td>\n",
       "      <td>634536</td>\n",
       "      <td>288194</td>\n",
       "      <td>386384</td>\n",
       "      <td>387088</td>\n",
       "      <td>13</td>\n",
       "      <td>2</td>\n",
       "      <td>0</td>\n",
       "    </tr>\n",
       "    <tr>\n",
       "      <td>1</td>\n",
       "      <td>1</td>\n",
       "      <td>46</td>\n",
       "      <td>0</td>\n",
       "      <td>29</td>\n",
       "      <td>0</td>\n",
       "      <td>0</td>\n",
       "      <td>0</td>\n",
       "      <td>0</td>\n",
       "      <td>0</td>\n",
       "      <td>0</td>\n",
       "      <td>...</td>\n",
       "      <td>123</td>\n",
       "      <td>44</td>\n",
       "      <td>40620</td>\n",
       "      <td>538635</td>\n",
       "      <td>637056</td>\n",
       "      <td>336804</td>\n",
       "      <td>31085</td>\n",
       "      <td>4</td>\n",
       "      <td>2</td>\n",
       "      <td>0</td>\n",
       "    </tr>\n",
       "    <tr>\n",
       "      <td>2</td>\n",
       "      <td>2</td>\n",
       "      <td>57</td>\n",
       "      <td>0</td>\n",
       "      <td>33</td>\n",
       "      <td>0</td>\n",
       "      <td>0</td>\n",
       "      <td>0</td>\n",
       "      <td>0</td>\n",
       "      <td>0</td>\n",
       "      <td>0</td>\n",
       "      <td>...</td>\n",
       "      <td>84</td>\n",
       "      <td>34</td>\n",
       "      <td>571148</td>\n",
       "      <td>661346</td>\n",
       "      <td>406373</td>\n",
       "      <td>735945</td>\n",
       "      <td>558829</td>\n",
       "      <td>4</td>\n",
       "      <td>4</td>\n",
       "      <td>1</td>\n",
       "    </tr>\n",
       "    <tr>\n",
       "      <td>3</td>\n",
       "      <td>3</td>\n",
       "      <td>49</td>\n",
       "      <td>0</td>\n",
       "      <td>33</td>\n",
       "      <td>0</td>\n",
       "      <td>0</td>\n",
       "      <td>0</td>\n",
       "      <td>0</td>\n",
       "      <td>0</td>\n",
       "      <td>0</td>\n",
       "      <td>...</td>\n",
       "      <td>77</td>\n",
       "      <td>33</td>\n",
       "      <td>1041941</td>\n",
       "      <td>449939</td>\n",
       "      <td>585688</td>\n",
       "      <td>744463</td>\n",
       "      <td>582301</td>\n",
       "      <td>10</td>\n",
       "      <td>3</td>\n",
       "      <td>0</td>\n",
       "    </tr>\n",
       "    <tr>\n",
       "      <td>4</td>\n",
       "      <td>4</td>\n",
       "      <td>59</td>\n",
       "      <td>0</td>\n",
       "      <td>32</td>\n",
       "      <td>0</td>\n",
       "      <td>0</td>\n",
       "      <td>0</td>\n",
       "      <td>0</td>\n",
       "      <td>0</td>\n",
       "      <td>0</td>\n",
       "      <td>...</td>\n",
       "      <td>90</td>\n",
       "      <td>30</td>\n",
       "      <td>660410</td>\n",
       "      <td>738756</td>\n",
       "      <td>3731527</td>\n",
       "      <td>338946</td>\n",
       "      <td>242861</td>\n",
       "      <td>11</td>\n",
       "      <td>1</td>\n",
       "      <td>0</td>\n",
       "    </tr>\n",
       "  </tbody>\n",
       "</table>\n",
       "<p>5 rows × 31 columns</p>\n",
       "</div>"
      ],
      "text/plain": [
       "   Unnamed: 0  Age Gender  BMI Fever Nausea/Vomting Headache Diarrhea  \\\n",
       "0           0   56      0   35     0              0        0        0   \n",
       "1           1   46      0   29     0              0        0        0   \n",
       "2           2   57      0   33     0              0        0        0   \n",
       "3           3   49      0   33     0              0        0        0   \n",
       "4           4   59      0   32     0              0        0        0   \n",
       "\n",
       "  Fatigue & generalized bone ache Jaundice  ... ALT 48  ALT after 24 w  \\\n",
       "0                               0        0  ...     84              34   \n",
       "1                               0        0  ...    123              44   \n",
       "2                               0        0  ...     84              34   \n",
       "3                               0        0  ...     77              33   \n",
       "4                               0        0  ...     90              30   \n",
       "\n",
       "   RNA Base   RNA 4   RNA 12  RNA EOT  RNA EF  Baseline histological Grading  \\\n",
       "0    655330  634536   288194   386384  387088                             13   \n",
       "1     40620  538635   637056   336804   31085                              4   \n",
       "2    571148  661346   406373   735945  558829                              4   \n",
       "3   1041941  449939   585688   744463  582301                             10   \n",
       "4    660410  738756  3731527   338946  242861                             11   \n",
       "\n",
       "   Baselinehistological staging  Transplant  \n",
       "0                             2           0  \n",
       "1                             2           0  \n",
       "2                             4           1  \n",
       "3                             3           0  \n",
       "4                             1           0  \n",
       "\n",
       "[5 rows x 31 columns]"
      ]
     },
     "execution_count": 11,
     "metadata": {},
     "output_type": "execute_result"
    }
   ],
   "source": [
    "data.head()"
   ]
  },
  {
   "cell_type": "code",
   "execution_count": 12,
   "metadata": {},
   "outputs": [
    {
     "data": {
      "text/plain": [
       "<matplotlib.axes._subplots.AxesSubplot at 0x1a1e0e9990>"
      ]
     },
     "execution_count": 12,
     "metadata": {},
     "output_type": "execute_result"
    },
    {
     "data": {
      "image/png": "[encoded data removed]",
      "text/plain": [
       "<Figure size 432x288 with 1 Axes>"
      ]
     },
     "metadata": {
      "needs_background": "light"
     },
     "output_type": "display_data"
    }
   ],
   "source": [
    "data['Transplant'].value_counts().plot(kind='bar')"
   ]
  },
  {
   "cell_type": "code",
   "execution_count": 13,
   "metadata": {},
   "outputs": [
    {
     "data": {
      "image/png": "[encoded data removed]",
      "text/plain": [
       "<Figure size 432x288 with 1 Axes>"
      ]
     },
     "metadata": {
      "needs_background": "light"
     },
     "output_type": "display_data"
    }
   ],
   "source": [
    "#sns.set(style=\"darkgrid\")\n",
    "ax = sns.countplot(x=\"Transplant\", data=data)\n"
   ]
  },
  {
   "cell_type": "code",
   "execution_count": 14,
   "metadata": {},
   "outputs": [
    {
     "data": {
      "text/plain": [
       "0    1023\n",
       "1     362\n",
       "Name: Transplant, dtype: int64"
      ]
     },
     "execution_count": 14,
     "metadata": {},
     "output_type": "execute_result"
    }
   ],
   "source": [
    "data['Transplant'].value_counts()"
   ]
  },
  {
   "cell_type": "code",
   "execution_count": 15,
   "metadata": {},
   "outputs": [],
   "source": [
    "#df[df.data == 0] = np.nan\n",
    "#df.fillna(df.median())\n",
    "\n",
    "data[data == 5] = np.nan\n",
    "df_edit = data.fillna(data.median())"
   ]
  },
  {
   "cell_type": "code",
   "execution_count": 16,
   "metadata": {},
   "outputs": [
    {
     "data": {
      "text/html": [
       "<div>\n",
       "<style scoped>\n",
       "    .dataframe tbody tr th:only-of-type {\n",
       "        vertical-align: middle;\n",
       "    }\n",
       "\n",
       "    .dataframe tbody tr th {\n",
       "        vertical-align: top;\n",
       "    }\n",
       "\n",
       "    .dataframe thead th {\n",
       "        text-align: right;\n",
       "    }\n",
       "</style>\n",
       "<table border=\"1\" class=\"dataframe\">\n",
       "  <thead>\n",
       "    <tr style=\"text-align: right;\">\n",
       "      <th></th>\n",
       "      <th>Unnamed: 0</th>\n",
       "      <th>Age</th>\n",
       "      <th>Gender</th>\n",
       "      <th>BMI</th>\n",
       "      <th>Fever</th>\n",
       "      <th>Nausea/Vomting</th>\n",
       "      <th>Headache</th>\n",
       "      <th>Diarrhea</th>\n",
       "      <th>Fatigue &amp; generalized bone ache</th>\n",
       "      <th>Jaundice</th>\n",
       "      <th>...</th>\n",
       "      <th>ALT 48</th>\n",
       "      <th>ALT after 24 w</th>\n",
       "      <th>RNA Base</th>\n",
       "      <th>RNA 4</th>\n",
       "      <th>RNA 12</th>\n",
       "      <th>RNA EOT</th>\n",
       "      <th>RNA EF</th>\n",
       "      <th>Baseline histological Grading</th>\n",
       "      <th>Baselinehistological staging</th>\n",
       "      <th>Transplant</th>\n",
       "    </tr>\n",
       "  </thead>\n",
       "  <tbody>\n",
       "    <tr>\n",
       "      <td>0</td>\n",
       "      <td>0.0</td>\n",
       "      <td>56</td>\n",
       "      <td>0</td>\n",
       "      <td>35</td>\n",
       "      <td>0</td>\n",
       "      <td>0</td>\n",
       "      <td>0</td>\n",
       "      <td>0</td>\n",
       "      <td>0</td>\n",
       "      <td>0</td>\n",
       "      <td>...</td>\n",
       "      <td>84</td>\n",
       "      <td>34</td>\n",
       "      <td>655330</td>\n",
       "      <td>634536</td>\n",
       "      <td>288194</td>\n",
       "      <td>386384</td>\n",
       "      <td>387088</td>\n",
       "      <td>13</td>\n",
       "      <td>2</td>\n",
       "      <td>0</td>\n",
       "    </tr>\n",
       "    <tr>\n",
       "      <td>1</td>\n",
       "      <td>1.0</td>\n",
       "      <td>46</td>\n",
       "      <td>0</td>\n",
       "      <td>29</td>\n",
       "      <td>0</td>\n",
       "      <td>0</td>\n",
       "      <td>0</td>\n",
       "      <td>0</td>\n",
       "      <td>0</td>\n",
       "      <td>0</td>\n",
       "      <td>...</td>\n",
       "      <td>123</td>\n",
       "      <td>44</td>\n",
       "      <td>40620</td>\n",
       "      <td>538635</td>\n",
       "      <td>637056</td>\n",
       "      <td>336804</td>\n",
       "      <td>31085</td>\n",
       "      <td>4</td>\n",
       "      <td>2</td>\n",
       "      <td>0</td>\n",
       "    </tr>\n",
       "    <tr>\n",
       "      <td>2</td>\n",
       "      <td>2.0</td>\n",
       "      <td>57</td>\n",
       "      <td>0</td>\n",
       "      <td>33</td>\n",
       "      <td>0</td>\n",
       "      <td>0</td>\n",
       "      <td>0</td>\n",
       "      <td>0</td>\n",
       "      <td>0</td>\n",
       "      <td>0</td>\n",
       "      <td>...</td>\n",
       "      <td>84</td>\n",
       "      <td>34</td>\n",
       "      <td>571148</td>\n",
       "      <td>661346</td>\n",
       "      <td>406373</td>\n",
       "      <td>735945</td>\n",
       "      <td>558829</td>\n",
       "      <td>4</td>\n",
       "      <td>4</td>\n",
       "      <td>1</td>\n",
       "    </tr>\n",
       "    <tr>\n",
       "      <td>3</td>\n",
       "      <td>3.0</td>\n",
       "      <td>49</td>\n",
       "      <td>0</td>\n",
       "      <td>33</td>\n",
       "      <td>0</td>\n",
       "      <td>0</td>\n",
       "      <td>0</td>\n",
       "      <td>0</td>\n",
       "      <td>0</td>\n",
       "      <td>0</td>\n",
       "      <td>...</td>\n",
       "      <td>77</td>\n",
       "      <td>33</td>\n",
       "      <td>1041941</td>\n",
       "      <td>449939</td>\n",
       "      <td>585688</td>\n",
       "      <td>744463</td>\n",
       "      <td>582301</td>\n",
       "      <td>10</td>\n",
       "      <td>3</td>\n",
       "      <td>0</td>\n",
       "    </tr>\n",
       "    <tr>\n",
       "      <td>4</td>\n",
       "      <td>4.0</td>\n",
       "      <td>59</td>\n",
       "      <td>0</td>\n",
       "      <td>32</td>\n",
       "      <td>0</td>\n",
       "      <td>0</td>\n",
       "      <td>0</td>\n",
       "      <td>0</td>\n",
       "      <td>0</td>\n",
       "      <td>0</td>\n",
       "      <td>...</td>\n",
       "      <td>90</td>\n",
       "      <td>30</td>\n",
       "      <td>660410</td>\n",
       "      <td>738756</td>\n",
       "      <td>3731527</td>\n",
       "      <td>338946</td>\n",
       "      <td>242861</td>\n",
       "      <td>11</td>\n",
       "      <td>1</td>\n",
       "      <td>0</td>\n",
       "    </tr>\n",
       "  </tbody>\n",
       "</table>\n",
       "<p>5 rows × 31 columns</p>\n",
       "</div>"
      ],
      "text/plain": [
       "   Unnamed: 0  Age Gender  BMI Fever Nausea/Vomting Headache Diarrhea  \\\n",
       "0         0.0   56      0   35     0              0        0        0   \n",
       "1         1.0   46      0   29     0              0        0        0   \n",
       "2         2.0   57      0   33     0              0        0        0   \n",
       "3         3.0   49      0   33     0              0        0        0   \n",
       "4         4.0   59      0   32     0              0        0        0   \n",
       "\n",
       "  Fatigue & generalized bone ache Jaundice  ... ALT 48  ALT after 24 w  \\\n",
       "0                               0        0  ...     84              34   \n",
       "1                               0        0  ...    123              44   \n",
       "2                               0        0  ...     84              34   \n",
       "3                               0        0  ...     77              33   \n",
       "4                               0        0  ...     90              30   \n",
       "\n",
       "   RNA Base   RNA 4   RNA 12  RNA EOT  RNA EF  Baseline histological Grading  \\\n",
       "0    655330  634536   288194   386384  387088                             13   \n",
       "1     40620  538635   637056   336804   31085                              4   \n",
       "2    571148  661346   406373   735945  558829                              4   \n",
       "3   1041941  449939   585688   744463  582301                             10   \n",
       "4    660410  738756  3731527   338946  242861                             11   \n",
       "\n",
       "   Baselinehistological staging  Transplant  \n",
       "0                             2           0  \n",
       "1                             2           0  \n",
       "2                             4           1  \n",
       "3                             3           0  \n",
       "4                             1           0  \n",
       "\n",
       "[5 rows x 31 columns]"
      ]
     },
     "execution_count": 16,
     "metadata": {},
     "output_type": "execute_result"
    }
   ],
   "source": [
    "df_edit.head()"
   ]
  },
  {
   "cell_type": "code",
   "execution_count": 17,
   "metadata": {},
   "outputs": [
    {
     "name": "stdout",
     "output_type": "stream",
     "text": [
      "<class 'pandas.core.frame.DataFrame'>\n",
      "RangeIndex: 1385 entries, 0 to 1384\n",
      "Data columns (total 31 columns):\n",
      "Unnamed: 0                         1385 non-null float64\n",
      "Age                                1385 non-null int64\n",
      "Gender                             1385 non-null object\n",
      "BMI                                1385 non-null int64\n",
      "Fever                              1385 non-null object\n",
      "Nausea/Vomting                     1385 non-null object\n",
      "Headache                           1385 non-null object\n",
      "Diarrhea                           1385 non-null object\n",
      "Fatigue & generalized bone ache    1385 non-null object\n",
      "Jaundice                           1385 non-null object\n",
      "Epigastric pain                    1385 non-null object\n",
      "WBC                                1385 non-null int64\n",
      "RBC                                1385 non-null int64\n",
      "HGB                                1385 non-null int64\n",
      "Plat                               1385 non-null int64\n",
      "AST 1                              1385 non-null int64\n",
      "ALT 1                              1385 non-null int64\n",
      "ALT4                               1385 non-null int64\n",
      "ALT 12                             1385 non-null int64\n",
      "ALT 24                             1385 non-null int64\n",
      "ALT 36                             1385 non-null int64\n",
      "ALT 48                             1385 non-null int64\n",
      "ALT after 24 w                     1385 non-null int64\n",
      "RNA Base                           1385 non-null int64\n",
      "RNA 4                              1385 non-null int64\n",
      "RNA 12                             1385 non-null int64\n",
      "RNA EOT                            1385 non-null int64\n",
      "RNA EF                             1385 non-null int64\n",
      "Baseline histological Grading      1385 non-null int64\n",
      "Baselinehistological staging       1385 non-null int64\n",
      "Transplant                         1385 non-null object\n",
      "dtypes: float64(1), int64(21), object(9)\n",
      "memory usage: 335.6+ KB\n"
     ]
    }
   ],
   "source": [
    "df_edit.info()"
   ]
  },
  {
   "cell_type": "code",
   "execution_count": 18,
   "metadata": {
    "collapsed": true
   },
   "outputs": [
    {
     "name": "stdout",
     "output_type": "stream",
     "text": [
      "<class 'pandas.core.frame.DataFrame'>\n",
      "RangeIndex: 1385 entries, 0 to 1384\n",
      "Data columns (total 31 columns):\n",
      "Unnamed: 0                         1385 non-null float64\n",
      "Age                                1385 non-null int64\n",
      "Gender                             1385 non-null object\n",
      "BMI                                1385 non-null int64\n",
      "Fever                              1385 non-null object\n",
      "Nausea/Vomting                     1385 non-null object\n",
      "Headache                           1385 non-null object\n",
      "Diarrhea                           1385 non-null object\n",
      "Fatigue & generalized bone ache    1385 non-null object\n",
      "Jaundice                           1385 non-null object\n",
      "Epigastric pain                    1385 non-null object\n",
      "WBC                                1385 non-null int64\n",
      "RBC                                1385 non-null int64\n",
      "HGB                                1385 non-null int64\n",
      "Plat                               1385 non-null int64\n",
      "AST 1                              1385 non-null int64\n",
      "ALT 1                              1385 non-null int64\n",
      "ALT4                               1385 non-null int64\n",
      "ALT 12                             1385 non-null int64\n",
      "ALT 24                             1385 non-null int64\n",
      "ALT 36                             1385 non-null int64\n",
      "ALT 48                             1385 non-null int64\n",
      "ALT after 24 w                     1385 non-null int64\n",
      "RNA Base                           1385 non-null int64\n",
      "RNA 4                              1385 non-null int64\n",
      "RNA 12                             1385 non-null int64\n",
      "RNA EOT                            1385 non-null int64\n",
      "RNA EF                             1385 non-null int64\n",
      "Baseline histological Grading      1385 non-null int64\n",
      "Baselinehistological staging       1385 non-null int64\n",
      "Transplant                         1385 non-null object\n",
      "dtypes: float64(1), int64(21), object(9)\n",
      "memory usage: 335.6+ KB\n"
     ]
    }
   ],
   "source": [
    "df_edit['ALT 36'] = df_edit['ALT 36'].astype('int64')\n",
    "df_edit['ALT 48'] = df_edit['ALT 48'].astype('int64')\n",
    "df_edit['ALT after 24 w'] = df_edit['ALT after 24 w'].astype('int64')\n",
    "df_edit['RNA 4'] = df_edit['RNA 4'].astype('int64')\n",
    "df_edit['RNA 12'] = df_edit['RNA 12'].astype('int64')\n",
    "df_edit['RNA EOT'] = df_edit['RNA EOT'].astype('int64')\n",
    "df_edit['RNA EF'] = df_edit['RNA EF'].astype('int64')\n",
    "df_edit['RNA 4'] = df_edit['RNA 4'].astype('int64')\n",
    "df_edit['Baseline histological Grading'] = df_edit['Baseline histological Grading'].astype('int64') #re-replace with non-median values\n",
    "df_edit.info()"
   ]
  },
  {
   "cell_type": "code",
   "execution_count": 19,
   "metadata": {},
   "outputs": [],
   "source": [
    "df_edit.to_csv('HepCDF.csv')"
   ]
  },
  {
   "cell_type": "code",
   "execution_count": 20,
   "metadata": {},
   "outputs": [],
   "source": [
    "data = pd.read_csv('HepCDF.csv')"
   ]
  },
  {
   "cell_type": "code",
   "execution_count": 21,
   "metadata": {},
   "outputs": [
    {
     "data": {
      "text/html": [
       "<div>\n",
       "<style scoped>\n",
       "    .dataframe tbody tr th:only-of-type {\n",
       "        vertical-align: middle;\n",
       "    }\n",
       "\n",
       "    .dataframe tbody tr th {\n",
       "        vertical-align: top;\n",
       "    }\n",
       "\n",
       "    .dataframe thead th {\n",
       "        text-align: right;\n",
       "    }\n",
       "</style>\n",
       "<table border=\"1\" class=\"dataframe\">\n",
       "  <thead>\n",
       "    <tr style=\"text-align: right;\">\n",
       "      <th></th>\n",
       "      <th>Unnamed: 0</th>\n",
       "      <th>Unnamed: 0.1</th>\n",
       "      <th>Age</th>\n",
       "      <th>Gender</th>\n",
       "      <th>BMI</th>\n",
       "      <th>Fever</th>\n",
       "      <th>Nausea/Vomting</th>\n",
       "      <th>Headache</th>\n",
       "      <th>Diarrhea</th>\n",
       "      <th>Fatigue &amp; generalized bone ache</th>\n",
       "      <th>...</th>\n",
       "      <th>ALT 48</th>\n",
       "      <th>ALT after 24 w</th>\n",
       "      <th>RNA Base</th>\n",
       "      <th>RNA 4</th>\n",
       "      <th>RNA 12</th>\n",
       "      <th>RNA EOT</th>\n",
       "      <th>RNA EF</th>\n",
       "      <th>Baseline histological Grading</th>\n",
       "      <th>Baselinehistological staging</th>\n",
       "      <th>Transplant</th>\n",
       "    </tr>\n",
       "  </thead>\n",
       "  <tbody>\n",
       "    <tr>\n",
       "      <td>0</td>\n",
       "      <td>0</td>\n",
       "      <td>0.0</td>\n",
       "      <td>56</td>\n",
       "      <td>0</td>\n",
       "      <td>35</td>\n",
       "      <td>0</td>\n",
       "      <td>0</td>\n",
       "      <td>0</td>\n",
       "      <td>0</td>\n",
       "      <td>0</td>\n",
       "      <td>...</td>\n",
       "      <td>84</td>\n",
       "      <td>34</td>\n",
       "      <td>655330</td>\n",
       "      <td>634536</td>\n",
       "      <td>288194</td>\n",
       "      <td>386384</td>\n",
       "      <td>387088</td>\n",
       "      <td>13</td>\n",
       "      <td>2</td>\n",
       "      <td>0</td>\n",
       "    </tr>\n",
       "    <tr>\n",
       "      <td>1</td>\n",
       "      <td>1</td>\n",
       "      <td>1.0</td>\n",
       "      <td>46</td>\n",
       "      <td>0</td>\n",
       "      <td>29</td>\n",
       "      <td>0</td>\n",
       "      <td>0</td>\n",
       "      <td>0</td>\n",
       "      <td>0</td>\n",
       "      <td>0</td>\n",
       "      <td>...</td>\n",
       "      <td>123</td>\n",
       "      <td>44</td>\n",
       "      <td>40620</td>\n",
       "      <td>538635</td>\n",
       "      <td>637056</td>\n",
       "      <td>336804</td>\n",
       "      <td>31085</td>\n",
       "      <td>4</td>\n",
       "      <td>2</td>\n",
       "      <td>0</td>\n",
       "    </tr>\n",
       "    <tr>\n",
       "      <td>2</td>\n",
       "      <td>2</td>\n",
       "      <td>2.0</td>\n",
       "      <td>57</td>\n",
       "      <td>0</td>\n",
       "      <td>33</td>\n",
       "      <td>0</td>\n",
       "      <td>0</td>\n",
       "      <td>0</td>\n",
       "      <td>0</td>\n",
       "      <td>0</td>\n",
       "      <td>...</td>\n",
       "      <td>84</td>\n",
       "      <td>34</td>\n",
       "      <td>571148</td>\n",
       "      <td>661346</td>\n",
       "      <td>406373</td>\n",
       "      <td>735945</td>\n",
       "      <td>558829</td>\n",
       "      <td>4</td>\n",
       "      <td>4</td>\n",
       "      <td>1</td>\n",
       "    </tr>\n",
       "    <tr>\n",
       "      <td>3</td>\n",
       "      <td>3</td>\n",
       "      <td>3.0</td>\n",
       "      <td>49</td>\n",
       "      <td>0</td>\n",
       "      <td>33</td>\n",
       "      <td>0</td>\n",
       "      <td>0</td>\n",
       "      <td>0</td>\n",
       "      <td>0</td>\n",
       "      <td>0</td>\n",
       "      <td>...</td>\n",
       "      <td>77</td>\n",
       "      <td>33</td>\n",
       "      <td>1041941</td>\n",
       "      <td>449939</td>\n",
       "      <td>585688</td>\n",
       "      <td>744463</td>\n",
       "      <td>582301</td>\n",
       "      <td>10</td>\n",
       "      <td>3</td>\n",
       "      <td>0</td>\n",
       "    </tr>\n",
       "    <tr>\n",
       "      <td>4</td>\n",
       "      <td>4</td>\n",
       "      <td>4.0</td>\n",
       "      <td>59</td>\n",
       "      <td>0</td>\n",
       "      <td>32</td>\n",
       "      <td>0</td>\n",
       "      <td>0</td>\n",
       "      <td>0</td>\n",
       "      <td>0</td>\n",
       "      <td>0</td>\n",
       "      <td>...</td>\n",
       "      <td>90</td>\n",
       "      <td>30</td>\n",
       "      <td>660410</td>\n",
       "      <td>738756</td>\n",
       "      <td>3731527</td>\n",
       "      <td>338946</td>\n",
       "      <td>242861</td>\n",
       "      <td>11</td>\n",
       "      <td>1</td>\n",
       "      <td>0</td>\n",
       "    </tr>\n",
       "  </tbody>\n",
       "</table>\n",
       "<p>5 rows × 32 columns</p>\n",
       "</div>"
      ],
      "text/plain": [
       "   Unnamed: 0  Unnamed: 0.1  Age  Gender  BMI  Fever  Nausea/Vomting  \\\n",
       "0           0           0.0   56       0   35      0               0   \n",
       "1           1           1.0   46       0   29      0               0   \n",
       "2           2           2.0   57       0   33      0               0   \n",
       "3           3           3.0   49       0   33      0               0   \n",
       "4           4           4.0   59       0   32      0               0   \n",
       "\n",
       "   Headache  Diarrhea  Fatigue & generalized bone ache  ...  ALT 48  \\\n",
       "0         0         0                                0  ...      84   \n",
       "1         0         0                                0  ...     123   \n",
       "2         0         0                                0  ...      84   \n",
       "3         0         0                                0  ...      77   \n",
       "4         0         0                                0  ...      90   \n",
       "\n",
       "   ALT after 24 w  RNA Base   RNA 4   RNA 12  RNA EOT  RNA EF  \\\n",
       "0              34    655330  634536   288194   386384  387088   \n",
       "1              44     40620  538635   637056   336804   31085   \n",
       "2              34    571148  661346   406373   735945  558829   \n",
       "3              33   1041941  449939   585688   744463  582301   \n",
       "4              30    660410  738756  3731527   338946  242861   \n",
       "\n",
       "   Baseline histological Grading  Baselinehistological staging  Transplant  \n",
       "0                             13                             2           0  \n",
       "1                              4                             2           0  \n",
       "2                              4                             4           1  \n",
       "3                             10                             3           0  \n",
       "4                             11                             1           0  \n",
       "\n",
       "[5 rows x 32 columns]"
      ]
     },
     "execution_count": 21,
     "metadata": {},
     "output_type": "execute_result"
    }
   ],
   "source": [
    "data.head()"
   ]
  },
  {
   "cell_type": "code",
   "execution_count": 22,
   "metadata": {},
   "outputs": [],
   "source": [
    "data.drop(['Unnamed: 0'], axis = 1, inplace=True)"
   ]
  },
  {
   "cell_type": "code",
   "execution_count": 23,
   "metadata": {},
   "outputs": [],
   "source": [
    "data.to_csv('HepCDF.csv')"
   ]
  },
  {
   "cell_type": "code",
   "execution_count": 24,
   "metadata": {},
   "outputs": [
    {
     "data": {
      "text/plain": [
       "<matplotlib.axes._subplots.AxesSubplot at 0x1c2067d7d0>"
      ]
     },
     "execution_count": 24,
     "metadata": {},
     "output_type": "execute_result"
    },
    {
     "data": {
      "image/png": "[encoded data removed]",
      "text/plain": [
       "<Figure size 792x648 with 2 Axes>"
      ]
     },
     "metadata": {
      "needs_background": "light"
     },
     "output_type": "display_data"
    }
   ],
   "source": [
    "#compute correlation matrix\n",
    "corr = data.corr()\n",
    "\n",
    "#this masks the upper triangle of the heatmap\n",
    "mask = np.triu(np.ones_like(corr, dtype=np.bool))\n",
    "\n",
    "#this sets up the figure\n",
    "f, ax = plt.subplots(figsize=(11, 9))\n",
    "\n",
    "#this is a custom diverging colormap\n",
    "cmap = sns.diverging_palette(220, 10, as_cmap=True)\n",
    "\n",
    "sns.heatmap(corr, mask=mask, cmap=cmap, vmin= -0.3, vmax=0.3, center=0,\n",
    "            square=True, linewidths=.5, cbar_kws={\"shrink\": .5})"
   ]
  },
  {
   "cell_type": "code",
   "execution_count": 52,
   "metadata": {},
   "outputs": [],
   "source": [
    "data.drop(['Unnamed: 0.1'], axis = 1, inplace=True)"
   ]
  },
  {
   "cell_type": "code",
   "execution_count": 53,
   "metadata": {},
   "outputs": [
    {
     "data": {
      "text/plain": [
       "<matplotlib.axes._subplots.AxesSubplot at 0x1c21385ad0>"
      ]
     },
     "execution_count": 53,
     "metadata": {},
     "output_type": "execute_result"
    },
    {
     "data": {
      "image/png": "[encoded data removed]",
      "text/plain": [
       "<Figure size 792x648 with 2 Axes>"
      ]
     },
     "metadata": {
      "needs_background": "light"
     },
     "output_type": "display_data"
    }
   ],
   "source": [
    "#compute correlation matrix\n",
    "corr = data.corr()\n",
    "\n",
    "#this masks the upper triangle of the heatmap\n",
    "mask = np.triu(np.ones_like(corr, dtype=np.bool))\n",
    "\n",
    "#this sets up the figure\n",
    "f, ax = plt.subplots(figsize=(11, 9))\n",
    "\n",
    "#this is a custom diverging colormap\n",
    "cmap = sns.diverging_palette(220, 10, as_cmap=True)\n",
    "\n",
    "sns.heatmap(corr, mask=mask, cmap=cmap, vmin= -0.3, vmax=0.3, center=0,\n",
    "            square=True, linewidths=.5, cbar_kws={\"shrink\": .5})"
   ]
  },
  {
   "cell_type": "code",
   "execution_count": 54,
   "metadata": {},
   "outputs": [
    {
     "name": "stdout",
     "output_type": "stream",
     "text": [
      "<class 'pandas.core.frame.DataFrame'>\n",
      "RangeIndex: 1385 entries, 0 to 1384\n",
      "Data columns (total 29 columns):\n",
      "Age                                1385 non-null float64\n",
      "Gender                             1385 non-null object\n",
      "BMI                                1385 non-null float64\n",
      "Fever                              1385 non-null object\n",
      "Nausea/Vomting                     1385 non-null object\n",
      "Headache                           1385 non-null object\n",
      "Diarrhea                           1385 non-null object\n",
      "Fatigue & generalized bone ache    1385 non-null object\n",
      "Jaundice                           1385 non-null object\n",
      "Epigastric pain                    1385 non-null object\n",
      "WBC                                1385 non-null float64\n",
      "RBC                                1385 non-null float64\n",
      "HGB                                1385 non-null float64\n",
      "Plat                               1385 non-null float64\n",
      "AST 1                              1385 non-null float64\n",
      "ALT 1                              1385 non-null float64\n",
      "ALT4                               1385 non-null float64\n",
      "ALT 12                             1385 non-null float64\n",
      "ALT 24                             1385 non-null float64\n",
      "ALT 36                             1385 non-null float64\n",
      "ALT 48                             1385 non-null float64\n",
      "ALT after 24 w                     1385 non-null float64\n",
      "RNA Base                           1385 non-null float64\n",
      "RNA 4                              1385 non-null float64\n",
      "RNA 12                             1385 non-null float64\n",
      "RNA EOT                            1385 non-null float64\n",
      "RNA EF                             1385 non-null float64\n",
      "Baseline histological Grading      1385 non-null object\n",
      "Transplant                         1385 non-null object\n",
      "dtypes: float64(19), object(10)\n",
      "memory usage: 313.9+ KB\n"
     ]
    }
   ],
   "source": [
    "data.info()"
   ]
  },
  {
   "cell_type": "code",
   "execution_count": 55,
   "metadata": {},
   "outputs": [],
   "source": [
    "data['Age'] = data['Age'].astype('float64')\n",
    "data['Gender'] = data['Gender'].astype('object')\n",
    "data['Fever'] = data['Fever'].astype('object')\n",
    "data['Nausea/Vomting'] = data['Nausea/Vomting'].astype('object')\n",
    "data['Headache'] = data['Headache'].astype('object')\n",
    "data['Diarrhea'] = data['Diarrhea'].astype('object')\n",
    "data['Fatigue & generalized bone ache'] = data['Fatigue & generalized bone ache'].astype('object')\n",
    "data['Jaundice'] = data['Jaundice'].astype('object')\n",
    "data['Epigastric pain'] = data['Epigastric pain'].astype('object')\n",
    "data['Baseline histological Grading'] = data['Baseline histological Grading'].astype('object')\n",
    "data['Transplant'] = data['Transplant'].astype('object')\n",
    "data['ALT 36'] = data['ALT 36'].astype('float64')\n",
    "data['ALT 48'] = data['ALT 48'].astype('float64')\n",
    "data['ALT after 24 w'] = data['ALT after 24 w'].astype('float64')\n",
    "data['RNA 4'] = data['RNA 4'].astype('float64')\n",
    "data['RNA 12'] = data['RNA 12'].astype('float64')\n",
    "data['RNA EOT'] = data['RNA EOT'].astype('float64')\n",
    "data['RNA EF'] = data['RNA EF'].astype('float64')\n",
    "data['RNA 4'] = data['RNA 4'].astype('float64')\n",
    "data['BMI'] = data['BMI'].astype('float64')\n",
    "data['WBC'] = data['WBC'].astype('float64')\n",
    "data['RBC'] = data['RBC'].astype('float64')\n",
    "data['HGB'] = data['HGB'].astype('float64')\n",
    "data['Plat'] = data['Plat'].astype('float64')\n",
    "data['AST 1'] = data['AST 1'].astype('float64')\n",
    "data['ALT 1'] = data['ALT 1'].astype('float64')\n",
    "data['ALT4'] = data['ALT4'].astype('float64')\n",
    "data['ALT 12'] = data['ALT 12'].astype('float64')\n",
    "data['ALT 24'] = data['ALT 24'].astype('float64')\n",
    "data['RNA Base'] = data['RNA Base'].astype('float64')"
   ]
  },
  {
   "cell_type": "code",
   "execution_count": 56,
   "metadata": {
    "scrolled": true
   },
   "outputs": [
    {
     "name": "stdout",
     "output_type": "stream",
     "text": [
      "<class 'pandas.core.frame.DataFrame'>\n",
      "RangeIndex: 1385 entries, 0 to 1384\n",
      "Data columns (total 29 columns):\n",
      "Age                                1385 non-null float64\n",
      "Gender                             1385 non-null object\n",
      "BMI                                1385 non-null float64\n",
      "Fever                              1385 non-null object\n",
      "Nausea/Vomting                     1385 non-null object\n",
      "Headache                           1385 non-null object\n",
      "Diarrhea                           1385 non-null object\n",
      "Fatigue & generalized bone ache    1385 non-null object\n",
      "Jaundice                           1385 non-null object\n",
      "Epigastric pain                    1385 non-null object\n",
      "WBC                                1385 non-null float64\n",
      "RBC                                1385 non-null float64\n",
      "HGB                                1385 non-null float64\n",
      "Plat                               1385 non-null float64\n",
      "AST 1                              1385 non-null float64\n",
      "ALT 1                              1385 non-null float64\n",
      "ALT4                               1385 non-null float64\n",
      "ALT 12                             1385 non-null float64\n",
      "ALT 24                             1385 non-null float64\n",
      "ALT 36                             1385 non-null float64\n",
      "ALT 48                             1385 non-null float64\n",
      "ALT after 24 w                     1385 non-null float64\n",
      "RNA Base                           1385 non-null float64\n",
      "RNA 4                              1385 non-null float64\n",
      "RNA 12                             1385 non-null float64\n",
      "RNA EOT                            1385 non-null float64\n",
      "RNA EF                             1385 non-null float64\n",
      "Baseline histological Grading      1385 non-null object\n",
      "Transplant                         1385 non-null object\n",
      "dtypes: float64(19), object(10)\n",
      "memory usage: 313.9+ KB\n"
     ]
    }
   ],
   "source": [
    "data.info()"
   ]
  },
  {
   "cell_type": "code",
   "execution_count": 59,
   "metadata": {
    "scrolled": false
   },
   "outputs": [
    {
     "data": {
      "text/html": [
       "<div>\n",
       "<style scoped>\n",
       "    .dataframe tbody tr th:only-of-type {\n",
       "        vertical-align: middle;\n",
       "    }\n",
       "\n",
       "    .dataframe tbody tr th {\n",
       "        vertical-align: top;\n",
       "    }\n",
       "\n",
       "    .dataframe thead th {\n",
       "        text-align: right;\n",
       "    }\n",
       "</style>\n",
       "<table border=\"1\" class=\"dataframe\">\n",
       "  <thead>\n",
       "    <tr style=\"text-align: right;\">\n",
       "      <th></th>\n",
       "      <th>Age</th>\n",
       "      <th>BMI</th>\n",
       "      <th>WBC</th>\n",
       "      <th>RBC</th>\n",
       "      <th>HGB</th>\n",
       "      <th>Plat</th>\n",
       "      <th>AST 1</th>\n",
       "      <th>ALT 1</th>\n",
       "      <th>ALT4</th>\n",
       "      <th>ALT 12</th>\n",
       "      <th>ALT 24</th>\n",
       "      <th>ALT 36</th>\n",
       "      <th>ALT 48</th>\n",
       "      <th>ALT after 24 w</th>\n",
       "      <th>RNA Base</th>\n",
       "      <th>RNA 4</th>\n",
       "      <th>RNA 12</th>\n",
       "      <th>RNA EOT</th>\n",
       "      <th>RNA EF</th>\n",
       "    </tr>\n",
       "  </thead>\n",
       "  <tbody>\n",
       "    <tr>\n",
       "      <td>0</td>\n",
       "      <td>1.102814</td>\n",
       "      <td>1.568525</td>\n",
       "      <td>-0.040636</td>\n",
       "      <td>-0.500596</td>\n",
       "      <td>0.824497</td>\n",
       "      <td>-1.191726</td>\n",
       "      <td>0.624437</td>\n",
       "      <td>0.003232</td>\n",
       "      <td>-1.184223</td>\n",
       "      <td>0.978295</td>\n",
       "      <td>-0.103412</td>\n",
       "      <td>0.027210</td>\n",
       "      <td>0.007677</td>\n",
       "      <td>0.071830</td>\n",
       "      <td>0.181960</td>\n",
       "      <td>0.091781</td>\n",
       "      <td>-0.511404</td>\n",
       "      <td>-0.042976</td>\n",
       "      <td>-0.055735</td>\n",
       "    </tr>\n",
       "    <tr>\n",
       "      <td>1</td>\n",
       "      <td>-0.036355</td>\n",
       "      <td>0.096039</td>\n",
       "      <td>1.712476</td>\n",
       "      <td>0.021071</td>\n",
       "      <td>-1.510734</td>\n",
       "      <td>-0.747305</td>\n",
       "      <td>0.316553</td>\n",
       "      <td>1.508243</td>\n",
       "      <td>0.437185</td>\n",
       "      <td>-0.326634</td>\n",
       "      <td>1.118124</td>\n",
       "      <td>-1.005796</td>\n",
       "      <td>1.510148</td>\n",
       "      <td>1.511548</td>\n",
       "      <td>-1.555454</td>\n",
       "      <td>-0.173268</td>\n",
       "      <td>1.060192</td>\n",
       "      <td>-0.296564</td>\n",
       "      <td>-1.850979</td>\n",
       "    </tr>\n",
       "    <tr>\n",
       "      <td>2</td>\n",
       "      <td>1.216730</td>\n",
       "      <td>1.077696</td>\n",
       "      <td>-1.257991</td>\n",
       "      <td>0.574935</td>\n",
       "      <td>-0.343119</td>\n",
       "      <td>-0.176017</td>\n",
       "      <td>1.163233</td>\n",
       "      <td>-1.347418</td>\n",
       "      <td>0.437185</td>\n",
       "      <td>0.901534</td>\n",
       "      <td>1.232643</td>\n",
       "      <td>0.027210</td>\n",
       "      <td>0.007677</td>\n",
       "      <td>0.071830</td>\n",
       "      <td>-0.055972</td>\n",
       "      <td>0.165878</td>\n",
       "      <td>0.020983</td>\n",
       "      <td>1.744932</td>\n",
       "      <td>0.810316</td>\n",
       "    </tr>\n",
       "    <tr>\n",
       "      <td>3</td>\n",
       "      <td>0.305396</td>\n",
       "      <td>1.077696</td>\n",
       "      <td>-0.391183</td>\n",
       "      <td>1.075870</td>\n",
       "      <td>-1.510734</td>\n",
       "      <td>-0.306623</td>\n",
       "      <td>-1.530748</td>\n",
       "      <td>-0.768568</td>\n",
       "      <td>0.965086</td>\n",
       "      <td>-0.134733</td>\n",
       "      <td>0.163799</td>\n",
       "      <td>-1.350131</td>\n",
       "      <td>-0.261997</td>\n",
       "      <td>-0.072142</td>\n",
       "      <td>1.274675</td>\n",
       "      <td>-0.418404</td>\n",
       "      <td>0.828783</td>\n",
       "      <td>1.788499</td>\n",
       "      <td>0.928680</td>\n",
       "    </tr>\n",
       "    <tr>\n",
       "      <td>4</td>\n",
       "      <td>1.444564</td>\n",
       "      <td>0.832282</td>\n",
       "      <td>-1.451824</td>\n",
       "      <td>0.532143</td>\n",
       "      <td>-0.926927</td>\n",
       "      <td>0.756456</td>\n",
       "      <td>0.624437</td>\n",
       "      <td>0.775032</td>\n",
       "      <td>-0.618616</td>\n",
       "      <td>-1.362901</td>\n",
       "      <td>1.385335</td>\n",
       "      <td>0.409804</td>\n",
       "      <td>0.238827</td>\n",
       "      <td>-0.504057</td>\n",
       "      <td>0.196318</td>\n",
       "      <td>0.379821</td>\n",
       "      <td>15.000537</td>\n",
       "      <td>-0.285608</td>\n",
       "      <td>-0.783040</td>\n",
       "    </tr>\n",
       "    <tr>\n",
       "      <td>...</td>\n",
       "      <td>...</td>\n",
       "      <td>...</td>\n",
       "      <td>...</td>\n",
       "      <td>...</td>\n",
       "      <td>...</td>\n",
       "      <td>...</td>\n",
       "      <td>...</td>\n",
       "      <td>...</td>\n",
       "      <td>...</td>\n",
       "      <td>...</td>\n",
       "      <td>...</td>\n",
       "      <td>...</td>\n",
       "      <td>...</td>\n",
       "      <td>...</td>\n",
       "      <td>...</td>\n",
       "      <td>...</td>\n",
       "      <td>...</td>\n",
       "      <td>...</td>\n",
       "      <td>...</td>\n",
       "    </tr>\n",
       "    <tr>\n",
       "      <td>1380</td>\n",
       "      <td>-0.264188</td>\n",
       "      <td>0.096039</td>\n",
       "      <td>-0.183479</td>\n",
       "      <td>1.545332</td>\n",
       "      <td>1.408305</td>\n",
       "      <td>1.139016</td>\n",
       "      <td>1.509602</td>\n",
       "      <td>-0.961518</td>\n",
       "      <td>-0.203837</td>\n",
       "      <td>0.863154</td>\n",
       "      <td>1.652546</td>\n",
       "      <td>-0.776239</td>\n",
       "      <td>-1.533319</td>\n",
       "      <td>1.655519</td>\n",
       "      <td>-0.574200</td>\n",
       "      <td>-1.507334</td>\n",
       "      <td>0.020983</td>\n",
       "      <td>-0.042976</td>\n",
       "      <td>-0.055735</td>\n",
       "    </tr>\n",
       "    <tr>\n",
       "      <td>1381</td>\n",
       "      <td>0.988897</td>\n",
       "      <td>1.323110</td>\n",
       "      <td>-0.497285</td>\n",
       "      <td>0.620454</td>\n",
       "      <td>-1.510734</td>\n",
       "      <td>-1.097762</td>\n",
       "      <td>1.740514</td>\n",
       "      <td>0.697852</td>\n",
       "      <td>-0.694030</td>\n",
       "      <td>0.594492</td>\n",
       "      <td>0.927259</td>\n",
       "      <td>0.524583</td>\n",
       "      <td>-0.762821</td>\n",
       "      <td>1.079632</td>\n",
       "      <td>-0.309697</td>\n",
       "      <td>-1.239184</td>\n",
       "      <td>-0.037734</td>\n",
       "      <td>-1.642912</td>\n",
       "      <td>-0.816262</td>\n",
       "    </tr>\n",
       "    <tr>\n",
       "      <td>1382</td>\n",
       "      <td>-0.492022</td>\n",
       "      <td>-0.640203</td>\n",
       "      <td>-0.982427</td>\n",
       "      <td>-0.866734</td>\n",
       "      <td>0.824497</td>\n",
       "      <td>-0.773426</td>\n",
       "      <td>-0.838010</td>\n",
       "      <td>0.350542</td>\n",
       "      <td>1.492986</td>\n",
       "      <td>-0.863957</td>\n",
       "      <td>1.232643</td>\n",
       "      <td>0.141988</td>\n",
       "      <td>-1.725943</td>\n",
       "      <td>-1.367888</td>\n",
       "      <td>0.061369</td>\n",
       "      <td>-0.078965</td>\n",
       "      <td>1.821762</td>\n",
       "      <td>-0.261195</td>\n",
       "      <td>-1.198585</td>\n",
       "    </tr>\n",
       "    <tr>\n",
       "      <td>1383</td>\n",
       "      <td>0.647146</td>\n",
       "      <td>0.096039</td>\n",
       "      <td>-0.103622</td>\n",
       "      <td>-0.520285</td>\n",
       "      <td>-1.510734</td>\n",
       "      <td>1.226379</td>\n",
       "      <td>-0.491641</td>\n",
       "      <td>0.504902</td>\n",
       "      <td>0.776550</td>\n",
       "      <td>-0.365014</td>\n",
       "      <td>-1.401293</td>\n",
       "      <td>-1.350131</td>\n",
       "      <td>-0.107898</td>\n",
       "      <td>1.367576</td>\n",
       "      <td>-1.274928</td>\n",
       "      <td>-1.451442</td>\n",
       "      <td>0.513628</td>\n",
       "      <td>-2.006641</td>\n",
       "      <td>1.502412</td>\n",
       "    </tr>\n",
       "    <tr>\n",
       "      <td>1384</td>\n",
       "      <td>0.988897</td>\n",
       "      <td>-0.640203</td>\n",
       "      <td>1.611623</td>\n",
       "      <td>-1.048294</td>\n",
       "      <td>0.824497</td>\n",
       "      <td>-0.560408</td>\n",
       "      <td>-1.222864</td>\n",
       "      <td>1.624013</td>\n",
       "      <td>-1.674416</td>\n",
       "      <td>-0.595296</td>\n",
       "      <td>1.194470</td>\n",
       "      <td>-0.737979</td>\n",
       "      <td>-0.493146</td>\n",
       "      <td>0.071830</td>\n",
       "      <td>1.694779</td>\n",
       "      <td>0.075734</td>\n",
       "      <td>0.020983</td>\n",
       "      <td>-0.042976</td>\n",
       "      <td>-0.055735</td>\n",
       "    </tr>\n",
       "  </tbody>\n",
       "</table>\n",
       "<p>1385 rows × 19 columns</p>\n",
       "</div>"
      ],
      "text/plain": [
       "           Age       BMI       WBC       RBC       HGB      Plat     AST 1  \\\n",
       "0     1.102814  1.568525 -0.040636 -0.500596  0.824497 -1.191726  0.624437   \n",
       "1    -0.036355  0.096039  1.712476  0.021071 -1.510734 -0.747305  0.316553   \n",
       "2     1.216730  1.077696 -1.257991  0.574935 -0.343119 -0.176017  1.163233   \n",
       "3     0.305396  1.077696 -0.391183  1.075870 -1.510734 -0.306623 -1.530748   \n",
       "4     1.444564  0.832282 -1.451824  0.532143 -0.926927  0.756456  0.624437   \n",
       "...        ...       ...       ...       ...       ...       ...       ...   \n",
       "1380 -0.264188  0.096039 -0.183479  1.545332  1.408305  1.139016  1.509602   \n",
       "1381  0.988897  1.323110 -0.497285  0.620454 -1.510734 -1.097762  1.740514   \n",
       "1382 -0.492022 -0.640203 -0.982427 -0.866734  0.824497 -0.773426 -0.838010   \n",
       "1383  0.647146  0.096039 -0.103622 -0.520285 -1.510734  1.226379 -0.491641   \n",
       "1384  0.988897 -0.640203  1.611623 -1.048294  0.824497 -0.560408 -1.222864   \n",
       "\n",
       "         ALT 1      ALT4    ALT 12    ALT 24    ALT 36    ALT 48  \\\n",
       "0     0.003232 -1.184223  0.978295 -0.103412  0.027210  0.007677   \n",
       "1     1.508243  0.437185 -0.326634  1.118124 -1.005796  1.510148   \n",
       "2    -1.347418  0.437185  0.901534  1.232643  0.027210  0.007677   \n",
       "3    -0.768568  0.965086 -0.134733  0.163799 -1.350131 -0.261997   \n",
       "4     0.775032 -0.618616 -1.362901  1.385335  0.409804  0.238827   \n",
       "...        ...       ...       ...       ...       ...       ...   \n",
       "1380 -0.961518 -0.203837  0.863154  1.652546 -0.776239 -1.533319   \n",
       "1381  0.697852 -0.694030  0.594492  0.927259  0.524583 -0.762821   \n",
       "1382  0.350542  1.492986 -0.863957  1.232643  0.141988 -1.725943   \n",
       "1383  0.504902  0.776550 -0.365014 -1.401293 -1.350131 -0.107898   \n",
       "1384  1.624013 -1.674416 -0.595296  1.194470 -0.737979 -0.493146   \n",
       "\n",
       "      ALT after 24 w  RNA Base     RNA 4     RNA 12   RNA EOT    RNA EF  \n",
       "0           0.071830  0.181960  0.091781  -0.511404 -0.042976 -0.055735  \n",
       "1           1.511548 -1.555454 -0.173268   1.060192 -0.296564 -1.850979  \n",
       "2           0.071830 -0.055972  0.165878   0.020983  1.744932  0.810316  \n",
       "3          -0.072142  1.274675 -0.418404   0.828783  1.788499  0.928680  \n",
       "4          -0.504057  0.196318  0.379821  15.000537 -0.285608 -0.783040  \n",
       "...              ...       ...       ...        ...       ...       ...  \n",
       "1380        1.655519 -0.574200 -1.507334   0.020983 -0.042976 -0.055735  \n",
       "1381        1.079632 -0.309697 -1.239184  -0.037734 -1.642912 -0.816262  \n",
       "1382       -1.367888  0.061369 -0.078965   1.821762 -0.261195 -1.198585  \n",
       "1383        1.367576 -1.274928 -1.451442   0.513628 -2.006641  1.502412  \n",
       "1384        0.071830  1.694779  0.075734   0.020983 -0.042976 -0.055735  \n",
       "\n",
       "[1385 rows x 19 columns]"
      ]
     },
     "execution_count": 59,
     "metadata": {},
     "output_type": "execute_result"
    }
   ],
   "source": [
    "from scipy.stats import zscore\n",
    "numeric_cols = data.select_dtypes(include=[np.number]).columns\n",
    "z_scores = data[numeric_cols].apply(zscore)\n",
    "z_scores"
   ]
  },
  {
   "cell_type": "code",
   "execution_count": 60,
   "metadata": {},
   "outputs": [],
   "source": [
    "z_scores.to_csv('z_scores.csv')"
   ]
  },
  {
   "cell_type": "code",
   "execution_count": null,
   "metadata": {},
   "outputs": [],
   "source": [
    "#code for creating plot with columns from 3 different dfs \n",
    "\n",
    "# a = np.linspace(-5,5, 11)\n",
    "# data1 = np.sort(np.random.rand(len(a),5))\n",
    "# data1[:,0] =a \n",
    "# data2 = np.sort(np.random.rand(len(a),5))*10\n",
    "# data2[:,0] =a \n",
    "# df = pd.DataFrame(data1, columns=[\"A\", \"B1\", \"C1\", \"D1\", \"E1\"])\n",
    "# df2 = pd.DataFrame(data2, columns=[\"A\", \"B2\", \"C2\", \"D2\", \"E2\"])\n",
    "\n",
    "# fig, ax = plt.subplots()\n",
    "# ax2 = ax.twinx()\n",
    "\n",
    "# df.plot(x=\"A\", y=[\"B1\", \"C1\", \"D1\", \"E1\"], ax=ax)\n",
    "# df2.plot(x=\"A\", y=[\"B2\", \"C2\", \"D2\", \"E2\"], ax=ax2, ls=\"--\")\n",
    "\n",
    "# plt.show()"
   ]
  },
  {
   "cell_type": "code",
   "execution_count": 102,
   "metadata": {
    "collapsed": true
   },
   "outputs": [
    {
     "data": {
      "text/plain": [
       "<matplotlib.axes._subplots.AxesSubplot at 0x1a413363d0>"
      ]
     },
     "execution_count": 102,
     "metadata": {},
     "output_type": "execute_result"
    },
    {
     "data": {
      "image/png": "[encoded data removed]",
      "text/plain": [
       "<Figure size 432x432 with 1 Axes>"
      ]
     },
     "metadata": {
      "needs_background": "light"
     },
     "output_type": "display_data"
    }
   ],
   "source": [
    "data.boxplot('Age', by='Transplant', figsize=(6, 6))"
   ]
  },
  {
   "cell_type": "code",
   "execution_count": 103,
   "metadata": {
    "collapsed": true
   },
   "outputs": [
    {
     "data": {
      "text/plain": [
       "<matplotlib.axes._subplots.AxesSubplot at 0x1a4171f3d0>"
      ]
     },
     "execution_count": 103,
     "metadata": {},
     "output_type": "execute_result"
    },
    {
     "data": {
      "image/png": "[encoded data removed]",
      "text/plain": [
       "<Figure size 432x432 with 1 Axes>"
      ]
     },
     "metadata": {
      "needs_background": "light"
     },
     "output_type": "display_data"
    }
   ],
   "source": [
    "data.boxplot('BMI', by='Transplant', figsize=(6, 6))"
   ]
  },
  {
   "cell_type": "code",
   "execution_count": null,
   "metadata": {},
   "outputs": [],
   "source": [
    "data.boxplot('BMI', by='Transplant', figsize=(6, 6))"
   ]
  },
  {
   "cell_type": "code",
   "execution_count": 104,
   "metadata": {
    "collapsed": true
   },
   "outputs": [
    {
     "data": {
      "text/plain": [
       "<matplotlib.axes._subplots.AxesSubplot at 0x1a41848a50>"
      ]
     },
     "execution_count": 104,
     "metadata": {},
     "output_type": "execute_result"
    },
    {
     "data": {
      "image/png": "[encoded data removed]",
      "text/plain": [
       "<Figure size 432x432 with 1 Axes>"
      ]
     },
     "metadata": {
      "needs_background": "light"
     },
     "output_type": "display_data"
    }
   ],
   "source": [
    "data.boxplot('WBC', by='Transplant', figsize=(6, 6))"
   ]
  },
  {
   "cell_type": "code",
   "execution_count": 105,
   "metadata": {
    "collapsed": true
   },
   "outputs": [
    {
     "data": {
      "text/plain": [
       "<matplotlib.axes._subplots.AxesSubplot at 0x1a41953b50>"
      ]
     },
     "execution_count": 105,
     "metadata": {},
     "output_type": "execute_result"
    },
    {
     "data": {
      "image/png": "[encoded data removed]",
      "text/plain": [
       "<Figure size 432x432 with 1 Axes>"
      ]
     },
     "metadata": {
      "needs_background": "light"
     },
     "output_type": "display_data"
    }
   ],
   "source": [
    "data.boxplot('RBC', by='Transplant', figsize=(6, 6))"
   ]
  },
  {
   "cell_type": "code",
   "execution_count": 106,
   "metadata": {
    "collapsed": true
   },
   "outputs": [
    {
     "data": {
      "text/plain": [
       "<matplotlib.axes._subplots.AxesSubplot at 0x1a41a53e50>"
      ]
     },
     "execution_count": 106,
     "metadata": {},
     "output_type": "execute_result"
    },
    {
     "data": {
      "image/png": "[encoded data removed]",
      "text/plain": [
       "<Figure size 432x432 with 1 Axes>"
      ]
     },
     "metadata": {
      "needs_background": "light"
     },
     "output_type": "display_data"
    }
   ],
   "source": [
    "data.boxplot('AST 1', by='Transplant', figsize=(6, 6))"
   ]
  },
  {
   "cell_type": "code",
   "execution_count": 107,
   "metadata": {
    "collapsed": true
   },
   "outputs": [
    {
     "data": {
      "text/plain": [
       "<matplotlib.axes._subplots.AxesSubplot at 0x1a41bb63d0>"
      ]
     },
     "execution_count": 107,
     "metadata": {},
     "output_type": "execute_result"
    },
    {
     "data": {
      "image/png": "[encoded data removed]",
      "text/plain": [
       "<Figure size 432x432 with 1 Axes>"
      ]
     },
     "metadata": {
      "needs_background": "light"
     },
     "output_type": "display_data"
    }
   ],
   "source": [
    "data.boxplot('ALT 1', by='Transplant', figsize=(6, 6))"
   ]
  },
  {
   "cell_type": "code",
   "execution_count": 108,
   "metadata": {
    "collapsed": true
   },
   "outputs": [
    {
     "data": {
      "text/plain": [
       "<matplotlib.axes._subplots.AxesSubplot at 0x1a41bbfb10>"
      ]
     },
     "execution_count": 108,
     "metadata": {},
     "output_type": "execute_result"
    },
    {
     "data": {
      "image/png": "[encoded data removed]",
      "text/plain": [
       "<Figure size 432x432 with 1 Axes>"
      ]
     },
     "metadata": {
      "needs_background": "light"
     },
     "output_type": "display_data"
    }
   ],
   "source": [
    "data.boxplot('ALT 48', by='Transplant', figsize=(6, 6))"
   ]
  },
  {
   "cell_type": "code",
   "execution_count": 110,
   "metadata": {
    "collapsed": true
   },
   "outputs": [
    {
     "data": {
      "text/plain": [
       "<matplotlib.axes._subplots.AxesSubplot at 0x1a41f48490>"
      ]
     },
     "execution_count": 110,
     "metadata": {},
     "output_type": "execute_result"
    },
    {
     "data": {
      "image/png": "[encoded data removed]",
      "text/plain": [
       "<Figure size 432x432 with 1 Axes>"
      ]
     },
     "metadata": {
      "needs_background": "light"
     },
     "output_type": "display_data"
    }
   ],
   "source": [
    "#this is somewhat different but i don't know why\n",
    "data.boxplot('RNA EOT', by='Transplant', figsize=(6, 6))"
   ]
  },
  {
   "cell_type": "code",
   "execution_count": 111,
   "metadata": {
    "collapsed": true
   },
   "outputs": [
    {
     "data": {
      "text/plain": [
       "<matplotlib.axes._subplots.AxesSubplot at 0x1a41e0e190>"
      ]
     },
     "execution_count": 111,
     "metadata": {},
     "output_type": "execute_result"
    },
    {
     "data": {
      "image/png": "[encoded data removed]",
      "text/plain": [
       "<Figure size 432x432 with 1 Axes>"
      ]
     },
     "metadata": {
      "needs_background": "light"
     },
     "output_type": "display_data"
    }
   ],
   "source": [
    "data.boxplot('RNA EF', by='Transplant', figsize=(6, 6))"
   ]
  },
  {
   "cell_type": "markdown",
   "metadata": {},
   "source": [
    "# Modeling -- FIX ME "
   ]
  },
  {
   "cell_type": "code",
   "execution_count": 134,
   "metadata": {},
   "outputs": [],
   "source": [
    "#this is a logreg with JUST categorical variables-- how to use categorical and continuous?\n",
    "\n",
    "# Convert categories using get_dummies() \n",
    "x_feats = ['Gender', 'Fever', 'Nausea/Vomting', 'Headache', 'Diarrhea', 'Fatigue & generalized bone ache', 'Jaundice', 'Epigastric pain', 'Baseline histological Grading']\n",
    "X = pd.get_dummies(data[x_feats], drop_first=True, dtype=float)\n",
    "\n",
    "# Convert target using get_dummies\n",
    "y = pd.get_dummies(data['Transplant'], drop_first=True, dtype=float)\n",
    "y = y[1]"
   ]
  },
  {
   "cell_type": "code",
   "execution_count": 137,
   "metadata": {},
   "outputs": [
    {
     "name": "stdout",
     "output_type": "stream",
     "text": [
      "Optimization terminated successfully.\n",
      "         Current function value: 0.567149\n",
      "         Iterations 5\n"
     ]
    },
    {
     "name": "stderr",
     "output_type": "stream",
     "text": [
      "/Users/brittanyfowle/opt/anaconda3/lib/python3.7/site-packages/numpy/core/fromnumeric.py:2495: FutureWarning: Method .ptp is deprecated and will be removed in a future version. Use numpy.ptp instead.\n",
      "  return ptp(axis=axis, out=out, **kwargs)\n"
     ]
    }
   ],
   "source": [
    "# Create intercept term required for sm.Logit, see documentation for more information\n",
    "X = sm.add_constant(X)\n",
    "\n",
    "# Fit model\n",
    "logit_model = sm.Logit(y, X)\n",
    "\n",
    "# Get results of the fit\n",
    "result = logit_model.fit()"
   ]
  },
  {
   "cell_type": "code",
   "execution_count": 138,
   "metadata": {
    "collapsed": true
   },
   "outputs": [
    {
     "data": {
      "text/html": [
       "<table class=\"simpletable\">\n",
       "<caption>Logit Regression Results</caption>\n",
       "<tr>\n",
       "  <th>Dep. Variable:</th>           <td>1</td>        <th>  No. Observations:  </th>  <td>  1385</td> \n",
       "</tr>\n",
       "<tr>\n",
       "  <th>Model:</th>                 <td>Logit</td>      <th>  Df Residuals:      </th>  <td>  1364</td> \n",
       "</tr>\n",
       "<tr>\n",
       "  <th>Method:</th>                 <td>MLE</td>       <th>  Df Model:          </th>  <td>    20</td> \n",
       "</tr>\n",
       "<tr>\n",
       "  <th>Date:</th>            <td>Wed, 29 Jan 2020</td> <th>  Pseudo R-squ.:     </th>  <td>0.01277</td>\n",
       "</tr>\n",
       "<tr>\n",
       "  <th>Time:</th>                <td>13:58:43</td>     <th>  Log-Likelihood:    </th> <td> -785.50</td>\n",
       "</tr>\n",
       "<tr>\n",
       "  <th>converged:</th>             <td>True</td>       <th>  LL-Null:           </th> <td> -795.66</td>\n",
       "</tr>\n",
       "<tr>\n",
       "  <th>Covariance Type:</th>     <td>nonrobust</td>    <th>  LLR p-value:       </th>  <td>0.4378</td> \n",
       "</tr>\n",
       "</table>\n",
       "<table class=\"simpletable\">\n",
       "<tr>\n",
       "                  <td></td>                     <th>coef</th>     <th>std err</th>      <th>z</th>      <th>P>|z|</th>  <th>[0.025</th>    <th>0.975]</th>  \n",
       "</tr>\n",
       "<tr>\n",
       "  <th>const</th>                             <td>   -0.9435</td> <td>    0.295</td> <td>   -3.197</td> <td> 0.001</td> <td>   -1.522</td> <td>   -0.365</td>\n",
       "</tr>\n",
       "<tr>\n",
       "  <th>Gender_1</th>                          <td>   -0.0813</td> <td>    0.124</td> <td>   -0.653</td> <td> 0.514</td> <td>   -0.325</td> <td>    0.163</td>\n",
       "</tr>\n",
       "<tr>\n",
       "  <th>Fever_1</th>                           <td>   -0.1508</td> <td>    0.124</td> <td>   -1.215</td> <td> 0.224</td> <td>   -0.394</td> <td>    0.092</td>\n",
       "</tr>\n",
       "<tr>\n",
       "  <th>Nausea/Vomting_1</th>                  <td>    0.1137</td> <td>    0.125</td> <td>    0.913</td> <td> 0.361</td> <td>   -0.130</td> <td>    0.358</td>\n",
       "</tr>\n",
       "<tr>\n",
       "  <th>Headache_1</th>                        <td>    0.0137</td> <td>    0.124</td> <td>    0.110</td> <td> 0.912</td> <td>   -0.230</td> <td>    0.258</td>\n",
       "</tr>\n",
       "<tr>\n",
       "  <th>Diarrhea_1</th>                        <td>    0.0570</td> <td>    0.124</td> <td>    0.460</td> <td> 0.646</td> <td>   -0.186</td> <td>    0.300</td>\n",
       "</tr>\n",
       "<tr>\n",
       "  <th>Fatigue & generalized bone ache_1</th> <td>    0.0839</td> <td>    0.124</td> <td>    0.676</td> <td> 0.499</td> <td>   -0.159</td> <td>    0.327</td>\n",
       "</tr>\n",
       "<tr>\n",
       "  <th>Jaundice_1</th>                        <td>    0.0657</td> <td>    0.124</td> <td>    0.531</td> <td> 0.595</td> <td>   -0.177</td> <td>    0.308</td>\n",
       "</tr>\n",
       "<tr>\n",
       "  <th>Epigastric pain_1</th>                 <td>   -0.0898</td> <td>    0.124</td> <td>   -0.723</td> <td> 0.470</td> <td>   -0.333</td> <td>    0.154</td>\n",
       "</tr>\n",
       "<tr>\n",
       "  <th>Baseline histological Grading_4</th>   <td>    0.4490</td> <td>    0.319</td> <td>    1.409</td> <td> 0.159</td> <td>   -0.175</td> <td>    1.073</td>\n",
       "</tr>\n",
       "<tr>\n",
       "  <th>Baseline histological Grading_6</th>   <td>   -0.2417</td> <td>    0.333</td> <td>   -0.725</td> <td> 0.468</td> <td>   -0.895</td> <td>    0.412</td>\n",
       "</tr>\n",
       "<tr>\n",
       "  <th>Baseline histological Grading_7</th>   <td>    0.2895</td> <td>    0.343</td> <td>    0.843</td> <td> 0.399</td> <td>   -0.383</td> <td>    0.963</td>\n",
       "</tr>\n",
       "<tr>\n",
       "  <th>Baseline histological Grading_8</th>   <td>   -0.1067</td> <td>    0.332</td> <td>   -0.322</td> <td> 0.748</td> <td>   -0.757</td> <td>    0.544</td>\n",
       "</tr>\n",
       "<tr>\n",
       "  <th>Baseline histological Grading_9</th>   <td>   -0.0463</td> <td>    0.324</td> <td>   -0.143</td> <td> 0.887</td> <td>   -0.682</td> <td>    0.590</td>\n",
       "</tr>\n",
       "<tr>\n",
       "  <th>Baseline histological Grading_10</th>  <td>   -0.3494</td> <td>    0.352</td> <td>   -0.991</td> <td> 0.322</td> <td>   -1.040</td> <td>    0.341</td>\n",
       "</tr>\n",
       "<tr>\n",
       "  <th>Baseline histological Grading_11</th>  <td>   -0.2853</td> <td>    0.288</td> <td>   -0.992</td> <td> 0.321</td> <td>   -0.849</td> <td>    0.278</td>\n",
       "</tr>\n",
       "<tr>\n",
       "  <th>Baseline histological Grading_12</th>  <td>   -0.2229</td> <td>    0.333</td> <td>   -0.669</td> <td> 0.504</td> <td>   -0.876</td> <td>    0.430</td>\n",
       "</tr>\n",
       "<tr>\n",
       "  <th>Baseline histological Grading_13</th>  <td>    0.0213</td> <td>    0.328</td> <td>    0.065</td> <td> 0.948</td> <td>   -0.622</td> <td>    0.664</td>\n",
       "</tr>\n",
       "<tr>\n",
       "  <th>Baseline histological Grading_14</th>  <td>    0.0340</td> <td>    0.321</td> <td>    0.106</td> <td> 0.916</td> <td>   -0.595</td> <td>    0.663</td>\n",
       "</tr>\n",
       "<tr>\n",
       "  <th>Baseline histological Grading_15</th>  <td>   -0.2207</td> <td>    0.310</td> <td>   -0.712</td> <td> 0.476</td> <td>   -0.828</td> <td>    0.386</td>\n",
       "</tr>\n",
       "<tr>\n",
       "  <th>Baseline histological Grading_16</th>  <td>   -0.5412</td> <td>    0.365</td> <td>   -1.484</td> <td> 0.138</td> <td>   -1.256</td> <td>    0.174</td>\n",
       "</tr>\n",
       "</table>"
      ],
      "text/plain": [
       "<class 'statsmodels.iolib.summary.Summary'>\n",
       "\"\"\"\n",
       "                           Logit Regression Results                           \n",
       "==============================================================================\n",
       "Dep. Variable:                      1   No. Observations:                 1385\n",
       "Model:                          Logit   Df Residuals:                     1364\n",
       "Method:                           MLE   Df Model:                           20\n",
       "Date:                Wed, 29 Jan 2020   Pseudo R-squ.:                 0.01277\n",
       "Time:                        13:58:43   Log-Likelihood:                -785.50\n",
       "converged:                       True   LL-Null:                       -795.66\n",
       "Covariance Type:            nonrobust   LLR p-value:                    0.4378\n",
       "=====================================================================================================\n",
       "                                        coef    std err          z      P>|z|      [0.025      0.975]\n",
       "-----------------------------------------------------------------------------------------------------\n",
       "const                                -0.9435      0.295     -3.197      0.001      -1.522      -0.365\n",
       "Gender_1                             -0.0813      0.124     -0.653      0.514      -0.325       0.163\n",
       "Fever_1                              -0.1508      0.124     -1.215      0.224      -0.394       0.092\n",
       "Nausea/Vomting_1                      0.1137      0.125      0.913      0.361      -0.130       0.358\n",
       "Headache_1                            0.0137      0.124      0.110      0.912      -0.230       0.258\n",
       "Diarrhea_1                            0.0570      0.124      0.460      0.646      -0.186       0.300\n",
       "Fatigue & generalized bone ache_1     0.0839      0.124      0.676      0.499      -0.159       0.327\n",
       "Jaundice_1                            0.0657      0.124      0.531      0.595      -0.177       0.308\n",
       "Epigastric pain_1                    -0.0898      0.124     -0.723      0.470      -0.333       0.154\n",
       "Baseline histological Grading_4       0.4490      0.319      1.409      0.159      -0.175       1.073\n",
       "Baseline histological Grading_6      -0.2417      0.333     -0.725      0.468      -0.895       0.412\n",
       "Baseline histological Grading_7       0.2895      0.343      0.843      0.399      -0.383       0.963\n",
       "Baseline histological Grading_8      -0.1067      0.332     -0.322      0.748      -0.757       0.544\n",
       "Baseline histological Grading_9      -0.0463      0.324     -0.143      0.887      -0.682       0.590\n",
       "Baseline histological Grading_10     -0.3494      0.352     -0.991      0.322      -1.040       0.341\n",
       "Baseline histological Grading_11     -0.2853      0.288     -0.992      0.321      -0.849       0.278\n",
       "Baseline histological Grading_12     -0.2229      0.333     -0.669      0.504      -0.876       0.430\n",
       "Baseline histological Grading_13      0.0213      0.328      0.065      0.948      -0.622       0.664\n",
       "Baseline histological Grading_14      0.0340      0.321      0.106      0.916      -0.595       0.663\n",
       "Baseline histological Grading_15     -0.2207      0.310     -0.712      0.476      -0.828       0.386\n",
       "Baseline histological Grading_16     -0.5412      0.365     -1.484      0.138      -1.256       0.174\n",
       "=====================================================================================================\n",
       "\"\"\""
      ]
     },
     "execution_count": 138,
     "metadata": {},
     "output_type": "execute_result"
    }
   ],
   "source": [
    "result.summary()"
   ]
  },
  {
   "cell_type": "code",
   "execution_count": 139,
   "metadata": {
    "collapsed": true
   },
   "outputs": [
    {
     "data": {
      "text/plain": [
       "const                                0.389271\n",
       "Gender_1                             0.921929\n",
       "Fever_1                              0.860059\n",
       "Nausea/Vomting_1                     1.120424\n",
       "Headache_1                           1.013845\n",
       "Diarrhea_1                           1.058695\n",
       "Fatigue & generalized bone ache_1    1.087481\n",
       "Jaundice_1                           1.067917\n",
       "Epigastric pain_1                    0.914084\n",
       "Baseline histological Grading_4      1.566744\n",
       "Baseline histological Grading_6      0.785254\n",
       "Baseline histological Grading_7      1.335772\n",
       "Baseline histological Grading_8      0.898806\n",
       "Baseline histological Grading_9      0.954791\n",
       "Baseline histological Grading_10     0.705144\n",
       "Baseline histological Grading_11     0.751777\n",
       "Baseline histological Grading_12     0.800221\n",
       "Baseline histological Grading_13     1.021499\n",
       "Baseline histological Grading_14     1.034586\n",
       "Baseline histological Grading_15     0.801991\n",
       "Baseline histological Grading_16     0.582035\n",
       "dtype: float64"
      ]
     },
     "execution_count": 139,
     "metadata": {},
     "output_type": "execute_result"
    }
   ],
   "source": [
    "np.exp(result.params)\n",
    "#these are probabilities of exhibiting the predictor"
   ]
  },
  {
   "cell_type": "markdown",
   "metadata": {},
   "source": [
    "# KNN"
   ]
  },
  {
   "cell_type": "code",
   "execution_count": 148,
   "metadata": {},
   "outputs": [],
   "source": [
    "from scipy.spatial.distance import euclidean\n",
    "import numpy as np"
   ]
  },
  {
   "cell_type": "code",
   "execution_count": 149,
   "metadata": {},
   "outputs": [],
   "source": [
    "#create KNN class\n",
    "class KNN:\n",
    "    def fit():\n",
    "        pass\n",
    "    def predict():\n",
    "        pass"
   ]
  },
  {
   "cell_type": "code",
   "execution_count": 150,
   "metadata": {},
   "outputs": [],
   "source": [
    "#complete the fit() method:\n",
    "# self = instance method of KNN class\n",
    "#X_train: array, each row is a vector of a given point in space\n",
    "# y_train: corresponding labels for each vector in X_train \n",
    "def fit(self, X_train, y_train):\n",
    "    self.X_train = X_train\n",
    "    self.y_train = y_train\n",
    "    \n",
    "# This line updates the knn.fit method to point to the function you've just written\n",
    "KNN.fit = fit"
   ]
  },
  {
   "cell_type": "code",
   "execution_count": 151,
   "metadata": {},
   "outputs": [],
   "source": [
    "#helper function: creates empty array to hold euclidean distance between x and X_Train\n",
    "#Creates tuple using index and the distance, append to array\n",
    "#return the distance arrray when distance has been generated for all items in self.X_train\n",
    "def _get_distances(self, x):\n",
    "    distances = []\n",
    "    for ind, val in enumerate(self.X_train):\n",
    "        dist_to_i = euclidean(x, val)\n",
    "        distances.append((ind, dist_to_i))\n",
    "    return distances\n",
    "\n",
    "# This line attaches the function you just created as a method to KNN class \n",
    "KNN._get_distances = _get_distances"
   ]
  },
  {
   "cell_type": "code",
   "execution_count": null,
   "metadata": {},
   "outputs": [],
   "source": [
    "#function to retreive indices of k-nearest points\n",
    "#3 arguments: 1) self\n",
    "# 2)dists: an array of tuples containing (index, distance), from _get_distances()\n",
    "# 3) k: the number of distances you want to return\n",
    "#sort dists array by values (the second element in each tuple)\n",
    "#return first k tuples from the sorted array\n",
    "def _get_k_nearest(self, dists, k):\n",
    "    sorted_dists = sorted(dists, key=lambda x: x[1])\n",
    "    return sorted_dists[:k]\n",
    "\n",
    "# This line attaches the function you just created as a method to KNN class \n",
    "KNN._get_k_nearest = _get_k_nearest"
   ]
  },
  {
   "cell_type": "markdown",
   "metadata": {},
   "source": [
    "# Regression Decision Tree -- don't use this"
   ]
  },
  {
   "cell_type": "code",
   "execution_count": 61,
   "metadata": {},
   "outputs": [
    {
     "data": {
      "text/plain": [
       "Index(['Age', 'Gender', 'BMI', 'Fever', 'Nausea/Vomting', 'Headache',\n",
       "       'Diarrhea', 'Fatigue & generalized bone ache', 'Jaundice',\n",
       "       'Epigastric pain', 'WBC', 'RBC', 'HGB', 'Plat', 'AST 1', 'ALT 1',\n",
       "       'ALT4', 'ALT 12', 'ALT 24', 'ALT 36', 'ALT 48', 'ALT after 24 w',\n",
       "       'RNA Base', 'RNA 4', 'RNA 12', 'RNA EOT', 'RNA EF',\n",
       "       'Baseline histological Grading', 'Transplant'],\n",
       "      dtype='object')"
      ]
     },
     "execution_count": 61,
     "metadata": {},
     "output_type": "execute_result"
    }
   ],
   "source": [
    "# implementing the tree using scikit learn\n",
    "import pandas as pd\n",
    "import numpy as np\n",
    "from sklearn.tree import DecisionTreeRegressor\n",
    "from sklearn.model_selection import train_test_split\n",
    "import matplotlib.pyplot as plt\n",
    "import seaborn as sns\n",
    "import sklearn.datasets as datasets\n",
    "import pandas as pd\n",
    "import numpy as np\n",
    "from sklearn.externals.six import StringIO  \n",
    "from IPython.display import Image  \n",
    "from sklearn.tree import export_graphviz\n",
    "import pydotplus\n",
    "from sklearn.metrics import mean_squared_error\n",
    "#import matplotlib.pyplot as plt\n",
    "#import seaborn as sns\n",
    "data.columns"
   ]
  },
  {
   "cell_type": "code",
   "execution_count": 62,
   "metadata": {},
   "outputs": [],
   "source": [
    "# build a regression tree from sklearn \n",
    "# define predictors and predicted variables\n",
    "# predictors: X\n",
    "X = data[['Age', 'Gender', 'BMI', 'Fever', 'Nausea/Vomting', 'Headache',\n",
    "       'Diarrhea', 'Fatigue & generalized bone ache', 'Jaundice',\n",
    "       'Epigastric pain', 'WBC', 'RBC', 'HGB', 'Plat', 'AST 1', 'ALT 1',\n",
    "       'ALT4', 'ALT 12', 'ALT 24', 'ALT 36', 'ALT 48', 'ALT after 24 w',\n",
    "       'RNA Base', 'RNA 4', 'RNA 12', 'RNA EOT', 'RNA EF',\n",
    "       'Baseline histological Grading']]\n",
    "# outcome: y\n",
    "y = data.Transplant\n",
    "#X1 refers to Years, and X0 refers to Hits"
   ]
  },
  {
   "cell_type": "code",
   "execution_count": 63,
   "metadata": {},
   "outputs": [],
   "source": [
    "# splitting the data into training and testing set\n",
    "X_train, X_test, y_train, y_test = train_test_split(X,y,test_size = 0.2, random_state = 42)"
   ]
  },
  {
   "cell_type": "code",
   "execution_count": 64,
   "metadata": {},
   "outputs": [
    {
     "data": {
      "text/plain": [
       "DecisionTreeRegressor(criterion='mse', max_depth=5, max_features=None,\n",
       "                      max_leaf_nodes=None, min_impurity_decrease=0.0,\n",
       "                      min_impurity_split=None, min_samples_leaf=1,\n",
       "                      min_samples_split=2, min_weight_fraction_leaf=0.0,\n",
       "                      presort=False, random_state=None, splitter='best')"
      ]
     },
     "execution_count": 64,
     "metadata": {},
     "output_type": "execute_result"
    }
   ],
   "source": [
    "#In this case, X0 refers to hits, and X1 refers to years\n",
    "# instantiate a regression instance\n",
    "regTree = DecisionTreeRegressor(max_depth=5)#max_depth is a hyperparameter. how many questions do you want to ask?\n",
    "#this DTR algorithm calculates MSE for each data point\n",
    "# fit the tree (tree is overfit if sample in last depth is 1)\n",
    "regTree.fit(X_train,y_train)"
   ]
  },
  {
   "cell_type": "code",
   "execution_count": 65,
   "metadata": {},
   "outputs": [
    {
     "data": {
      "image/png": "[encoded data removed]",
      "text/plain": [
       "<IPython.core.display.Image object>"
      ]
     },
     "execution_count": 65,
     "metadata": {},
     "output_type": "execute_result"
    }
   ],
   "source": [
    "# visualizing the regression tree\n",
    "dot_data = StringIO()\n",
    "export_graphviz(regTree, out_file=dot_data,  \n",
    "                special_characters=True)\n",
    "graph = pydotplus.graph_from_dot_data(dot_data.getvalue())  \n",
    "Image(graph.create_png())"
   ]
  },
  {
   "cell_type": "code",
   "execution_count": 66,
   "metadata": {},
   "outputs": [],
   "source": [
    "# use the model to predict the testing and compare mse\n",
    "regPred = regTree.predict(X_test)"
   ]
  },
  {
   "cell_type": "code",
   "execution_count": 67,
   "metadata": {},
   "outputs": [
    {
     "data": {
      "text/plain": [
       "0.23080421262752787"
      ]
     },
     "execution_count": 67,
     "metadata": {},
     "output_type": "execute_result"
    }
   ],
   "source": [
    "# comparing the results and plot them \n",
    "mse = mean_squared_error(regPred, y_test)\n",
    "mse"
   ]
  },
  {
   "cell_type": "code",
   "execution_count": 68,
   "metadata": {},
   "outputs": [
    {
     "name": "stdout",
     "output_type": "stream",
     "text": [
      "[-0.19547445173694555, -0.19729274809072583, -0.20496604735163595, -0.21569995557227564, -0.23009682272127263, -0.24900133861007565, -0.2667882268638955, -0.2914981346772887, -0.30332911182424227]\n"
     ]
    },
    {
     "data": {
      "image/png": "[encoded data removed]",
      "text/plain": [
       "<Figure size 720x720 with 1 Axes>"
      ]
     },
     "metadata": {
      "needs_background": "light"
     },
     "output_type": "display_data"
    }
   ],
   "source": [
    "#next step: find optimal depth using cross validation\n",
    "from sklearn.model_selection import cross_val_score\n",
    "depth_range = range(1,10)\n",
    "mse = []\n",
    "for depth in depth_range:\n",
    "    regtree = DecisionTreeRegressor(max_depth = depth)\n",
    "    depth_score = cross_val_score(regtree, X, y, scoring = 'neg_mean_squared_error',cv = 6)\n",
    "    mse.append(depth_score.mean())\n",
    "print(mse)\n",
    "mse = [abs(number) for number in mse]\n",
    "plt.figure(figsize = (10,10))\n",
    "plt.plot(depth_range, mse)\n",
    "plt.xlabel('range of depth')\n",
    "plt.ylabel('mse')\n",
    "plt.show()"
   ]
  },
  {
   "cell_type": "markdown",
   "metadata": {},
   "source": [
    "# Classification tree"
   ]
  },
  {
   "cell_type": "code",
   "execution_count": 72,
   "metadata": {},
   "outputs": [],
   "source": [
    "X_data=pd.DataFrame(data, columns=['Age', 'Gender', 'BMI', 'Fever', 'Nausea/Vomting', 'Headache',\n",
    "       'Diarrhea', 'Fatigue & generalized bone ache', 'Jaundice',\n",
    "       'Epigastric pain', 'WBC', 'RBC', 'HGB', 'Plat', 'AST 1', 'ALT 1',\n",
    "       'ALT4', 'ALT 12', 'ALT 24', 'ALT 36', 'ALT 48', 'ALT after 24 w',\n",
    "       'RNA Base', 'RNA 4', 'RNA 12', 'RNA EOT', 'RNA EF',\n",
    "       'Baseline histological Grading'])\n",
    "y_data=data.Transplant"
   ]
  },
  {
   "cell_type": "code",
   "execution_count": 79,
   "metadata": {},
   "outputs": [],
   "source": [
    "y_data = y.astype('int')"
   ]
  },
  {
   "cell_type": "code",
   "execution_count": 80,
   "metadata": {
    "collapsed": true
   },
   "outputs": [
    {
     "ename": "AttributeError",
     "evalue": "'DataFrame' object has no attribute 'transplant'",
     "output_type": "error",
     "traceback": [
      "\u001b[0;31m---------------------------------------------------------------------------\u001b[0m",
      "\u001b[0;31mAttributeError\u001b[0m                            Traceback (most recent call last)",
      "\u001b[0;32m<ipython-input-80-cb04174b819f>\u001b[0m in \u001b[0;36m<module>\u001b[0;34m\u001b[0m\n\u001b[1;32m      1\u001b[0m \u001b[0;32mimport\u001b[0m \u001b[0mseaborn\u001b[0m \u001b[0;32mas\u001b[0m \u001b[0msns\u001b[0m\u001b[0;34m\u001b[0m\u001b[0;34m\u001b[0m\u001b[0m\n\u001b[1;32m      2\u001b[0m \u001b[0mfig\u001b[0m \u001b[0;34m=\u001b[0m \u001b[0mplt\u001b[0m\u001b[0;34m.\u001b[0m\u001b[0mfigure\u001b[0m\u001b[0;34m(\u001b[0m\u001b[0mfigsize\u001b[0m \u001b[0;34m=\u001b[0m \u001b[0;34m(\u001b[0m\u001b[0;36m8\u001b[0m\u001b[0;34m,\u001b[0m\u001b[0;36m8\u001b[0m\u001b[0;34m)\u001b[0m\u001b[0;34m)\u001b[0m\u001b[0;34m\u001b[0m\u001b[0;34m\u001b[0m\u001b[0m\n\u001b[0;32m----> 3\u001b[0;31m \u001b[0msns\u001b[0m\u001b[0;34m.\u001b[0m\u001b[0mscatterplot\u001b[0m\u001b[0;34m(\u001b[0m\u001b[0mx\u001b[0m \u001b[0;34m=\u001b[0m \u001b[0mX_data\u001b[0m\u001b[0;34m[\u001b[0m\u001b[0;34m'RBC'\u001b[0m\u001b[0;34m]\u001b[0m\u001b[0;34m,\u001b[0m \u001b[0my\u001b[0m \u001b[0;34m=\u001b[0m \u001b[0mX_data\u001b[0m\u001b[0;34m[\u001b[0m\u001b[0;34m'WBC'\u001b[0m\u001b[0;34m]\u001b[0m\u001b[0;34m,\u001b[0m \u001b[0mhue\u001b[0m \u001b[0;34m=\u001b[0m\u001b[0mdata\u001b[0m\u001b[0;34m.\u001b[0m\u001b[0mtransplant\u001b[0m\u001b[0;34m)\u001b[0m\u001b[0;34m\u001b[0m\u001b[0;34m\u001b[0m\u001b[0m\n\u001b[0m",
      "\u001b[0;32m~/opt/anaconda3/lib/python3.7/site-packages/pandas/core/generic.py\u001b[0m in \u001b[0;36m__getattr__\u001b[0;34m(self, name)\u001b[0m\n\u001b[1;32m   5177\u001b[0m             \u001b[0;32mif\u001b[0m \u001b[0mself\u001b[0m\u001b[0;34m.\u001b[0m\u001b[0m_info_axis\u001b[0m\u001b[0;34m.\u001b[0m\u001b[0m_can_hold_identifiers_and_holds_name\u001b[0m\u001b[0;34m(\u001b[0m\u001b[0mname\u001b[0m\u001b[0;34m)\u001b[0m\u001b[0;34m:\u001b[0m\u001b[0;34m\u001b[0m\u001b[0;34m\u001b[0m\u001b[0m\n\u001b[1;32m   5178\u001b[0m                 \u001b[0;32mreturn\u001b[0m \u001b[0mself\u001b[0m\u001b[0;34m[\u001b[0m\u001b[0mname\u001b[0m\u001b[0;34m]\u001b[0m\u001b[0;34m\u001b[0m\u001b[0;34m\u001b[0m\u001b[0m\n\u001b[0;32m-> 5179\u001b[0;31m             \u001b[0;32mreturn\u001b[0m \u001b[0mobject\u001b[0m\u001b[0;34m.\u001b[0m\u001b[0m__getattribute__\u001b[0m\u001b[0;34m(\u001b[0m\u001b[0mself\u001b[0m\u001b[0;34m,\u001b[0m \u001b[0mname\u001b[0m\u001b[0;34m)\u001b[0m\u001b[0;34m\u001b[0m\u001b[0;34m\u001b[0m\u001b[0m\n\u001b[0m\u001b[1;32m   5180\u001b[0m \u001b[0;34m\u001b[0m\u001b[0m\n\u001b[1;32m   5181\u001b[0m     \u001b[0;32mdef\u001b[0m \u001b[0m__setattr__\u001b[0m\u001b[0;34m(\u001b[0m\u001b[0mself\u001b[0m\u001b[0;34m,\u001b[0m \u001b[0mname\u001b[0m\u001b[0;34m,\u001b[0m \u001b[0mvalue\u001b[0m\u001b[0;34m)\u001b[0m\u001b[0;34m:\u001b[0m\u001b[0;34m\u001b[0m\u001b[0;34m\u001b[0m\u001b[0m\n",
      "\u001b[0;31mAttributeError\u001b[0m: 'DataFrame' object has no attribute 'transplant'"
     ]
    },
    {
     "data": {
      "text/plain": [
       "<Figure size 576x576 with 0 Axes>"
      ]
     },
     "metadata": {},
     "output_type": "display_data"
    }
   ],
   "source": [
    "import seaborn as sns\n",
    "fig = plt.figure(figsize = (8,8))\n",
    "sns.scatterplot(x = X_data['RBC'], y = X_data['WBC'], hue =data.transplant)"
   ]
  },
  {
   "cell_type": "code",
   "execution_count": 81,
   "metadata": {},
   "outputs": [],
   "source": [
    "X_train_data,X_test_data,y_train_data,y_test_data = train_test_split(X_data, y_data, test_size = 0.2, random_state = 42)"
   ]
  },
  {
   "cell_type": "code",
   "execution_count": 111,
   "metadata": {},
   "outputs": [
    {
     "data": {
      "text/plain": [
       "DecisionTreeClassifier(class_weight=None, criterion='gini', max_depth=2,\n",
       "                       max_features=None, max_leaf_nodes=None,\n",
       "                       min_impurity_decrease=0.0, min_impurity_split=None,\n",
       "                       min_samples_leaf=1, min_samples_split=2,\n",
       "                       min_weight_fraction_leaf=0.0, presort=False,\n",
       "                       random_state=None, splitter='best')"
      ]
     },
     "execution_count": 111,
     "metadata": {},
     "output_type": "execute_result"
    }
   ],
   "source": [
    "from sklearn.tree import DecisionTreeClassifier\n",
    "ctree=DecisionTreeClassifier(max_depth = 2)\n",
    "ctree.fit(X_train_data,y_train_data)"
   ]
  },
  {
   "cell_type": "code",
   "execution_count": 112,
   "metadata": {},
   "outputs": [
    {
     "data": {
      "image/png": "[encoded data removed]",
      "text/plain": [
       "<IPython.core.display.Image object>"
      ]
     },
     "execution_count": 112,
     "metadata": {},
     "output_type": "execute_result"
    }
   ],
   "source": [
    "dot_data = StringIO()\n",
    "export_graphviz(ctree, out_file=dot_data,  \n",
    "                rounded=True,\n",
    "                special_characters=True)\n",
    "graph = pydotplus.graph_from_dot_data(dot_data.getvalue())  \n",
    "Image(graph.create_png())"
   ]
  },
  {
   "cell_type": "code",
   "execution_count": 113,
   "metadata": {},
   "outputs": [],
   "source": [
    "clasPred = ctree.predict(X_test_data)"
   ]
  },
  {
   "cell_type": "code",
   "execution_count": null,
   "metadata": {},
   "outputs": [],
   "source": [
    "#interpretation: ginis are high (close to 0.5)\n",
    "#visualize this:\n",
    "# https://www.kaggle.com/arthurtok/decision-boundaries-visualised-via-python-plotly"
   ]
  },
  {
   "cell_type": "code",
   "execution_count": 114,
   "metadata": {},
   "outputs": [
    {
     "data": {
      "text/plain": [
       "0.7328519855595668"
      ]
     },
     "execution_count": 114,
     "metadata": {},
     "output_type": "execute_result"
    }
   ],
   "source": [
    "from sklearn.metrics import accuracy_score\n",
    "accuracy_score(y_test_data, clasPred)"
   ]
  },
  {
   "cell_type": "code",
   "execution_count": null,
   "metadata": {},
   "outputs": [],
   "source": [
    "#the value row tells us how many of the observations that were sorted into that node fall into each of the categoriesb"
   ]
  },
  {
   "cell_type": "code",
   "execution_count": 87,
   "metadata": {},
   "outputs": [
    {
     "name": "stdout",
     "output_type": "stream",
     "text": [
      "[0.7364920237722865, 0.7350064792886188, 0.7328480569581602, 0.7169370093986922, 0.7060053323800587, 0.6858707568107005, 0.6750790920058984, 0.663500528769531, 0.6555242265814678]\n"
     ]
    },
    {
     "data": {
      "image/png": "[encoded data removed]",
      "text/plain": [
       "<Figure size 720x720 with 1 Axes>"
      ]
     },
     "metadata": {
      "needs_background": "light"
     },
     "output_type": "display_data"
    }
   ],
   "source": [
    "#find optimal depth of the tree\n",
    "from sklearn.model_selection import cross_val_score\n",
    "score = cross_val_score(ctree, X_data, y_data, cv = 10)\n",
    "score.mean()\n",
    "depth_range = range(1,10)\n",
    "val = []\n",
    "for depth in depth_range:\n",
    "    ctree = DecisionTreeClassifier(max_depth = depth)\n",
    "    depth_score = cross_val_score(ctree, X_data, y_data, cv = 10)\n",
    "    val.append(depth_score.mean())\n",
    "print(val)\n",
    "plt.figure(figsize = (10,10))\n",
    "plt.plot(depth_range, val)\n",
    "plt.xlabel('range of depth')\n",
    "plt.ylabel('cross validated values')\n",
    "plt.show()"
   ]
  },
  {
   "cell_type": "markdown",
   "metadata": {},
   "source": [
    "# Bagged trees for Random Forests"
   ]
  },
  {
   "cell_type": "code",
   "execution_count": 115,
   "metadata": {},
   "outputs": [],
   "source": [
    "#boostrap samples with replacement from training dataset to prevent overfitting\n",
    "#Tree has low bias and high variance"
   ]
  },
  {
   "cell_type": "code",
   "execution_count": 116,
   "metadata": {},
   "outputs": [],
   "source": [
    "import pandas as pd\n",
    "import numpy as np\n",
    "np.random.seed(0)\n",
    "import matplotlib.pyplot as plt\n",
    "from sklearn.model_selection import train_test_split\n",
    "from sklearn.metrics import accuracy_score, confusion_matrix, classification_report\n",
    "from sklearn.tree import DecisionTreeClassifier\n",
    "from sklearn.ensemble import BaggingClassifier, RandomForestClassifier"
   ]
  },
  {
   "cell_type": "code",
   "execution_count": null,
   "metadata": {},
   "outputs": [],
   "source": [
    "#when importing CSV next time, assign index column\n",
    "#salaries = pd.read_csv('salaries_final.csv', index_col=0)"
   ]
  },
  {
   "cell_type": "code",
   "execution_count": 118,
   "metadata": {},
   "outputs": [],
   "source": [
    "#split outcome and predictor variables\n",
    "transplant = data['Transplant']\n",
    "data = data.drop('Transplant', axis = 1)"
   ]
  },
  {
   "cell_type": "code",
   "execution_count": 119,
   "metadata": {},
   "outputs": [
    {
     "data": {
      "text/plain": [
       "Age                                float64\n",
       "Gender                              object\n",
       "BMI                                float64\n",
       "Fever                               object\n",
       "Nausea/Vomting                      object\n",
       "Headache                            object\n",
       "Diarrhea                            object\n",
       "Fatigue & generalized bone ache     object\n",
       "Jaundice                            object\n",
       "Epigastric pain                     object\n",
       "WBC                                float64\n",
       "RBC                                float64\n",
       "HGB                                float64\n",
       "Plat                               float64\n",
       "AST 1                              float64\n",
       "ALT 1                              float64\n",
       "ALT4                               float64\n",
       "ALT 12                             float64\n",
       "ALT 24                             float64\n",
       "ALT 36                             float64\n",
       "ALT 48                             float64\n",
       "ALT after 24 w                     float64\n",
       "RNA Base                           float64\n",
       "RNA 4                              float64\n",
       "RNA 12                             float64\n",
       "RNA EOT                            float64\n",
       "RNA EF                             float64\n",
       "Baseline histological Grading       object\n",
       "dtype: object"
      ]
     },
     "execution_count": 119,
     "metadata": {},
     "output_type": "execute_result"
    }
   ],
   "source": [
    "data.dtypes"
   ]
  },
  {
   "cell_type": "code",
   "execution_count": 135,
   "metadata": {},
   "outputs": [],
   "source": [
    "transplant = transplant.astype('int')"
   ]
  },
  {
   "cell_type": "code",
   "execution_count": 136,
   "metadata": {},
   "outputs": [
    {
     "data": {
      "text/html": [
       "<div>\n",
       "<style scoped>\n",
       "    .dataframe tbody tr th:only-of-type {\n",
       "        vertical-align: middle;\n",
       "    }\n",
       "\n",
       "    .dataframe tbody tr th {\n",
       "        vertical-align: top;\n",
       "    }\n",
       "\n",
       "    .dataframe thead th {\n",
       "        text-align: right;\n",
       "    }\n",
       "</style>\n",
       "<table border=\"1\" class=\"dataframe\">\n",
       "  <thead>\n",
       "    <tr style=\"text-align: right;\">\n",
       "      <th></th>\n",
       "      <th>Age</th>\n",
       "      <th>BMI</th>\n",
       "      <th>WBC</th>\n",
       "      <th>RBC</th>\n",
       "      <th>HGB</th>\n",
       "      <th>Plat</th>\n",
       "      <th>AST 1</th>\n",
       "      <th>ALT 1</th>\n",
       "      <th>ALT4</th>\n",
       "      <th>ALT 12</th>\n",
       "      <th>ALT 24</th>\n",
       "      <th>ALT 36</th>\n",
       "      <th>ALT 48</th>\n",
       "      <th>ALT after 24 w</th>\n",
       "      <th>RNA Base</th>\n",
       "      <th>RNA 4</th>\n",
       "      <th>RNA 12</th>\n",
       "      <th>RNA EOT</th>\n",
       "      <th>RNA EF</th>\n",
       "      <th>Gender_0</th>\n",
       "      <th>Fever_0</th>\n",
       "      <th>Nausea/Vomting_0</th>\n",
       "      <th>Headache_0</th>\n",
       "      <th>Diarrhea_0</th>\n",
       "      <th>Fatigue &amp; generalized bone ache_0</th>\n",
       "      <th>Jaundice_0</th>\n",
       "      <th>Epigastric pain_0</th>\n",
       "      <th>Baseline histological Grading_3</th>\n",
       "      <th>Baseline histological Grading_4</th>\n",
       "      <th>Baseline histological Grading_6</th>\n",
       "      <th>Baseline histological Grading_7</th>\n",
       "      <th>Baseline histological Grading_8</th>\n",
       "      <th>Baseline histological Grading_9</th>\n",
       "      <th>Baseline histological Grading_10</th>\n",
       "      <th>Baseline histological Grading_11</th>\n",
       "      <th>Baseline histological Grading_12</th>\n",
       "      <th>Baseline histological Grading_13</th>\n",
       "      <th>Baseline histological Grading_14</th>\n",
       "      <th>Baseline histological Grading_15</th>\n",
       "      <th>Baseline histological Grading_16</th>\n",
       "    </tr>\n",
       "  </thead>\n",
       "  <tbody>\n",
       "    <tr>\n",
       "      <td>1380</td>\n",
       "      <td>44.0</td>\n",
       "      <td>29.0</td>\n",
       "      <td>7044.0</td>\n",
       "      <td>4957174.0</td>\n",
       "      <td>15.0</td>\n",
       "      <td>202520.0</td>\n",
       "      <td>122.0</td>\n",
       "      <td>59.0</td>\n",
       "      <td>78.0</td>\n",
       "      <td>106.0</td>\n",
       "      <td>127.0</td>\n",
       "      <td>63.0</td>\n",
       "      <td>44.0</td>\n",
       "      <td>45.0</td>\n",
       "      <td>387795.0</td>\n",
       "      <td>55938.0</td>\n",
       "      <td>406373.0</td>\n",
       "      <td>386384.0</td>\n",
       "      <td>387088.0</td>\n",
       "      <td>1</td>\n",
       "      <td>1</td>\n",
       "      <td>1</td>\n",
       "      <td>1</td>\n",
       "      <td>1</td>\n",
       "      <td>1</td>\n",
       "      <td>1</td>\n",
       "      <td>1</td>\n",
       "      <td>0</td>\n",
       "      <td>0</td>\n",
       "      <td>0</td>\n",
       "      <td>0</td>\n",
       "      <td>0</td>\n",
       "      <td>0</td>\n",
       "      <td>0</td>\n",
       "      <td>0</td>\n",
       "      <td>0</td>\n",
       "      <td>0</td>\n",
       "      <td>0</td>\n",
       "      <td>1</td>\n",
       "      <td>0</td>\n",
       "    </tr>\n",
       "    <tr>\n",
       "      <td>1381</td>\n",
       "      <td>55.0</td>\n",
       "      <td>34.0</td>\n",
       "      <td>6207.0</td>\n",
       "      <td>4636951.0</td>\n",
       "      <td>10.0</td>\n",
       "      <td>115776.0</td>\n",
       "      <td>128.0</td>\n",
       "      <td>102.0</td>\n",
       "      <td>65.0</td>\n",
       "      <td>99.0</td>\n",
       "      <td>108.0</td>\n",
       "      <td>97.0</td>\n",
       "      <td>64.0</td>\n",
       "      <td>41.0</td>\n",
       "      <td>481378.0</td>\n",
       "      <td>152961.0</td>\n",
       "      <td>393339.0</td>\n",
       "      <td>73574.0</td>\n",
       "      <td>236273.0</td>\n",
       "      <td>1</td>\n",
       "      <td>1</td>\n",
       "      <td>1</td>\n",
       "      <td>1</td>\n",
       "      <td>1</td>\n",
       "      <td>1</td>\n",
       "      <td>1</td>\n",
       "      <td>1</td>\n",
       "      <td>0</td>\n",
       "      <td>0</td>\n",
       "      <td>0</td>\n",
       "      <td>0</td>\n",
       "      <td>0</td>\n",
       "      <td>0</td>\n",
       "      <td>1</td>\n",
       "      <td>0</td>\n",
       "      <td>0</td>\n",
       "      <td>0</td>\n",
       "      <td>0</td>\n",
       "      <td>0</td>\n",
       "      <td>0</td>\n",
       "    </tr>\n",
       "    <tr>\n",
       "      <td>1382</td>\n",
       "      <td>42.0</td>\n",
       "      <td>26.0</td>\n",
       "      <td>4913.0</td>\n",
       "      <td>4122038.0</td>\n",
       "      <td>14.0</td>\n",
       "      <td>128354.0</td>\n",
       "      <td>61.0</td>\n",
       "      <td>93.0</td>\n",
       "      <td>123.0</td>\n",
       "      <td>61.0</td>\n",
       "      <td>116.0</td>\n",
       "      <td>87.0</td>\n",
       "      <td>39.0</td>\n",
       "      <td>24.0</td>\n",
       "      <td>612664.0</td>\n",
       "      <td>572756.0</td>\n",
       "      <td>806109.0</td>\n",
       "      <td>343719.0</td>\n",
       "      <td>160457.0</td>\n",
       "      <td>1</td>\n",
       "      <td>1</td>\n",
       "      <td>1</td>\n",
       "      <td>1</td>\n",
       "      <td>1</td>\n",
       "      <td>1</td>\n",
       "      <td>1</td>\n",
       "      <td>1</td>\n",
       "      <td>0</td>\n",
       "      <td>0</td>\n",
       "      <td>1</td>\n",
       "      <td>0</td>\n",
       "      <td>0</td>\n",
       "      <td>0</td>\n",
       "      <td>0</td>\n",
       "      <td>0</td>\n",
       "      <td>0</td>\n",
       "      <td>0</td>\n",
       "      <td>0</td>\n",
       "      <td>0</td>\n",
       "      <td>0</td>\n",
       "    </tr>\n",
       "    <tr>\n",
       "      <td>1383</td>\n",
       "      <td>52.0</td>\n",
       "      <td>29.0</td>\n",
       "      <td>7257.0</td>\n",
       "      <td>4241990.0</td>\n",
       "      <td>10.0</td>\n",
       "      <td>205908.0</td>\n",
       "      <td>70.0</td>\n",
       "      <td>97.0</td>\n",
       "      <td>104.0</td>\n",
       "      <td>74.0</td>\n",
       "      <td>47.0</td>\n",
       "      <td>48.0</td>\n",
       "      <td>81.0</td>\n",
       "      <td>43.0</td>\n",
       "      <td>139872.0</td>\n",
       "      <td>76161.0</td>\n",
       "      <td>515730.0</td>\n",
       "      <td>2460.0</td>\n",
       "      <td>696074.0</td>\n",
       "      <td>1</td>\n",
       "      <td>1</td>\n",
       "      <td>1</td>\n",
       "      <td>1</td>\n",
       "      <td>1</td>\n",
       "      <td>1</td>\n",
       "      <td>1</td>\n",
       "      <td>1</td>\n",
       "      <td>0</td>\n",
       "      <td>0</td>\n",
       "      <td>0</td>\n",
       "      <td>0</td>\n",
       "      <td>0</td>\n",
       "      <td>0</td>\n",
       "      <td>0</td>\n",
       "      <td>0</td>\n",
       "      <td>0</td>\n",
       "      <td>0</td>\n",
       "      <td>0</td>\n",
       "      <td>1</td>\n",
       "      <td>0</td>\n",
       "    </tr>\n",
       "    <tr>\n",
       "      <td>1384</td>\n",
       "      <td>55.0</td>\n",
       "      <td>26.0</td>\n",
       "      <td>11832.0</td>\n",
       "      <td>4059176.0</td>\n",
       "      <td>14.0</td>\n",
       "      <td>136615.0</td>\n",
       "      <td>51.0</td>\n",
       "      <td>126.0</td>\n",
       "      <td>39.0</td>\n",
       "      <td>68.0</td>\n",
       "      <td>115.0</td>\n",
       "      <td>64.0</td>\n",
       "      <td>71.0</td>\n",
       "      <td>34.0</td>\n",
       "      <td>1190577.0</td>\n",
       "      <td>628730.0</td>\n",
       "      <td>406373.0</td>\n",
       "      <td>386384.0</td>\n",
       "      <td>387088.0</td>\n",
       "      <td>1</td>\n",
       "      <td>1</td>\n",
       "      <td>1</td>\n",
       "      <td>1</td>\n",
       "      <td>1</td>\n",
       "      <td>1</td>\n",
       "      <td>1</td>\n",
       "      <td>1</td>\n",
       "      <td>0</td>\n",
       "      <td>0</td>\n",
       "      <td>0</td>\n",
       "      <td>0</td>\n",
       "      <td>0</td>\n",
       "      <td>0</td>\n",
       "      <td>0</td>\n",
       "      <td>0</td>\n",
       "      <td>0</td>\n",
       "      <td>1</td>\n",
       "      <td>0</td>\n",
       "      <td>0</td>\n",
       "      <td>0</td>\n",
       "    </tr>\n",
       "  </tbody>\n",
       "</table>\n",
       "</div>"
      ],
      "text/plain": [
       "       Age   BMI      WBC        RBC   HGB      Plat  AST 1  ALT 1   ALT4  \\\n",
       "1380  44.0  29.0   7044.0  4957174.0  15.0  202520.0  122.0   59.0   78.0   \n",
       "1381  55.0  34.0   6207.0  4636951.0  10.0  115776.0  128.0  102.0   65.0   \n",
       "1382  42.0  26.0   4913.0  4122038.0  14.0  128354.0   61.0   93.0  123.0   \n",
       "1383  52.0  29.0   7257.0  4241990.0  10.0  205908.0   70.0   97.0  104.0   \n",
       "1384  55.0  26.0  11832.0  4059176.0  14.0  136615.0   51.0  126.0   39.0   \n",
       "\n",
       "      ALT 12  ALT 24  ALT 36  ALT 48  ALT after 24 w   RNA Base     RNA 4  \\\n",
       "1380   106.0   127.0    63.0    44.0            45.0   387795.0   55938.0   \n",
       "1381    99.0   108.0    97.0    64.0            41.0   481378.0  152961.0   \n",
       "1382    61.0   116.0    87.0    39.0            24.0   612664.0  572756.0   \n",
       "1383    74.0    47.0    48.0    81.0            43.0   139872.0   76161.0   \n",
       "1384    68.0   115.0    64.0    71.0            34.0  1190577.0  628730.0   \n",
       "\n",
       "        RNA 12   RNA EOT    RNA EF  Gender_0  Fever_0  Nausea/Vomting_0  \\\n",
       "1380  406373.0  386384.0  387088.0         1        1                 1   \n",
       "1381  393339.0   73574.0  236273.0         1        1                 1   \n",
       "1382  806109.0  343719.0  160457.0         1        1                 1   \n",
       "1383  515730.0    2460.0  696074.0         1        1                 1   \n",
       "1384  406373.0  386384.0  387088.0         1        1                 1   \n",
       "\n",
       "      Headache_0  Diarrhea_0  Fatigue & generalized bone ache_0  Jaundice_0  \\\n",
       "1380           1           1                                  1           1   \n",
       "1381           1           1                                  1           1   \n",
       "1382           1           1                                  1           1   \n",
       "1383           1           1                                  1           1   \n",
       "1384           1           1                                  1           1   \n",
       "\n",
       "      Epigastric pain_0  Baseline histological Grading_3  \\\n",
       "1380                  1                                0   \n",
       "1381                  1                                0   \n",
       "1382                  1                                0   \n",
       "1383                  1                                0   \n",
       "1384                  1                                0   \n",
       "\n",
       "      Baseline histological Grading_4  Baseline histological Grading_6  \\\n",
       "1380                                0                                0   \n",
       "1381                                0                                0   \n",
       "1382                                0                                1   \n",
       "1383                                0                                0   \n",
       "1384                                0                                0   \n",
       "\n",
       "      Baseline histological Grading_7  Baseline histological Grading_8  \\\n",
       "1380                                0                                0   \n",
       "1381                                0                                0   \n",
       "1382                                0                                0   \n",
       "1383                                0                                0   \n",
       "1384                                0                                0   \n",
       "\n",
       "      Baseline histological Grading_9  Baseline histological Grading_10  \\\n",
       "1380                                0                                 0   \n",
       "1381                                0                                 1   \n",
       "1382                                0                                 0   \n",
       "1383                                0                                 0   \n",
       "1384                                0                                 0   \n",
       "\n",
       "      Baseline histological Grading_11  Baseline histological Grading_12  \\\n",
       "1380                                 0                                 0   \n",
       "1381                                 0                                 0   \n",
       "1382                                 0                                 0   \n",
       "1383                                 0                                 0   \n",
       "1384                                 0                                 0   \n",
       "\n",
       "      Baseline histological Grading_13  Baseline histological Grading_14  \\\n",
       "1380                                 0                                 0   \n",
       "1381                                 0                                 0   \n",
       "1382                                 0                                 0   \n",
       "1383                                 0                                 0   \n",
       "1384                                 1                                 0   \n",
       "\n",
       "      Baseline histological Grading_15  Baseline histological Grading_16  \n",
       "1380                                 1                                 0  \n",
       "1381                                 0                                 0  \n",
       "1382                                 0                                 0  \n",
       "1383                                 1                                 0  \n",
       "1384                                 0                                 0  "
      ]
     },
     "execution_count": 136,
     "metadata": {},
     "output_type": "execute_result"
    }
   ],
   "source": [
    "#create dummy columns with categorical variables\n",
    "data = pd.get_dummies(data)\n",
    "data.tail()"
   ]
  },
  {
   "cell_type": "code",
   "execution_count": 137,
   "metadata": {},
   "outputs": [],
   "source": [
    "data_train, data_test, transplant_train, transplant_test = train_test_split(data, transplant, \n",
    "                                                                    test_size = 0.25, random_state=123)"
   ]
  },
  {
   "cell_type": "code",
   "execution_count": 157,
   "metadata": {},
   "outputs": [
    {
     "data": {
      "text/plain": [
       "DecisionTreeClassifier(class_weight=None, criterion='gini', max_depth=3,\n",
       "                       max_features=None, max_leaf_nodes=None,\n",
       "                       min_impurity_decrease=0.0, min_impurity_split=None,\n",
       "                       min_samples_leaf=1, min_samples_split=2,\n",
       "                       min_weight_fraction_leaf=0.0, presort=False,\n",
       "                       random_state=None, splitter='best')"
      ]
     },
     "execution_count": 157,
     "metadata": {},
     "output_type": "execute_result"
    }
   ],
   "source": [
    "# Instantiate and fit a DecisionTreeClassifier\n",
    "tree_clf = DecisionTreeClassifier(criterion='gini', max_depth=3) \n",
    "tree_clf.fit(data_train, transplant_train)"
   ]
  },
  {
   "cell_type": "code",
   "execution_count": 158,
   "metadata": {},
   "outputs": [
    {
     "data": {
      "text/plain": [
       "array([0.        , 0.        , 0.15473674, 0.        , 0.        ,\n",
       "       0.        , 0.18152304, 0.        , 0.        , 0.        ,\n",
       "       0.        , 0.        , 0.17507092, 0.        , 0.        ,\n",
       "       0.22035356, 0.        , 0.11517015, 0.15314559, 0.        ,\n",
       "       0.        , 0.        , 0.        , 0.        , 0.        ,\n",
       "       0.        , 0.        , 0.        , 0.        , 0.        ,\n",
       "       0.        , 0.        , 0.        , 0.        , 0.        ,\n",
       "       0.        , 0.        , 0.        , 0.        , 0.        ])"
      ]
     },
     "execution_count": 158,
     "metadata": {},
     "output_type": "execute_result"
    }
   ],
   "source": [
    "# Feature importance\n",
    "tree_clf.feature_importances_"
   ]
  },
  {
   "cell_type": "code",
   "execution_count": 159,
   "metadata": {},
   "outputs": [
    {
     "data": {
      "image/png": "[encoded data removed]",
      "text/plain": [
       "<Figure size 576x576 with 1 Axes>"
      ]
     },
     "metadata": {
      "needs_background": "light"
     },
     "output_type": "display_data"
    }
   ],
   "source": [
    "#train feature importance\n",
    "def plot_feature_importances(model):\n",
    "    n_features = data_train.shape[1]\n",
    "    plt.figure(figsize=(8,8))\n",
    "    plt.barh(range(n_features), model.feature_importances_, align='center') \n",
    "    plt.yticks(np.arange(n_features), data_train.columns.values) \n",
    "    plt.xlabel('Feature importance')\n",
    "    plt.ylabel('Feature')\n",
    "\n",
    "plot_feature_importances(tree_clf)"
   ]
  },
  {
   "cell_type": "code",
   "execution_count": 160,
   "metadata": {},
   "outputs": [
    {
     "name": "stdout",
     "output_type": "stream",
     "text": [
      "[[252   3]\n",
      " [ 91   1]]\n",
      "              precision    recall  f1-score   support\n",
      "\n",
      "           0       0.73      0.99      0.84       255\n",
      "           1       0.25      0.01      0.02        92\n",
      "\n",
      "    accuracy                           0.73       347\n",
      "   macro avg       0.49      0.50      0.43       347\n",
      "weighted avg       0.61      0.73      0.62       347\n",
      "\n"
     ]
    }
   ],
   "source": [
    "# Test set predictions for bootstrapped \n",
    "pred = tree_clf.predict(data_test)\n",
    "\n",
    "# Confusion matrix and classification report\n",
    "print(confusion_matrix(transplant_test, pred))\n",
    "print(classification_report(transplant_test, pred))"
   ]
  },
  {
   "cell_type": "code",
   "execution_count": 161,
   "metadata": {},
   "outputs": [
    {
     "name": "stdout",
     "output_type": "stream",
     "text": [
      "Testing Accuracy for Decision Tree Classifier: 72.91%\n"
     ]
    }
   ],
   "source": [
    "print(\"Testing Accuracy for Decision Tree Classifier: {:.4}%\".format(accuracy_score(transplant_test, pred) * 100))"
   ]
  },
  {
   "cell_type": "code",
   "execution_count": 162,
   "metadata": {},
   "outputs": [],
   "source": [
    "# Instantiate a BaggingClassifier (changed maxdepth to 3 from 5)\n",
    "bagged_tree =  BaggingClassifier(DecisionTreeClassifier(criterion='gini', max_depth=3), \n",
    "                                 n_estimators=20)"
   ]
  },
  {
   "cell_type": "code",
   "execution_count": 163,
   "metadata": {},
   "outputs": [
    {
     "data": {
      "text/plain": [
       "BaggingClassifier(base_estimator=DecisionTreeClassifier(class_weight=None,\n",
       "                                                        criterion='gini',\n",
       "                                                        max_depth=3,\n",
       "                                                        max_features=None,\n",
       "                                                        max_leaf_nodes=None,\n",
       "                                                        min_impurity_decrease=0.0,\n",
       "                                                        min_impurity_split=None,\n",
       "                                                        min_samples_leaf=1,\n",
       "                                                        min_samples_split=2,\n",
       "                                                        min_weight_fraction_leaf=0.0,\n",
       "                                                        presort=False,\n",
       "                                                        random_state=None,\n",
       "                                                        splitter='best'),\n",
       "                  bootstrap=True, bootstrap_features=False, max_features=1.0,\n",
       "                  max_samples=1.0, n_estimators=20, n_jobs=None,\n",
       "                  oob_score=False, random_state=None, verbose=0,\n",
       "                  warm_start=False)"
      ]
     },
     "execution_count": 163,
     "metadata": {},
     "output_type": "execute_result"
    }
   ],
   "source": [
    "# Fit to the training data\n",
    "bagged_tree.fit(data_train, transplant_train)"
   ]
  },
  {
   "cell_type": "code",
   "execution_count": 164,
   "metadata": {},
   "outputs": [
    {
     "data": {
      "text/plain": [
       "0.7418111753371869"
      ]
     },
     "execution_count": 164,
     "metadata": {},
     "output_type": "execute_result"
    }
   ],
   "source": [
    "#check accuracy score\n",
    "# Training accuracy score\n",
    "bagged_tree.score(data_train, transplant_train)"
   ]
  },
  {
   "cell_type": "code",
   "execution_count": 165,
   "metadata": {},
   "outputs": [
    {
     "data": {
      "text/plain": [
       "0.7348703170028819"
      ]
     },
     "execution_count": 165,
     "metadata": {},
     "output_type": "execute_result"
    }
   ],
   "source": [
    "# Test accuracy score\n",
    "bagged_tree.score(data_test, transplant_test)"
   ]
  },
  {
   "cell_type": "markdown",
   "metadata": {},
   "source": [
    "# Begin random forests model"
   ]
  },
  {
   "cell_type": "code",
   "execution_count": 166,
   "metadata": {},
   "outputs": [
    {
     "data": {
      "text/plain": [
       "RandomForestClassifier(bootstrap=True, class_weight=None, criterion='gini',\n",
       "                       max_depth=3, max_features='auto', max_leaf_nodes=None,\n",
       "                       min_impurity_decrease=0.0, min_impurity_split=None,\n",
       "                       min_samples_leaf=1, min_samples_split=2,\n",
       "                       min_weight_fraction_leaf=0.0, n_estimators=100,\n",
       "                       n_jobs=None, oob_score=False, random_state=None,\n",
       "                       verbose=0, warm_start=False)"
      ]
     },
     "execution_count": 166,
     "metadata": {},
     "output_type": "execute_result"
    }
   ],
   "source": [
    "forest = RandomForestClassifier(n_estimators=100, max_depth= 3)\n",
    "forest.fit(data_train, transplant_train)"
   ]
  },
  {
   "cell_type": "code",
   "execution_count": 167,
   "metadata": {},
   "outputs": [
    {
     "data": {
      "text/plain": [
       "RandomForestClassifier(bootstrap=True, class_weight=None, criterion='gini',\n",
       "                       max_depth=3, max_features='auto', max_leaf_nodes=None,\n",
       "                       min_impurity_decrease=0.0, min_impurity_split=None,\n",
       "                       min_samples_leaf=1, min_samples_split=2,\n",
       "                       min_weight_fraction_leaf=0.0, n_estimators=100,\n",
       "                       n_jobs=None, oob_score=False, random_state=None,\n",
       "                       verbose=0, warm_start=False)"
      ]
     },
     "execution_count": 167,
     "metadata": {},
     "output_type": "execute_result"
    }
   ],
   "source": [
    "RandomForestClassifier(bootstrap=True, class_weight=None, criterion='gini',\n",
    "                       max_depth=3, max_features='auto', max_leaf_nodes=None,\n",
    "                       min_impurity_decrease=0.0, min_impurity_split=None,\n",
    "                       min_samples_leaf=1, min_samples_split=2,\n",
    "                       min_weight_fraction_leaf=0.0, n_estimators=100,\n",
    "                       n_jobs=None, oob_score=False, random_state=None,\n",
    "                       verbose=0, warm_start=False)"
   ]
  },
  {
   "cell_type": "code",
   "execution_count": 169,
   "metadata": {},
   "outputs": [
    {
     "data": {
      "text/plain": [
       "0.7398843930635838"
      ]
     },
     "execution_count": 169,
     "metadata": {},
     "output_type": "execute_result"
    }
   ],
   "source": [
    "# Training accuracy score\n",
    "forest.score(data_train, transplant_train)"
   ]
  },
  {
   "cell_type": "code",
   "execution_count": 171,
   "metadata": {},
   "outputs": [
    {
     "data": {
      "text/plain": [
       "0.7348703170028819"
      ]
     },
     "execution_count": 171,
     "metadata": {},
     "output_type": "execute_result"
    }
   ],
   "source": [
    "# Test accuracy score\n",
    "forest.score(data_test, transplant_test)"
   ]
  },
  {
   "cell_type": "code",
   "execution_count": 172,
   "metadata": {
    "collapsed": true
   },
   "outputs": [
    {
     "data": {
      "image/png": "[encoded data removed]",
      "text/plain": [
       "<Figure size 576x576 with 1 Axes>"
      ]
     },
     "metadata": {
      "needs_background": "light"
     },
     "output_type": "display_data"
    }
   ],
   "source": [
    "plot_feature_importances(forest)"
   ]
  },
  {
   "cell_type": "code",
   "execution_count": 173,
   "metadata": {},
   "outputs": [
    {
     "data": {
      "text/plain": [
       "RandomForestClassifier(bootstrap=True, class_weight=None, criterion='gini',\n",
       "                       max_depth=2, max_features=10, max_leaf_nodes=None,\n",
       "                       min_impurity_decrease=0.0, min_impurity_split=None,\n",
       "                       min_samples_leaf=1, min_samples_split=2,\n",
       "                       min_weight_fraction_leaf=0.0, n_estimators=5,\n",
       "                       n_jobs=None, oob_score=False, random_state=None,\n",
       "                       verbose=0, warm_start=False)"
      ]
     },
     "execution_count": 173,
     "metadata": {},
     "output_type": "execute_result"
    }
   ],
   "source": [
    "#create forest with small trees (max depth = 2)\n",
    "# Instantiate and fit a RandomForestClassifier\n",
    "forest_2 = RandomForestClassifier(n_estimators = 5, max_features= 10, max_depth= 2)\n",
    "forest_2.fit(data_train, transplant_train)"
   ]
  },
  {
   "cell_type": "code",
   "execution_count": 174,
   "metadata": {},
   "outputs": [
    {
     "data": {
      "text/plain": [
       "RandomForestClassifier(bootstrap=True, class_weight=None, criterion='gini',\n",
       "                       max_depth=2, max_features=10, max_leaf_nodes=None,\n",
       "                       min_impurity_decrease=0.0, min_impurity_split=None,\n",
       "                       min_samples_leaf=1, min_samples_split=2,\n",
       "                       min_weight_fraction_leaf=0.0, n_estimators=5,\n",
       "                       n_jobs=None, oob_score=False, random_state=None,\n",
       "                       verbose=0, warm_start=False)"
      ]
     },
     "execution_count": 174,
     "metadata": {},
     "output_type": "execute_result"
    }
   ],
   "source": [
    "RandomForestClassifier(bootstrap=True, class_weight=None, criterion='gini',\n",
    "                       max_depth=2, max_features=10, max_leaf_nodes=None,\n",
    "                       min_impurity_decrease=0.0, min_impurity_split=None,\n",
    "                       min_samples_leaf=1, min_samples_split=2,\n",
    "                       min_weight_fraction_leaf=0.0, n_estimators=5,\n",
    "                       n_jobs=None, oob_score=False, random_state=None,\n",
    "                       verbose=0, warm_start=False)"
   ]
  },
  {
   "cell_type": "code",
   "execution_count": 175,
   "metadata": {},
   "outputs": [],
   "source": [
    "#adjust max_features (use fewer). store in .estimators_ attribute\n",
    "#get the first tree and store it\n",
    "# First tree from forest_2\n",
    "rf_tree_1 = forest_2.estimators_[0]"
   ]
  },
  {
   "cell_type": "code",
   "execution_count": 176,
   "metadata": {},
   "outputs": [
    {
     "data": {
      "image/png": "[encoded data removed]",
      "text/plain": [
       "<Figure size 576x576 with 1 Axes>"
      ]
     },
     "metadata": {
      "needs_background": "light"
     },
     "output_type": "display_data"
    }
   ],
   "source": [
    "#these are the features given to the tree during subspace sampling\n",
    "# Feature importance of tree 1 from forest 2\n",
    "plot_feature_importances(rf_tree_1)"
   ]
  },
  {
   "cell_type": "code",
   "execution_count": 177,
   "metadata": {},
   "outputs": [],
   "source": [
    "# Second tree from forest_2\n",
    "rf_tree_2 = forest_2.estimators_[1]"
   ]
  },
  {
   "cell_type": "code",
   "execution_count": 178,
   "metadata": {},
   "outputs": [
    {
     "data": {
      "image/png": "[encoded data removed]",
      "text/plain": [
       "<Figure size 576x576 with 1 Axes>"
      ]
     },
     "metadata": {
      "needs_background": "light"
     },
     "output_type": "display_data"
    }
   ],
   "source": [
    "# Feature importance\n",
    "plot_feature_importances(rf_tree_2)"
   ]
  },
  {
   "cell_type": "markdown",
   "metadata": {},
   "source": [
    "# GridSearch CV"
   ]
  },
  {
   "cell_type": "code",
   "execution_count": 179,
   "metadata": {},
   "outputs": [],
   "source": [
    "#try this in separate notebook\n",
    "#used to determine valuable parameters\n",
    "import pandas as pd\n",
    "import numpy as np\n",
    "import matplotlib.pyplot as plt\n",
    "%matplotlib inline\n",
    "import seaborn as sns\n",
    "from sklearn.model_selection import train_test_split, GridSearchCV, cross_val_score\n",
    "from sklearn.tree import DecisionTreeClassifier\n",
    "from sklearn.ensemble import RandomForestClassifier, AdaBoostClassifier\n",
    "from sklearn.metrics import accuracy_score"
   ]
  },
  {
   "cell_type": "code",
   "execution_count": 180,
   "metadata": {
    "collapsed": true
   },
   "outputs": [
    {
     "data": {
      "text/html": [
       "<div>\n",
       "<style scoped>\n",
       "    .dataframe tbody tr th:only-of-type {\n",
       "        vertical-align: middle;\n",
       "    }\n",
       "\n",
       "    .dataframe tbody tr th {\n",
       "        vertical-align: top;\n",
       "    }\n",
       "\n",
       "    .dataframe thead th {\n",
       "        text-align: right;\n",
       "    }\n",
       "</style>\n",
       "<table border=\"1\" class=\"dataframe\">\n",
       "  <thead>\n",
       "    <tr style=\"text-align: right;\">\n",
       "      <th></th>\n",
       "      <th>Age</th>\n",
       "      <th>BMI</th>\n",
       "      <th>WBC</th>\n",
       "      <th>RBC</th>\n",
       "      <th>HGB</th>\n",
       "      <th>Plat</th>\n",
       "      <th>AST 1</th>\n",
       "      <th>ALT 1</th>\n",
       "      <th>ALT4</th>\n",
       "      <th>ALT 12</th>\n",
       "      <th>ALT 24</th>\n",
       "      <th>ALT 36</th>\n",
       "      <th>ALT 48</th>\n",
       "      <th>ALT after 24 w</th>\n",
       "      <th>RNA Base</th>\n",
       "      <th>RNA 4</th>\n",
       "      <th>RNA 12</th>\n",
       "      <th>RNA EOT</th>\n",
       "      <th>RNA EF</th>\n",
       "      <th>Gender_0</th>\n",
       "      <th>Fever_0</th>\n",
       "      <th>Nausea/Vomting_0</th>\n",
       "      <th>Headache_0</th>\n",
       "      <th>Diarrhea_0</th>\n",
       "      <th>Fatigue &amp; generalized bone ache_0</th>\n",
       "      <th>Jaundice_0</th>\n",
       "      <th>Epigastric pain_0</th>\n",
       "      <th>Baseline histological Grading_3</th>\n",
       "      <th>Baseline histological Grading_4</th>\n",
       "      <th>Baseline histological Grading_6</th>\n",
       "      <th>Baseline histological Grading_7</th>\n",
       "      <th>Baseline histological Grading_8</th>\n",
       "      <th>Baseline histological Grading_9</th>\n",
       "      <th>Baseline histological Grading_10</th>\n",
       "      <th>Baseline histological Grading_11</th>\n",
       "      <th>Baseline histological Grading_12</th>\n",
       "      <th>Baseline histological Grading_13</th>\n",
       "      <th>Baseline histological Grading_14</th>\n",
       "      <th>Baseline histological Grading_15</th>\n",
       "      <th>Baseline histological Grading_16</th>\n",
       "    </tr>\n",
       "  </thead>\n",
       "  <tbody>\n",
       "    <tr>\n",
       "      <td>count</td>\n",
       "      <td>1385.000000</td>\n",
       "      <td>1385.000000</td>\n",
       "      <td>1385.000000</td>\n",
       "      <td>1.385000e+03</td>\n",
       "      <td>1385.000000</td>\n",
       "      <td>1385.00000</td>\n",
       "      <td>1385.000000</td>\n",
       "      <td>1385.000000</td>\n",
       "      <td>1385.000000</td>\n",
       "      <td>1385.000000</td>\n",
       "      <td>1385.000000</td>\n",
       "      <td>1385.000000</td>\n",
       "      <td>1385.000000</td>\n",
       "      <td>1385.000000</td>\n",
       "      <td>1.385000e+03</td>\n",
       "      <td>1.385000e+03</td>\n",
       "      <td>1.385000e+03</td>\n",
       "      <td>1385.000000</td>\n",
       "      <td>1385.000000</td>\n",
       "      <td>1385.0</td>\n",
       "      <td>1385.0</td>\n",
       "      <td>1385.0</td>\n",
       "      <td>1385.0</td>\n",
       "      <td>1385.0</td>\n",
       "      <td>1385.0</td>\n",
       "      <td>1385.0</td>\n",
       "      <td>1385.0</td>\n",
       "      <td>1385.000000</td>\n",
       "      <td>1385.000000</td>\n",
       "      <td>1385.000000</td>\n",
       "      <td>1385.000000</td>\n",
       "      <td>1385.000000</td>\n",
       "      <td>1385.000000</td>\n",
       "      <td>1385.000000</td>\n",
       "      <td>1385.000000</td>\n",
       "      <td>1385.000000</td>\n",
       "      <td>1385.000000</td>\n",
       "      <td>1385.000000</td>\n",
       "      <td>1385.000000</td>\n",
       "      <td>1385.000000</td>\n",
       "    </tr>\n",
       "    <tr>\n",
       "      <td>mean</td>\n",
       "      <td>46.319134</td>\n",
       "      <td>28.608664</td>\n",
       "      <td>7533.386282</td>\n",
       "      <td>4.422130e+06</td>\n",
       "      <td>12.587726</td>\n",
       "      <td>158348.06065</td>\n",
       "      <td>82.774729</td>\n",
       "      <td>83.916245</td>\n",
       "      <td>83.405776</td>\n",
       "      <td>83.510469</td>\n",
       "      <td>83.709025</td>\n",
       "      <td>83.288809</td>\n",
       "      <td>83.800722</td>\n",
       "      <td>33.501083</td>\n",
       "      <td>5.909512e+05</td>\n",
       "      <td>6.013275e+05</td>\n",
       "      <td>4.017151e+05</td>\n",
       "      <td>394786.355235</td>\n",
       "      <td>398140.533574</td>\n",
       "      <td>1.0</td>\n",
       "      <td>1.0</td>\n",
       "      <td>1.0</td>\n",
       "      <td>1.0</td>\n",
       "      <td>1.0</td>\n",
       "      <td>1.0</td>\n",
       "      <td>1.0</td>\n",
       "      <td>1.0</td>\n",
       "      <td>0.064260</td>\n",
       "      <td>0.067870</td>\n",
       "      <td>0.073646</td>\n",
       "      <td>0.051986</td>\n",
       "      <td>0.070036</td>\n",
       "      <td>0.074368</td>\n",
       "      <td>0.062816</td>\n",
       "      <td>0.154513</td>\n",
       "      <td>0.072924</td>\n",
       "      <td>0.068592</td>\n",
       "      <td>0.076534</td>\n",
       "      <td>0.100361</td>\n",
       "      <td>0.062094</td>\n",
       "    </tr>\n",
       "    <tr>\n",
       "      <td>std</td>\n",
       "      <td>8.781506</td>\n",
       "      <td>4.076215</td>\n",
       "      <td>2668.220333</td>\n",
       "      <td>3.463577e+05</td>\n",
       "      <td>1.713511</td>\n",
       "      <td>38794.78555</td>\n",
       "      <td>25.993242</td>\n",
       "      <td>25.922800</td>\n",
       "      <td>26.529730</td>\n",
       "      <td>26.064478</td>\n",
       "      <td>26.205994</td>\n",
       "      <td>26.146769</td>\n",
       "      <td>25.966617</td>\n",
       "      <td>6.948315</td>\n",
       "      <td>3.539354e+05</td>\n",
       "      <td>3.619547e+05</td>\n",
       "      <td>2.220597e+05</td>\n",
       "      <td>195584.622749</td>\n",
       "      <td>198375.078731</td>\n",
       "      <td>0.0</td>\n",
       "      <td>0.0</td>\n",
       "      <td>0.0</td>\n",
       "      <td>0.0</td>\n",
       "      <td>0.0</td>\n",
       "      <td>0.0</td>\n",
       "      <td>0.0</td>\n",
       "      <td>0.0</td>\n",
       "      <td>0.245304</td>\n",
       "      <td>0.251614</td>\n",
       "      <td>0.261289</td>\n",
       "      <td>0.222078</td>\n",
       "      <td>0.255300</td>\n",
       "      <td>0.262464</td>\n",
       "      <td>0.242719</td>\n",
       "      <td>0.361570</td>\n",
       "      <td>0.260106</td>\n",
       "      <td>0.252850</td>\n",
       "      <td>0.265947</td>\n",
       "      <td>0.300589</td>\n",
       "      <td>0.241413</td>\n",
       "    </tr>\n",
       "    <tr>\n",
       "      <td>min</td>\n",
       "      <td>32.000000</td>\n",
       "      <td>22.000000</td>\n",
       "      <td>2991.000000</td>\n",
       "      <td>3.816422e+06</td>\n",
       "      <td>10.000000</td>\n",
       "      <td>93013.00000</td>\n",
       "      <td>39.000000</td>\n",
       "      <td>39.000000</td>\n",
       "      <td>39.000000</td>\n",
       "      <td>39.000000</td>\n",
       "      <td>39.000000</td>\n",
       "      <td>39.000000</td>\n",
       "      <td>39.000000</td>\n",
       "      <td>22.000000</td>\n",
       "      <td>1.100000e+01</td>\n",
       "      <td>1.900000e+02</td>\n",
       "      <td>6.170000e+02</td>\n",
       "      <td>408.000000</td>\n",
       "      <td>570.000000</td>\n",
       "      <td>1.0</td>\n",
       "      <td>1.0</td>\n",
       "      <td>1.0</td>\n",
       "      <td>1.0</td>\n",
       "      <td>1.0</td>\n",
       "      <td>1.0</td>\n",
       "      <td>1.0</td>\n",
       "      <td>1.0</td>\n",
       "      <td>0.000000</td>\n",
       "      <td>0.000000</td>\n",
       "      <td>0.000000</td>\n",
       "      <td>0.000000</td>\n",
       "      <td>0.000000</td>\n",
       "      <td>0.000000</td>\n",
       "      <td>0.000000</td>\n",
       "      <td>0.000000</td>\n",
       "      <td>0.000000</td>\n",
       "      <td>0.000000</td>\n",
       "      <td>0.000000</td>\n",
       "      <td>0.000000</td>\n",
       "      <td>0.000000</td>\n",
       "    </tr>\n",
       "    <tr>\n",
       "      <td>25%</td>\n",
       "      <td>39.000000</td>\n",
       "      <td>25.000000</td>\n",
       "      <td>5219.000000</td>\n",
       "      <td>4.121374e+06</td>\n",
       "      <td>11.000000</td>\n",
       "      <td>124479.00000</td>\n",
       "      <td>60.000000</td>\n",
       "      <td>62.000000</td>\n",
       "      <td>61.000000</td>\n",
       "      <td>60.000000</td>\n",
       "      <td>61.000000</td>\n",
       "      <td>61.000000</td>\n",
       "      <td>61.000000</td>\n",
       "      <td>28.000000</td>\n",
       "      <td>2.692530e+05</td>\n",
       "      <td>2.725070e+05</td>\n",
       "      <td>2.699330e+05</td>\n",
       "      <td>284760.000000</td>\n",
       "      <td>275007.000000</td>\n",
       "      <td>1.0</td>\n",
       "      <td>1.0</td>\n",
       "      <td>1.0</td>\n",
       "      <td>1.0</td>\n",
       "      <td>1.0</td>\n",
       "      <td>1.0</td>\n",
       "      <td>1.0</td>\n",
       "      <td>1.0</td>\n",
       "      <td>0.000000</td>\n",
       "      <td>0.000000</td>\n",
       "      <td>0.000000</td>\n",
       "      <td>0.000000</td>\n",
       "      <td>0.000000</td>\n",
       "      <td>0.000000</td>\n",
       "      <td>0.000000</td>\n",
       "      <td>0.000000</td>\n",
       "      <td>0.000000</td>\n",
       "      <td>0.000000</td>\n",
       "      <td>0.000000</td>\n",
       "      <td>0.000000</td>\n",
       "      <td>0.000000</td>\n",
       "    </tr>\n",
       "    <tr>\n",
       "      <td>50%</td>\n",
       "      <td>46.000000</td>\n",
       "      <td>29.000000</td>\n",
       "      <td>7498.000000</td>\n",
       "      <td>4.438465e+06</td>\n",
       "      <td>13.000000</td>\n",
       "      <td>157916.00000</td>\n",
       "      <td>83.000000</td>\n",
       "      <td>83.000000</td>\n",
       "      <td>82.000000</td>\n",
       "      <td>84.000000</td>\n",
       "      <td>83.000000</td>\n",
       "      <td>84.000000</td>\n",
       "      <td>84.000000</td>\n",
       "      <td>34.000000</td>\n",
       "      <td>5.931030e+05</td>\n",
       "      <td>5.981280e+05</td>\n",
       "      <td>4.063730e+05</td>\n",
       "      <td>386384.000000</td>\n",
       "      <td>387088.000000</td>\n",
       "      <td>1.0</td>\n",
       "      <td>1.0</td>\n",
       "      <td>1.0</td>\n",
       "      <td>1.0</td>\n",
       "      <td>1.0</td>\n",
       "      <td>1.0</td>\n",
       "      <td>1.0</td>\n",
       "      <td>1.0</td>\n",
       "      <td>0.000000</td>\n",
       "      <td>0.000000</td>\n",
       "      <td>0.000000</td>\n",
       "      <td>0.000000</td>\n",
       "      <td>0.000000</td>\n",
       "      <td>0.000000</td>\n",
       "      <td>0.000000</td>\n",
       "      <td>0.000000</td>\n",
       "      <td>0.000000</td>\n",
       "      <td>0.000000</td>\n",
       "      <td>0.000000</td>\n",
       "      <td>0.000000</td>\n",
       "      <td>0.000000</td>\n",
       "    </tr>\n",
       "    <tr>\n",
       "      <td>75%</td>\n",
       "      <td>54.000000</td>\n",
       "      <td>32.000000</td>\n",
       "      <td>9902.000000</td>\n",
       "      <td>4.721279e+06</td>\n",
       "      <td>14.000000</td>\n",
       "      <td>190314.00000</td>\n",
       "      <td>105.000000</td>\n",
       "      <td>106.000000</td>\n",
       "      <td>107.000000</td>\n",
       "      <td>106.000000</td>\n",
       "      <td>107.000000</td>\n",
       "      <td>106.000000</td>\n",
       "      <td>106.000000</td>\n",
       "      <td>40.000000</td>\n",
       "      <td>8.867910e+05</td>\n",
       "      <td>9.090930e+05</td>\n",
       "      <td>5.248190e+05</td>\n",
       "      <td>517806.000000</td>\n",
       "      <td>527864.000000</td>\n",
       "      <td>1.0</td>\n",
       "      <td>1.0</td>\n",
       "      <td>1.0</td>\n",
       "      <td>1.0</td>\n",
       "      <td>1.0</td>\n",
       "      <td>1.0</td>\n",
       "      <td>1.0</td>\n",
       "      <td>1.0</td>\n",
       "      <td>0.000000</td>\n",
       "      <td>0.000000</td>\n",
       "      <td>0.000000</td>\n",
       "      <td>0.000000</td>\n",
       "      <td>0.000000</td>\n",
       "      <td>0.000000</td>\n",
       "      <td>0.000000</td>\n",
       "      <td>0.000000</td>\n",
       "      <td>0.000000</td>\n",
       "      <td>0.000000</td>\n",
       "      <td>0.000000</td>\n",
       "      <td>0.000000</td>\n",
       "      <td>0.000000</td>\n",
       "    </tr>\n",
       "    <tr>\n",
       "      <td>max</td>\n",
       "      <td>61.000000</td>\n",
       "      <td>35.000000</td>\n",
       "      <td>12101.000000</td>\n",
       "      <td>5.018451e+06</td>\n",
       "      <td>15.000000</td>\n",
       "      <td>226464.00000</td>\n",
       "      <td>128.000000</td>\n",
       "      <td>128.000000</td>\n",
       "      <td>128.000000</td>\n",
       "      <td>128.000000</td>\n",
       "      <td>128.000000</td>\n",
       "      <td>128.000000</td>\n",
       "      <td>128.000000</td>\n",
       "      <td>45.000000</td>\n",
       "      <td>1.201086e+06</td>\n",
       "      <td>1.201715e+06</td>\n",
       "      <td>3.731527e+06</td>\n",
       "      <td>808450.000000</td>\n",
       "      <td>810333.000000</td>\n",
       "      <td>1.0</td>\n",
       "      <td>1.0</td>\n",
       "      <td>1.0</td>\n",
       "      <td>1.0</td>\n",
       "      <td>1.0</td>\n",
       "      <td>1.0</td>\n",
       "      <td>1.0</td>\n",
       "      <td>1.0</td>\n",
       "      <td>1.000000</td>\n",
       "      <td>1.000000</td>\n",
       "      <td>1.000000</td>\n",
       "      <td>1.000000</td>\n",
       "      <td>1.000000</td>\n",
       "      <td>1.000000</td>\n",
       "      <td>1.000000</td>\n",
       "      <td>1.000000</td>\n",
       "      <td>1.000000</td>\n",
       "      <td>1.000000</td>\n",
       "      <td>1.000000</td>\n",
       "      <td>1.000000</td>\n",
       "      <td>1.000000</td>\n",
       "    </tr>\n",
       "  </tbody>\n",
       "</table>\n",
       "</div>"
      ],
      "text/plain": [
       "               Age          BMI           WBC           RBC          HGB  \\\n",
       "count  1385.000000  1385.000000   1385.000000  1.385000e+03  1385.000000   \n",
       "mean     46.319134    28.608664   7533.386282  4.422130e+06    12.587726   \n",
       "std       8.781506     4.076215   2668.220333  3.463577e+05     1.713511   \n",
       "min      32.000000    22.000000   2991.000000  3.816422e+06    10.000000   \n",
       "25%      39.000000    25.000000   5219.000000  4.121374e+06    11.000000   \n",
       "50%      46.000000    29.000000   7498.000000  4.438465e+06    13.000000   \n",
       "75%      54.000000    32.000000   9902.000000  4.721279e+06    14.000000   \n",
       "max      61.000000    35.000000  12101.000000  5.018451e+06    15.000000   \n",
       "\n",
       "               Plat        AST 1        ALT 1         ALT4       ALT 12  \\\n",
       "count    1385.00000  1385.000000  1385.000000  1385.000000  1385.000000   \n",
       "mean   158348.06065    82.774729    83.916245    83.405776    83.510469   \n",
       "std     38794.78555    25.993242    25.922800    26.529730    26.064478   \n",
       "min     93013.00000    39.000000    39.000000    39.000000    39.000000   \n",
       "25%    124479.00000    60.000000    62.000000    61.000000    60.000000   \n",
       "50%    157916.00000    83.000000    83.000000    82.000000    84.000000   \n",
       "75%    190314.00000   105.000000   106.000000   107.000000   106.000000   \n",
       "max    226464.00000   128.000000   128.000000   128.000000   128.000000   \n",
       "\n",
       "            ALT 24       ALT 36       ALT 48  ALT after 24 w      RNA Base  \\\n",
       "count  1385.000000  1385.000000  1385.000000     1385.000000  1.385000e+03   \n",
       "mean     83.709025    83.288809    83.800722       33.501083  5.909512e+05   \n",
       "std      26.205994    26.146769    25.966617        6.948315  3.539354e+05   \n",
       "min      39.000000    39.000000    39.000000       22.000000  1.100000e+01   \n",
       "25%      61.000000    61.000000    61.000000       28.000000  2.692530e+05   \n",
       "50%      83.000000    84.000000    84.000000       34.000000  5.931030e+05   \n",
       "75%     107.000000   106.000000   106.000000       40.000000  8.867910e+05   \n",
       "max     128.000000   128.000000   128.000000       45.000000  1.201086e+06   \n",
       "\n",
       "              RNA 4        RNA 12        RNA EOT         RNA EF  Gender_0  \\\n",
       "count  1.385000e+03  1.385000e+03    1385.000000    1385.000000    1385.0   \n",
       "mean   6.013275e+05  4.017151e+05  394786.355235  398140.533574       1.0   \n",
       "std    3.619547e+05  2.220597e+05  195584.622749  198375.078731       0.0   \n",
       "min    1.900000e+02  6.170000e+02     408.000000     570.000000       1.0   \n",
       "25%    2.725070e+05  2.699330e+05  284760.000000  275007.000000       1.0   \n",
       "50%    5.981280e+05  4.063730e+05  386384.000000  387088.000000       1.0   \n",
       "75%    9.090930e+05  5.248190e+05  517806.000000  527864.000000       1.0   \n",
       "max    1.201715e+06  3.731527e+06  808450.000000  810333.000000       1.0   \n",
       "\n",
       "       Fever_0  Nausea/Vomting_0  Headache_0  Diarrhea_0  \\\n",
       "count   1385.0            1385.0      1385.0      1385.0   \n",
       "mean       1.0               1.0         1.0         1.0   \n",
       "std        0.0               0.0         0.0         0.0   \n",
       "min        1.0               1.0         1.0         1.0   \n",
       "25%        1.0               1.0         1.0         1.0   \n",
       "50%        1.0               1.0         1.0         1.0   \n",
       "75%        1.0               1.0         1.0         1.0   \n",
       "max        1.0               1.0         1.0         1.0   \n",
       "\n",
       "       Fatigue & generalized bone ache_0  Jaundice_0  Epigastric pain_0  \\\n",
       "count                             1385.0      1385.0             1385.0   \n",
       "mean                                 1.0         1.0                1.0   \n",
       "std                                  0.0         0.0                0.0   \n",
       "min                                  1.0         1.0                1.0   \n",
       "25%                                  1.0         1.0                1.0   \n",
       "50%                                  1.0         1.0                1.0   \n",
       "75%                                  1.0         1.0                1.0   \n",
       "max                                  1.0         1.0                1.0   \n",
       "\n",
       "       Baseline histological Grading_3  Baseline histological Grading_4  \\\n",
       "count                      1385.000000                      1385.000000   \n",
       "mean                          0.064260                         0.067870   \n",
       "std                           0.245304                         0.251614   \n",
       "min                           0.000000                         0.000000   \n",
       "25%                           0.000000                         0.000000   \n",
       "50%                           0.000000                         0.000000   \n",
       "75%                           0.000000                         0.000000   \n",
       "max                           1.000000                         1.000000   \n",
       "\n",
       "       Baseline histological Grading_6  Baseline histological Grading_7  \\\n",
       "count                      1385.000000                      1385.000000   \n",
       "mean                          0.073646                         0.051986   \n",
       "std                           0.261289                         0.222078   \n",
       "min                           0.000000                         0.000000   \n",
       "25%                           0.000000                         0.000000   \n",
       "50%                           0.000000                         0.000000   \n",
       "75%                           0.000000                         0.000000   \n",
       "max                           1.000000                         1.000000   \n",
       "\n",
       "       Baseline histological Grading_8  Baseline histological Grading_9  \\\n",
       "count                      1385.000000                      1385.000000   \n",
       "mean                          0.070036                         0.074368   \n",
       "std                           0.255300                         0.262464   \n",
       "min                           0.000000                         0.000000   \n",
       "25%                           0.000000                         0.000000   \n",
       "50%                           0.000000                         0.000000   \n",
       "75%                           0.000000                         0.000000   \n",
       "max                           1.000000                         1.000000   \n",
       "\n",
       "       Baseline histological Grading_10  Baseline histological Grading_11  \\\n",
       "count                       1385.000000                       1385.000000   \n",
       "mean                           0.062816                          0.154513   \n",
       "std                            0.242719                          0.361570   \n",
       "min                            0.000000                          0.000000   \n",
       "25%                            0.000000                          0.000000   \n",
       "50%                            0.000000                          0.000000   \n",
       "75%                            0.000000                          0.000000   \n",
       "max                            1.000000                          1.000000   \n",
       "\n",
       "       Baseline histological Grading_12  Baseline histological Grading_13  \\\n",
       "count                       1385.000000                       1385.000000   \n",
       "mean                           0.072924                          0.068592   \n",
       "std                            0.260106                          0.252850   \n",
       "min                            0.000000                          0.000000   \n",
       "25%                            0.000000                          0.000000   \n",
       "50%                            0.000000                          0.000000   \n",
       "75%                            0.000000                          0.000000   \n",
       "max                            1.000000                          1.000000   \n",
       "\n",
       "       Baseline histological Grading_14  Baseline histological Grading_15  \\\n",
       "count                       1385.000000                       1385.000000   \n",
       "mean                           0.076534                          0.100361   \n",
       "std                            0.265947                          0.300589   \n",
       "min                            0.000000                          0.000000   \n",
       "25%                            0.000000                          0.000000   \n",
       "50%                            0.000000                          0.000000   \n",
       "75%                            0.000000                          0.000000   \n",
       "max                            1.000000                          1.000000   \n",
       "\n",
       "       Baseline histological Grading_16  \n",
       "count                       1385.000000  \n",
       "mean                           0.062094  \n",
       "std                            0.241413  \n",
       "min                            0.000000  \n",
       "25%                            0.000000  \n",
       "50%                            0.000000  \n",
       "75%                            0.000000  \n",
       "max                            1.000000  "
      ]
     },
     "metadata": {},
     "output_type": "display_data"
    },
    {
     "data": {
      "image/png": "[encoded data removed]",
      "text/plain": [
       "<Figure size 1440x720 with 1 Axes>"
      ]
     },
     "metadata": {
      "needs_background": "light"
     },
     "output_type": "display_data"
    }
   ],
   "source": [
    "#EDA -- this is bad but maybe try on continuous normalized variables l8r\n",
    "# Explore the dataset\n",
    "display(data.describe())\n",
    "\n",
    "# Create a box plot of each column\n",
    "plt.figure(figsize=(20, 10))\n",
    "plt.boxplot([data[col] for col in data.columns])\n",
    "plt.title(\"Box plot of all columns in dataset\")\n",
    "plt.xticks(range(len(data.columns.values)), data.columns.values)\n",
    "plt.show()"
   ]
  },
  {
   "cell_type": "code",
   "execution_count": 188,
   "metadata": {},
   "outputs": [
    {
     "data": {
      "text/html": [
       "<div>\n",
       "<style scoped>\n",
       "    .dataframe tbody tr th:only-of-type {\n",
       "        vertical-align: middle;\n",
       "    }\n",
       "\n",
       "    .dataframe tbody tr th {\n",
       "        vertical-align: top;\n",
       "    }\n",
       "\n",
       "    .dataframe thead th {\n",
       "        text-align: right;\n",
       "    }\n",
       "</style>\n",
       "<table border=\"1\" class=\"dataframe\">\n",
       "  <thead>\n",
       "    <tr style=\"text-align: right;\">\n",
       "      <th></th>\n",
       "      <th>Age</th>\n",
       "      <th>BMI</th>\n",
       "      <th>WBC</th>\n",
       "      <th>RBC</th>\n",
       "      <th>HGB</th>\n",
       "      <th>Plat</th>\n",
       "      <th>AST 1</th>\n",
       "      <th>ALT 1</th>\n",
       "      <th>ALT4</th>\n",
       "      <th>ALT 12</th>\n",
       "      <th>ALT 24</th>\n",
       "      <th>ALT 36</th>\n",
       "      <th>ALT 48</th>\n",
       "      <th>ALT after 24 w</th>\n",
       "      <th>RNA Base</th>\n",
       "      <th>RNA 4</th>\n",
       "      <th>RNA 12</th>\n",
       "      <th>RNA EOT</th>\n",
       "      <th>RNA EF</th>\n",
       "      <th>Gender_0</th>\n",
       "      <th>Fever_0</th>\n",
       "      <th>Nausea/Vomting_0</th>\n",
       "      <th>Headache_0</th>\n",
       "      <th>Diarrhea_0</th>\n",
       "      <th>Fatigue &amp; generalized bone ache_0</th>\n",
       "      <th>Jaundice_0</th>\n",
       "      <th>Epigastric pain_0</th>\n",
       "      <th>Baseline histological Grading_3</th>\n",
       "      <th>Baseline histological Grading_4</th>\n",
       "      <th>Baseline histological Grading_6</th>\n",
       "      <th>Baseline histological Grading_7</th>\n",
       "      <th>Baseline histological Grading_8</th>\n",
       "      <th>Baseline histological Grading_9</th>\n",
       "      <th>Baseline histological Grading_10</th>\n",
       "      <th>Baseline histological Grading_11</th>\n",
       "      <th>Baseline histological Grading_12</th>\n",
       "      <th>Baseline histological Grading_13</th>\n",
       "      <th>Baseline histological Grading_14</th>\n",
       "      <th>Baseline histological Grading_15</th>\n",
       "      <th>Baseline histological Grading_16</th>\n",
       "    </tr>\n",
       "  </thead>\n",
       "  <tbody>\n",
       "    <tr>\n",
       "      <td>0</td>\n",
       "      <td>56.0</td>\n",
       "      <td>35.0</td>\n",
       "      <td>7425.0</td>\n",
       "      <td>4248807.0</td>\n",
       "      <td>14.0</td>\n",
       "      <td>112132.0</td>\n",
       "      <td>99.0</td>\n",
       "      <td>84.0</td>\n",
       "      <td>52.0</td>\n",
       "      <td>109.0</td>\n",
       "      <td>81.0</td>\n",
       "      <td>84.0</td>\n",
       "      <td>84.0</td>\n",
       "      <td>34.0</td>\n",
       "      <td>655330.0</td>\n",
       "      <td>634536.0</td>\n",
       "      <td>288194.0</td>\n",
       "      <td>386384.0</td>\n",
       "      <td>387088.0</td>\n",
       "      <td>1</td>\n",
       "      <td>1</td>\n",
       "      <td>1</td>\n",
       "      <td>1</td>\n",
       "      <td>1</td>\n",
       "      <td>1</td>\n",
       "      <td>1</td>\n",
       "      <td>1</td>\n",
       "      <td>0</td>\n",
       "      <td>0</td>\n",
       "      <td>0</td>\n",
       "      <td>0</td>\n",
       "      <td>0</td>\n",
       "      <td>0</td>\n",
       "      <td>0</td>\n",
       "      <td>0</td>\n",
       "      <td>0</td>\n",
       "      <td>1</td>\n",
       "      <td>0</td>\n",
       "      <td>0</td>\n",
       "      <td>0</td>\n",
       "    </tr>\n",
       "    <tr>\n",
       "      <td>1</td>\n",
       "      <td>46.0</td>\n",
       "      <td>29.0</td>\n",
       "      <td>12101.0</td>\n",
       "      <td>4429425.0</td>\n",
       "      <td>10.0</td>\n",
       "      <td>129367.0</td>\n",
       "      <td>91.0</td>\n",
       "      <td>123.0</td>\n",
       "      <td>95.0</td>\n",
       "      <td>75.0</td>\n",
       "      <td>113.0</td>\n",
       "      <td>57.0</td>\n",
       "      <td>123.0</td>\n",
       "      <td>44.0</td>\n",
       "      <td>40620.0</td>\n",
       "      <td>538635.0</td>\n",
       "      <td>637056.0</td>\n",
       "      <td>336804.0</td>\n",
       "      <td>31085.0</td>\n",
       "      <td>1</td>\n",
       "      <td>1</td>\n",
       "      <td>1</td>\n",
       "      <td>1</td>\n",
       "      <td>1</td>\n",
       "      <td>1</td>\n",
       "      <td>1</td>\n",
       "      <td>1</td>\n",
       "      <td>0</td>\n",
       "      <td>1</td>\n",
       "      <td>0</td>\n",
       "      <td>0</td>\n",
       "      <td>0</td>\n",
       "      <td>0</td>\n",
       "      <td>0</td>\n",
       "      <td>0</td>\n",
       "      <td>0</td>\n",
       "      <td>0</td>\n",
       "      <td>0</td>\n",
       "      <td>0</td>\n",
       "      <td>0</td>\n",
       "    </tr>\n",
       "    <tr>\n",
       "      <td>2</td>\n",
       "      <td>57.0</td>\n",
       "      <td>33.0</td>\n",
       "      <td>4178.0</td>\n",
       "      <td>4621191.0</td>\n",
       "      <td>12.0</td>\n",
       "      <td>151522.0</td>\n",
       "      <td>113.0</td>\n",
       "      <td>49.0</td>\n",
       "      <td>95.0</td>\n",
       "      <td>107.0</td>\n",
       "      <td>116.0</td>\n",
       "      <td>84.0</td>\n",
       "      <td>84.0</td>\n",
       "      <td>34.0</td>\n",
       "      <td>571148.0</td>\n",
       "      <td>661346.0</td>\n",
       "      <td>406373.0</td>\n",
       "      <td>735945.0</td>\n",
       "      <td>558829.0</td>\n",
       "      <td>1</td>\n",
       "      <td>1</td>\n",
       "      <td>1</td>\n",
       "      <td>1</td>\n",
       "      <td>1</td>\n",
       "      <td>1</td>\n",
       "      <td>1</td>\n",
       "      <td>1</td>\n",
       "      <td>0</td>\n",
       "      <td>1</td>\n",
       "      <td>0</td>\n",
       "      <td>0</td>\n",
       "      <td>0</td>\n",
       "      <td>0</td>\n",
       "      <td>0</td>\n",
       "      <td>0</td>\n",
       "      <td>0</td>\n",
       "      <td>0</td>\n",
       "      <td>0</td>\n",
       "      <td>0</td>\n",
       "      <td>0</td>\n",
       "    </tr>\n",
       "    <tr>\n",
       "      <td>3</td>\n",
       "      <td>49.0</td>\n",
       "      <td>33.0</td>\n",
       "      <td>6490.0</td>\n",
       "      <td>4794631.0</td>\n",
       "      <td>10.0</td>\n",
       "      <td>146457.0</td>\n",
       "      <td>43.0</td>\n",
       "      <td>64.0</td>\n",
       "      <td>109.0</td>\n",
       "      <td>80.0</td>\n",
       "      <td>88.0</td>\n",
       "      <td>48.0</td>\n",
       "      <td>77.0</td>\n",
       "      <td>33.0</td>\n",
       "      <td>1041941.0</td>\n",
       "      <td>449939.0</td>\n",
       "      <td>585688.0</td>\n",
       "      <td>744463.0</td>\n",
       "      <td>582301.0</td>\n",
       "      <td>1</td>\n",
       "      <td>1</td>\n",
       "      <td>1</td>\n",
       "      <td>1</td>\n",
       "      <td>1</td>\n",
       "      <td>1</td>\n",
       "      <td>1</td>\n",
       "      <td>1</td>\n",
       "      <td>0</td>\n",
       "      <td>0</td>\n",
       "      <td>0</td>\n",
       "      <td>0</td>\n",
       "      <td>0</td>\n",
       "      <td>0</td>\n",
       "      <td>1</td>\n",
       "      <td>0</td>\n",
       "      <td>0</td>\n",
       "      <td>0</td>\n",
       "      <td>0</td>\n",
       "      <td>0</td>\n",
       "      <td>0</td>\n",
       "    </tr>\n",
       "    <tr>\n",
       "      <td>4</td>\n",
       "      <td>59.0</td>\n",
       "      <td>32.0</td>\n",
       "      <td>3661.0</td>\n",
       "      <td>4606375.0</td>\n",
       "      <td>11.0</td>\n",
       "      <td>187684.0</td>\n",
       "      <td>99.0</td>\n",
       "      <td>104.0</td>\n",
       "      <td>67.0</td>\n",
       "      <td>48.0</td>\n",
       "      <td>120.0</td>\n",
       "      <td>94.0</td>\n",
       "      <td>90.0</td>\n",
       "      <td>30.0</td>\n",
       "      <td>660410.0</td>\n",
       "      <td>738756.0</td>\n",
       "      <td>3731527.0</td>\n",
       "      <td>338946.0</td>\n",
       "      <td>242861.0</td>\n",
       "      <td>1</td>\n",
       "      <td>1</td>\n",
       "      <td>1</td>\n",
       "      <td>1</td>\n",
       "      <td>1</td>\n",
       "      <td>1</td>\n",
       "      <td>1</td>\n",
       "      <td>1</td>\n",
       "      <td>0</td>\n",
       "      <td>0</td>\n",
       "      <td>0</td>\n",
       "      <td>0</td>\n",
       "      <td>0</td>\n",
       "      <td>0</td>\n",
       "      <td>0</td>\n",
       "      <td>1</td>\n",
       "      <td>0</td>\n",
       "      <td>0</td>\n",
       "      <td>0</td>\n",
       "      <td>0</td>\n",
       "      <td>0</td>\n",
       "    </tr>\n",
       "  </tbody>\n",
       "</table>\n",
       "</div>"
      ],
      "text/plain": [
       "    Age   BMI      WBC        RBC   HGB      Plat  AST 1  ALT 1   ALT4  \\\n",
       "0  56.0  35.0   7425.0  4248807.0  14.0  112132.0   99.0   84.0   52.0   \n",
       "1  46.0  29.0  12101.0  4429425.0  10.0  129367.0   91.0  123.0   95.0   \n",
       "2  57.0  33.0   4178.0  4621191.0  12.0  151522.0  113.0   49.0   95.0   \n",
       "3  49.0  33.0   6490.0  4794631.0  10.0  146457.0   43.0   64.0  109.0   \n",
       "4  59.0  32.0   3661.0  4606375.0  11.0  187684.0   99.0  104.0   67.0   \n",
       "\n",
       "   ALT 12  ALT 24  ALT 36  ALT 48  ALT after 24 w   RNA Base     RNA 4  \\\n",
       "0   109.0    81.0    84.0    84.0            34.0   655330.0  634536.0   \n",
       "1    75.0   113.0    57.0   123.0            44.0    40620.0  538635.0   \n",
       "2   107.0   116.0    84.0    84.0            34.0   571148.0  661346.0   \n",
       "3    80.0    88.0    48.0    77.0            33.0  1041941.0  449939.0   \n",
       "4    48.0   120.0    94.0    90.0            30.0   660410.0  738756.0   \n",
       "\n",
       "      RNA 12   RNA EOT    RNA EF  Gender_0  Fever_0  Nausea/Vomting_0  \\\n",
       "0   288194.0  386384.0  387088.0         1        1                 1   \n",
       "1   637056.0  336804.0   31085.0         1        1                 1   \n",
       "2   406373.0  735945.0  558829.0         1        1                 1   \n",
       "3   585688.0  744463.0  582301.0         1        1                 1   \n",
       "4  3731527.0  338946.0  242861.0         1        1                 1   \n",
       "\n",
       "   Headache_0  Diarrhea_0  Fatigue & generalized bone ache_0  Jaundice_0  \\\n",
       "0           1           1                                  1           1   \n",
       "1           1           1                                  1           1   \n",
       "2           1           1                                  1           1   \n",
       "3           1           1                                  1           1   \n",
       "4           1           1                                  1           1   \n",
       "\n",
       "   Epigastric pain_0  Baseline histological Grading_3  \\\n",
       "0                  1                                0   \n",
       "1                  1                                0   \n",
       "2                  1                                0   \n",
       "3                  1                                0   \n",
       "4                  1                                0   \n",
       "\n",
       "   Baseline histological Grading_4  Baseline histological Grading_6  \\\n",
       "0                                0                                0   \n",
       "1                                1                                0   \n",
       "2                                1                                0   \n",
       "3                                0                                0   \n",
       "4                                0                                0   \n",
       "\n",
       "   Baseline histological Grading_7  Baseline histological Grading_8  \\\n",
       "0                                0                                0   \n",
       "1                                0                                0   \n",
       "2                                0                                0   \n",
       "3                                0                                0   \n",
       "4                                0                                0   \n",
       "\n",
       "   Baseline histological Grading_9  Baseline histological Grading_10  \\\n",
       "0                                0                                 0   \n",
       "1                                0                                 0   \n",
       "2                                0                                 0   \n",
       "3                                0                                 1   \n",
       "4                                0                                 0   \n",
       "\n",
       "   Baseline histological Grading_11  Baseline histological Grading_12  \\\n",
       "0                                 0                                 0   \n",
       "1                                 0                                 0   \n",
       "2                                 0                                 0   \n",
       "3                                 0                                 0   \n",
       "4                                 1                                 0   \n",
       "\n",
       "   Baseline histological Grading_13  Baseline histological Grading_14  \\\n",
       "0                                 1                                 0   \n",
       "1                                 0                                 0   \n",
       "2                                 0                                 0   \n",
       "3                                 0                                 0   \n",
       "4                                 0                                 0   \n",
       "\n",
       "   Baseline histological Grading_15  Baseline histological Grading_16  \n",
       "0                                 0                                 0  \n",
       "1                                 0                                 0  \n",
       "2                                 0                                 0  \n",
       "3                                 0                                 0  \n",
       "4                                 0                                 0  "
      ]
     },
     "execution_count": 188,
     "metadata": {},
     "output_type": "execute_result"
    }
   ],
   "source": [
    "data.head()"
   ]
  },
  {
   "cell_type": "code",
   "execution_count": 186,
   "metadata": {},
   "outputs": [
    {
     "ename": "KeyError",
     "evalue": "'Transplant'",
     "output_type": "error",
     "traceback": [
      "\u001b[0;31m---------------------------------------------------------------------------\u001b[0m",
      "\u001b[0;31mKeyError\u001b[0m                                  Traceback (most recent call last)",
      "\u001b[0;32m~/opt/anaconda3/lib/python3.7/site-packages/pandas/core/indexes/base.py\u001b[0m in \u001b[0;36mget_loc\u001b[0;34m(self, key, method, tolerance)\u001b[0m\n\u001b[1;32m   2896\u001b[0m             \u001b[0;32mtry\u001b[0m\u001b[0;34m:\u001b[0m\u001b[0;34m\u001b[0m\u001b[0;34m\u001b[0m\u001b[0m\n\u001b[0;32m-> 2897\u001b[0;31m                 \u001b[0;32mreturn\u001b[0m \u001b[0mself\u001b[0m\u001b[0;34m.\u001b[0m\u001b[0m_engine\u001b[0m\u001b[0;34m.\u001b[0m\u001b[0mget_loc\u001b[0m\u001b[0;34m(\u001b[0m\u001b[0mkey\u001b[0m\u001b[0;34m)\u001b[0m\u001b[0;34m\u001b[0m\u001b[0;34m\u001b[0m\u001b[0m\n\u001b[0m\u001b[1;32m   2898\u001b[0m             \u001b[0;32mexcept\u001b[0m \u001b[0mKeyError\u001b[0m\u001b[0;34m:\u001b[0m\u001b[0;34m\u001b[0m\u001b[0;34m\u001b[0m\u001b[0m\n",
      "\u001b[0;32mpandas/_libs/index.pyx\u001b[0m in \u001b[0;36mpandas._libs.index.IndexEngine.get_loc\u001b[0;34m()\u001b[0m\n",
      "\u001b[0;32mpandas/_libs/index.pyx\u001b[0m in \u001b[0;36mpandas._libs.index.IndexEngine.get_loc\u001b[0;34m()\u001b[0m\n",
      "\u001b[0;32mpandas/_libs/hashtable_class_helper.pxi\u001b[0m in \u001b[0;36mpandas._libs.hashtable.PyObjectHashTable.get_item\u001b[0;34m()\u001b[0m\n",
      "\u001b[0;32mpandas/_libs/hashtable_class_helper.pxi\u001b[0m in \u001b[0;36mpandas._libs.hashtable.PyObjectHashTable.get_item\u001b[0;34m()\u001b[0m\n",
      "\u001b[0;31mKeyError\u001b[0m: 'Transplant'",
      "\nDuring handling of the above exception, another exception occurred:\n",
      "\u001b[0;31mKeyError\u001b[0m                                  Traceback (most recent call last)",
      "\u001b[0;32m<ipython-input-186-0ebc6dc181dd>\u001b[0m in \u001b[0;36m<module>\u001b[0;34m\u001b[0m\n\u001b[1;32m      1\u001b[0m \u001b[0;31m# #isolate target variable -- since i did this earlier, do i do it again? try in separate notebook\u001b[0m\u001b[0;34m\u001b[0m\u001b[0;34m\u001b[0m\u001b[0;34m\u001b[0m\u001b[0m\n\u001b[0;32m----> 2\u001b[0;31m \u001b[0my\u001b[0m \u001b[0;34m=\u001b[0m \u001b[0mdata\u001b[0m\u001b[0;34m[\u001b[0m\u001b[0;34m'Transplant'\u001b[0m\u001b[0;34m]\u001b[0m\u001b[0;34m\u001b[0m\u001b[0;34m\u001b[0m\u001b[0m\n\u001b[0m\u001b[1;32m      3\u001b[0m \u001b[0mX\u001b[0m \u001b[0;34m=\u001b[0m \u001b[0mdata\u001b[0m\u001b[0;34m.\u001b[0m\u001b[0mdrop\u001b[0m\u001b[0;34m(\u001b[0m\u001b[0;34m'Transplant'\u001b[0m\u001b[0;34m,\u001b[0m \u001b[0maxis\u001b[0m\u001b[0;34m=\u001b[0m\u001b[0;36m1\u001b[0m\u001b[0;34m)\u001b[0m\u001b[0;34m\u001b[0m\u001b[0;34m\u001b[0m\u001b[0m\n\u001b[1;32m      4\u001b[0m \u001b[0mX\u001b[0m\u001b[0;34m.\u001b[0m\u001b[0mhead\u001b[0m\u001b[0;34m(\u001b[0m\u001b[0;34m)\u001b[0m\u001b[0;34m\u001b[0m\u001b[0;34m\u001b[0m\u001b[0m\n",
      "\u001b[0;32m~/opt/anaconda3/lib/python3.7/site-packages/pandas/core/frame.py\u001b[0m in \u001b[0;36m__getitem__\u001b[0;34m(self, key)\u001b[0m\n\u001b[1;32m   2978\u001b[0m             \u001b[0;32mif\u001b[0m \u001b[0mself\u001b[0m\u001b[0;34m.\u001b[0m\u001b[0mcolumns\u001b[0m\u001b[0;34m.\u001b[0m\u001b[0mnlevels\u001b[0m \u001b[0;34m>\u001b[0m \u001b[0;36m1\u001b[0m\u001b[0;34m:\u001b[0m\u001b[0;34m\u001b[0m\u001b[0;34m\u001b[0m\u001b[0m\n\u001b[1;32m   2979\u001b[0m                 \u001b[0;32mreturn\u001b[0m \u001b[0mself\u001b[0m\u001b[0;34m.\u001b[0m\u001b[0m_getitem_multilevel\u001b[0m\u001b[0;34m(\u001b[0m\u001b[0mkey\u001b[0m\u001b[0;34m)\u001b[0m\u001b[0;34m\u001b[0m\u001b[0;34m\u001b[0m\u001b[0m\n\u001b[0;32m-> 2980\u001b[0;31m             \u001b[0mindexer\u001b[0m \u001b[0;34m=\u001b[0m \u001b[0mself\u001b[0m\u001b[0;34m.\u001b[0m\u001b[0mcolumns\u001b[0m\u001b[0;34m.\u001b[0m\u001b[0mget_loc\u001b[0m\u001b[0;34m(\u001b[0m\u001b[0mkey\u001b[0m\u001b[0;34m)\u001b[0m\u001b[0;34m\u001b[0m\u001b[0;34m\u001b[0m\u001b[0m\n\u001b[0m\u001b[1;32m   2981\u001b[0m             \u001b[0;32mif\u001b[0m \u001b[0mis_integer\u001b[0m\u001b[0;34m(\u001b[0m\u001b[0mindexer\u001b[0m\u001b[0;34m)\u001b[0m\u001b[0;34m:\u001b[0m\u001b[0;34m\u001b[0m\u001b[0;34m\u001b[0m\u001b[0m\n\u001b[1;32m   2982\u001b[0m                 \u001b[0mindexer\u001b[0m \u001b[0;34m=\u001b[0m \u001b[0;34m[\u001b[0m\u001b[0mindexer\u001b[0m\u001b[0;34m]\u001b[0m\u001b[0;34m\u001b[0m\u001b[0;34m\u001b[0m\u001b[0m\n",
      "\u001b[0;32m~/opt/anaconda3/lib/python3.7/site-packages/pandas/core/indexes/base.py\u001b[0m in \u001b[0;36mget_loc\u001b[0;34m(self, key, method, tolerance)\u001b[0m\n\u001b[1;32m   2897\u001b[0m                 \u001b[0;32mreturn\u001b[0m \u001b[0mself\u001b[0m\u001b[0;34m.\u001b[0m\u001b[0m_engine\u001b[0m\u001b[0;34m.\u001b[0m\u001b[0mget_loc\u001b[0m\u001b[0;34m(\u001b[0m\u001b[0mkey\u001b[0m\u001b[0;34m)\u001b[0m\u001b[0;34m\u001b[0m\u001b[0;34m\u001b[0m\u001b[0m\n\u001b[1;32m   2898\u001b[0m             \u001b[0;32mexcept\u001b[0m \u001b[0mKeyError\u001b[0m\u001b[0;34m:\u001b[0m\u001b[0;34m\u001b[0m\u001b[0;34m\u001b[0m\u001b[0m\n\u001b[0;32m-> 2899\u001b[0;31m                 \u001b[0;32mreturn\u001b[0m \u001b[0mself\u001b[0m\u001b[0;34m.\u001b[0m\u001b[0m_engine\u001b[0m\u001b[0;34m.\u001b[0m\u001b[0mget_loc\u001b[0m\u001b[0;34m(\u001b[0m\u001b[0mself\u001b[0m\u001b[0;34m.\u001b[0m\u001b[0m_maybe_cast_indexer\u001b[0m\u001b[0;34m(\u001b[0m\u001b[0mkey\u001b[0m\u001b[0;34m)\u001b[0m\u001b[0;34m)\u001b[0m\u001b[0;34m\u001b[0m\u001b[0;34m\u001b[0m\u001b[0m\n\u001b[0m\u001b[1;32m   2900\u001b[0m         \u001b[0mindexer\u001b[0m \u001b[0;34m=\u001b[0m \u001b[0mself\u001b[0m\u001b[0;34m.\u001b[0m\u001b[0mget_indexer\u001b[0m\u001b[0;34m(\u001b[0m\u001b[0;34m[\u001b[0m\u001b[0mkey\u001b[0m\u001b[0;34m]\u001b[0m\u001b[0;34m,\u001b[0m \u001b[0mmethod\u001b[0m\u001b[0;34m=\u001b[0m\u001b[0mmethod\u001b[0m\u001b[0;34m,\u001b[0m \u001b[0mtolerance\u001b[0m\u001b[0;34m=\u001b[0m\u001b[0mtolerance\u001b[0m\u001b[0;34m)\u001b[0m\u001b[0;34m\u001b[0m\u001b[0;34m\u001b[0m\u001b[0m\n\u001b[1;32m   2901\u001b[0m         \u001b[0;32mif\u001b[0m \u001b[0mindexer\u001b[0m\u001b[0;34m.\u001b[0m\u001b[0mndim\u001b[0m \u001b[0;34m>\u001b[0m \u001b[0;36m1\u001b[0m \u001b[0;32mor\u001b[0m \u001b[0mindexer\u001b[0m\u001b[0;34m.\u001b[0m\u001b[0msize\u001b[0m \u001b[0;34m>\u001b[0m \u001b[0;36m1\u001b[0m\u001b[0;34m:\u001b[0m\u001b[0;34m\u001b[0m\u001b[0;34m\u001b[0m\u001b[0m\n",
      "\u001b[0;32mpandas/_libs/index.pyx\u001b[0m in \u001b[0;36mpandas._libs.index.IndexEngine.get_loc\u001b[0;34m()\u001b[0m\n",
      "\u001b[0;32mpandas/_libs/index.pyx\u001b[0m in \u001b[0;36mpandas._libs.index.IndexEngine.get_loc\u001b[0;34m()\u001b[0m\n",
      "\u001b[0;32mpandas/_libs/hashtable_class_helper.pxi\u001b[0m in \u001b[0;36mpandas._libs.hashtable.PyObjectHashTable.get_item\u001b[0;34m()\u001b[0m\n",
      "\u001b[0;32mpandas/_libs/hashtable_class_helper.pxi\u001b[0m in \u001b[0;36mpandas._libs.hashtable.PyObjectHashTable.get_item\u001b[0;34m()\u001b[0m\n",
      "\u001b[0;31mKeyError\u001b[0m: 'Transplant'"
     ]
    }
   ],
   "source": [
    "# #isolate target variable -- since i did this earlier, do i do it again? try in separate notebook\n",
    "y = data['Transplant']\n",
    "X = data.drop('Transplant', axis=1)\n",
    "X.head()"
   ]
  },
  {
   "cell_type": "code",
   "execution_count": 187,
   "metadata": {},
   "outputs": [],
   "source": [
    "y = y.astype('int')"
   ]
  },
  {
   "cell_type": "code",
   "execution_count": 184,
   "metadata": {},
   "outputs": [],
   "source": [
    "# Split the data into training and test sets\n",
    "#what is random state?\n",
    "X_train, X_test, y_train, y_test = train_test_split(X, y, random_state=42)"
   ]
  },
  {
   "cell_type": "code",
   "execution_count": 185,
   "metadata": {},
   "outputs": [
    {
     "name": "stderr",
     "output_type": "stream",
     "text": [
      "/Users/brittanyfowle/opt/anaconda3/lib/python3.7/site-packages/sklearn/model_selection/_validation.py:530: FutureWarning: From version 0.22, errors during fit will result in a cross validation score of NaN by default. Use error_score='raise' if you want an exception raised or error_score=np.nan to adopt the behavior from version 0.22.\n",
      "  FutureWarning)\n"
     ]
    },
    {
     "ename": "ValueError",
     "evalue": "Unknown label type: 'unknown'",
     "output_type": "error",
     "traceback": [
      "\u001b[0;31m---------------------------------------------------------------------------\u001b[0m",
      "\u001b[0;31mValueError\u001b[0m                                Traceback (most recent call last)",
      "\u001b[0;32m<ipython-input-185-fe536c9b54b7>\u001b[0m in \u001b[0;36m<module>\u001b[0;34m\u001b[0m\n\u001b[1;32m      1\u001b[0m \u001b[0mdt_clf\u001b[0m \u001b[0;34m=\u001b[0m \u001b[0mDecisionTreeClassifier\u001b[0m\u001b[0;34m(\u001b[0m\u001b[0;34m)\u001b[0m\u001b[0;34m\u001b[0m\u001b[0;34m\u001b[0m\u001b[0m\n\u001b[1;32m      2\u001b[0m \u001b[0;34m\u001b[0m\u001b[0m\n\u001b[0;32m----> 3\u001b[0;31m \u001b[0mdt_cv_score\u001b[0m \u001b[0;34m=\u001b[0m \u001b[0mcross_val_score\u001b[0m\u001b[0;34m(\u001b[0m\u001b[0mdt_clf\u001b[0m\u001b[0;34m,\u001b[0m \u001b[0mX_train\u001b[0m\u001b[0;34m,\u001b[0m \u001b[0my_train\u001b[0m\u001b[0;34m,\u001b[0m \u001b[0mcv\u001b[0m\u001b[0;34m=\u001b[0m\u001b[0;36m3\u001b[0m\u001b[0;34m)\u001b[0m\u001b[0;34m\u001b[0m\u001b[0;34m\u001b[0m\u001b[0m\n\u001b[0m\u001b[1;32m      4\u001b[0m \u001b[0mmean_dt_cv_score\u001b[0m \u001b[0;34m=\u001b[0m \u001b[0mnp\u001b[0m\u001b[0;34m.\u001b[0m\u001b[0mmean\u001b[0m\u001b[0;34m(\u001b[0m\u001b[0mdt_cv_score\u001b[0m\u001b[0;34m)\u001b[0m\u001b[0;34m\u001b[0m\u001b[0;34m\u001b[0m\u001b[0m\n\u001b[1;32m      5\u001b[0m \u001b[0;34m\u001b[0m\u001b[0m\n",
      "\u001b[0;32m~/opt/anaconda3/lib/python3.7/site-packages/sklearn/model_selection/_validation.py\u001b[0m in \u001b[0;36mcross_val_score\u001b[0;34m(estimator, X, y, groups, scoring, cv, n_jobs, verbose, fit_params, pre_dispatch, error_score)\u001b[0m\n\u001b[1;32m    389\u001b[0m                                 \u001b[0mfit_params\u001b[0m\u001b[0;34m=\u001b[0m\u001b[0mfit_params\u001b[0m\u001b[0;34m,\u001b[0m\u001b[0;34m\u001b[0m\u001b[0;34m\u001b[0m\u001b[0m\n\u001b[1;32m    390\u001b[0m                                 \u001b[0mpre_dispatch\u001b[0m\u001b[0;34m=\u001b[0m\u001b[0mpre_dispatch\u001b[0m\u001b[0;34m,\u001b[0m\u001b[0;34m\u001b[0m\u001b[0;34m\u001b[0m\u001b[0m\n\u001b[0;32m--> 391\u001b[0;31m                                 error_score=error_score)\n\u001b[0m\u001b[1;32m    392\u001b[0m     \u001b[0;32mreturn\u001b[0m \u001b[0mcv_results\u001b[0m\u001b[0;34m[\u001b[0m\u001b[0;34m'test_score'\u001b[0m\u001b[0;34m]\u001b[0m\u001b[0;34m\u001b[0m\u001b[0;34m\u001b[0m\u001b[0m\n\u001b[1;32m    393\u001b[0m \u001b[0;34m\u001b[0m\u001b[0m\n",
      "\u001b[0;32m~/opt/anaconda3/lib/python3.7/site-packages/sklearn/model_selection/_validation.py\u001b[0m in \u001b[0;36mcross_validate\u001b[0;34m(estimator, X, y, groups, scoring, cv, n_jobs, verbose, fit_params, pre_dispatch, return_train_score, return_estimator, error_score)\u001b[0m\n\u001b[1;32m    230\u001b[0m             \u001b[0mreturn_times\u001b[0m\u001b[0;34m=\u001b[0m\u001b[0;32mTrue\u001b[0m\u001b[0;34m,\u001b[0m \u001b[0mreturn_estimator\u001b[0m\u001b[0;34m=\u001b[0m\u001b[0mreturn_estimator\u001b[0m\u001b[0;34m,\u001b[0m\u001b[0;34m\u001b[0m\u001b[0;34m\u001b[0m\u001b[0m\n\u001b[1;32m    231\u001b[0m             error_score=error_score)\n\u001b[0;32m--> 232\u001b[0;31m         for train, test in cv.split(X, y, groups))\n\u001b[0m\u001b[1;32m    233\u001b[0m \u001b[0;34m\u001b[0m\u001b[0m\n\u001b[1;32m    234\u001b[0m     \u001b[0mzipped_scores\u001b[0m \u001b[0;34m=\u001b[0m \u001b[0mlist\u001b[0m\u001b[0;34m(\u001b[0m\u001b[0mzip\u001b[0m\u001b[0;34m(\u001b[0m\u001b[0;34m*\u001b[0m\u001b[0mscores\u001b[0m\u001b[0;34m)\u001b[0m\u001b[0;34m)\u001b[0m\u001b[0;34m\u001b[0m\u001b[0;34m\u001b[0m\u001b[0m\n",
      "\u001b[0;32m~/opt/anaconda3/lib/python3.7/site-packages/joblib/parallel.py\u001b[0m in \u001b[0;36m__call__\u001b[0;34m(self, iterable)\u001b[0m\n\u001b[1;32m    919\u001b[0m             \u001b[0;31m# remaining jobs.\u001b[0m\u001b[0;34m\u001b[0m\u001b[0;34m\u001b[0m\u001b[0;34m\u001b[0m\u001b[0m\n\u001b[1;32m    920\u001b[0m             \u001b[0mself\u001b[0m\u001b[0;34m.\u001b[0m\u001b[0m_iterating\u001b[0m \u001b[0;34m=\u001b[0m \u001b[0;32mFalse\u001b[0m\u001b[0;34m\u001b[0m\u001b[0;34m\u001b[0m\u001b[0m\n\u001b[0;32m--> 921\u001b[0;31m             \u001b[0;32mif\u001b[0m \u001b[0mself\u001b[0m\u001b[0;34m.\u001b[0m\u001b[0mdispatch_one_batch\u001b[0m\u001b[0;34m(\u001b[0m\u001b[0miterator\u001b[0m\u001b[0;34m)\u001b[0m\u001b[0;34m:\u001b[0m\u001b[0;34m\u001b[0m\u001b[0;34m\u001b[0m\u001b[0m\n\u001b[0m\u001b[1;32m    922\u001b[0m                 \u001b[0mself\u001b[0m\u001b[0;34m.\u001b[0m\u001b[0m_iterating\u001b[0m \u001b[0;34m=\u001b[0m \u001b[0mself\u001b[0m\u001b[0;34m.\u001b[0m\u001b[0m_original_iterator\u001b[0m \u001b[0;32mis\u001b[0m \u001b[0;32mnot\u001b[0m \u001b[0;32mNone\u001b[0m\u001b[0;34m\u001b[0m\u001b[0;34m\u001b[0m\u001b[0m\n\u001b[1;32m    923\u001b[0m \u001b[0;34m\u001b[0m\u001b[0m\n",
      "\u001b[0;32m~/opt/anaconda3/lib/python3.7/site-packages/joblib/parallel.py\u001b[0m in \u001b[0;36mdispatch_one_batch\u001b[0;34m(self, iterator)\u001b[0m\n\u001b[1;32m    757\u001b[0m                 \u001b[0;32mreturn\u001b[0m \u001b[0;32mFalse\u001b[0m\u001b[0;34m\u001b[0m\u001b[0;34m\u001b[0m\u001b[0m\n\u001b[1;32m    758\u001b[0m             \u001b[0;32melse\u001b[0m\u001b[0;34m:\u001b[0m\u001b[0;34m\u001b[0m\u001b[0;34m\u001b[0m\u001b[0m\n\u001b[0;32m--> 759\u001b[0;31m                 \u001b[0mself\u001b[0m\u001b[0;34m.\u001b[0m\u001b[0m_dispatch\u001b[0m\u001b[0;34m(\u001b[0m\u001b[0mtasks\u001b[0m\u001b[0;34m)\u001b[0m\u001b[0;34m\u001b[0m\u001b[0;34m\u001b[0m\u001b[0m\n\u001b[0m\u001b[1;32m    760\u001b[0m                 \u001b[0;32mreturn\u001b[0m \u001b[0;32mTrue\u001b[0m\u001b[0;34m\u001b[0m\u001b[0;34m\u001b[0m\u001b[0m\n\u001b[1;32m    761\u001b[0m \u001b[0;34m\u001b[0m\u001b[0m\n",
      "\u001b[0;32m~/opt/anaconda3/lib/python3.7/site-packages/joblib/parallel.py\u001b[0m in \u001b[0;36m_dispatch\u001b[0;34m(self, batch)\u001b[0m\n\u001b[1;32m    714\u001b[0m         \u001b[0;32mwith\u001b[0m \u001b[0mself\u001b[0m\u001b[0;34m.\u001b[0m\u001b[0m_lock\u001b[0m\u001b[0;34m:\u001b[0m\u001b[0;34m\u001b[0m\u001b[0;34m\u001b[0m\u001b[0m\n\u001b[1;32m    715\u001b[0m             \u001b[0mjob_idx\u001b[0m \u001b[0;34m=\u001b[0m \u001b[0mlen\u001b[0m\u001b[0;34m(\u001b[0m\u001b[0mself\u001b[0m\u001b[0;34m.\u001b[0m\u001b[0m_jobs\u001b[0m\u001b[0;34m)\u001b[0m\u001b[0;34m\u001b[0m\u001b[0;34m\u001b[0m\u001b[0m\n\u001b[0;32m--> 716\u001b[0;31m             \u001b[0mjob\u001b[0m \u001b[0;34m=\u001b[0m \u001b[0mself\u001b[0m\u001b[0;34m.\u001b[0m\u001b[0m_backend\u001b[0m\u001b[0;34m.\u001b[0m\u001b[0mapply_async\u001b[0m\u001b[0;34m(\u001b[0m\u001b[0mbatch\u001b[0m\u001b[0;34m,\u001b[0m \u001b[0mcallback\u001b[0m\u001b[0;34m=\u001b[0m\u001b[0mcb\u001b[0m\u001b[0;34m)\u001b[0m\u001b[0;34m\u001b[0m\u001b[0;34m\u001b[0m\u001b[0m\n\u001b[0m\u001b[1;32m    717\u001b[0m             \u001b[0;31m# A job can complete so quickly than its callback is\u001b[0m\u001b[0;34m\u001b[0m\u001b[0;34m\u001b[0m\u001b[0;34m\u001b[0m\u001b[0m\n\u001b[1;32m    718\u001b[0m             \u001b[0;31m# called before we get here, causing self._jobs to\u001b[0m\u001b[0;34m\u001b[0m\u001b[0;34m\u001b[0m\u001b[0;34m\u001b[0m\u001b[0m\n",
      "\u001b[0;32m~/opt/anaconda3/lib/python3.7/site-packages/joblib/_parallel_backends.py\u001b[0m in \u001b[0;36mapply_async\u001b[0;34m(self, func, callback)\u001b[0m\n\u001b[1;32m    180\u001b[0m     \u001b[0;32mdef\u001b[0m \u001b[0mapply_async\u001b[0m\u001b[0;34m(\u001b[0m\u001b[0mself\u001b[0m\u001b[0;34m,\u001b[0m \u001b[0mfunc\u001b[0m\u001b[0;34m,\u001b[0m \u001b[0mcallback\u001b[0m\u001b[0;34m=\u001b[0m\u001b[0;32mNone\u001b[0m\u001b[0;34m)\u001b[0m\u001b[0;34m:\u001b[0m\u001b[0;34m\u001b[0m\u001b[0;34m\u001b[0m\u001b[0m\n\u001b[1;32m    181\u001b[0m         \u001b[0;34m\"\"\"Schedule a func to be run\"\"\"\u001b[0m\u001b[0;34m\u001b[0m\u001b[0;34m\u001b[0m\u001b[0m\n\u001b[0;32m--> 182\u001b[0;31m         \u001b[0mresult\u001b[0m \u001b[0;34m=\u001b[0m \u001b[0mImmediateResult\u001b[0m\u001b[0;34m(\u001b[0m\u001b[0mfunc\u001b[0m\u001b[0;34m)\u001b[0m\u001b[0;34m\u001b[0m\u001b[0;34m\u001b[0m\u001b[0m\n\u001b[0m\u001b[1;32m    183\u001b[0m         \u001b[0;32mif\u001b[0m \u001b[0mcallback\u001b[0m\u001b[0;34m:\u001b[0m\u001b[0;34m\u001b[0m\u001b[0;34m\u001b[0m\u001b[0m\n\u001b[1;32m    184\u001b[0m             \u001b[0mcallback\u001b[0m\u001b[0;34m(\u001b[0m\u001b[0mresult\u001b[0m\u001b[0;34m)\u001b[0m\u001b[0;34m\u001b[0m\u001b[0;34m\u001b[0m\u001b[0m\n",
      "\u001b[0;32m~/opt/anaconda3/lib/python3.7/site-packages/joblib/_parallel_backends.py\u001b[0m in \u001b[0;36m__init__\u001b[0;34m(self, batch)\u001b[0m\n\u001b[1;32m    547\u001b[0m         \u001b[0;31m# Don't delay the application, to avoid keeping the input\u001b[0m\u001b[0;34m\u001b[0m\u001b[0;34m\u001b[0m\u001b[0;34m\u001b[0m\u001b[0m\n\u001b[1;32m    548\u001b[0m         \u001b[0;31m# arguments in memory\u001b[0m\u001b[0;34m\u001b[0m\u001b[0;34m\u001b[0m\u001b[0;34m\u001b[0m\u001b[0m\n\u001b[0;32m--> 549\u001b[0;31m         \u001b[0mself\u001b[0m\u001b[0;34m.\u001b[0m\u001b[0mresults\u001b[0m \u001b[0;34m=\u001b[0m \u001b[0mbatch\u001b[0m\u001b[0;34m(\u001b[0m\u001b[0;34m)\u001b[0m\u001b[0;34m\u001b[0m\u001b[0;34m\u001b[0m\u001b[0m\n\u001b[0m\u001b[1;32m    550\u001b[0m \u001b[0;34m\u001b[0m\u001b[0m\n\u001b[1;32m    551\u001b[0m     \u001b[0;32mdef\u001b[0m \u001b[0mget\u001b[0m\u001b[0;34m(\u001b[0m\u001b[0mself\u001b[0m\u001b[0;34m)\u001b[0m\u001b[0;34m:\u001b[0m\u001b[0;34m\u001b[0m\u001b[0;34m\u001b[0m\u001b[0m\n",
      "\u001b[0;32m~/opt/anaconda3/lib/python3.7/site-packages/joblib/parallel.py\u001b[0m in \u001b[0;36m__call__\u001b[0;34m(self)\u001b[0m\n\u001b[1;32m    223\u001b[0m         \u001b[0;32mwith\u001b[0m \u001b[0mparallel_backend\u001b[0m\u001b[0;34m(\u001b[0m\u001b[0mself\u001b[0m\u001b[0;34m.\u001b[0m\u001b[0m_backend\u001b[0m\u001b[0;34m,\u001b[0m \u001b[0mn_jobs\u001b[0m\u001b[0;34m=\u001b[0m\u001b[0mself\u001b[0m\u001b[0;34m.\u001b[0m\u001b[0m_n_jobs\u001b[0m\u001b[0;34m)\u001b[0m\u001b[0;34m:\u001b[0m\u001b[0;34m\u001b[0m\u001b[0;34m\u001b[0m\u001b[0m\n\u001b[1;32m    224\u001b[0m             return [func(*args, **kwargs)\n\u001b[0;32m--> 225\u001b[0;31m                     for func, args, kwargs in self.items]\n\u001b[0m\u001b[1;32m    226\u001b[0m \u001b[0;34m\u001b[0m\u001b[0m\n\u001b[1;32m    227\u001b[0m     \u001b[0;32mdef\u001b[0m \u001b[0m__len__\u001b[0m\u001b[0;34m(\u001b[0m\u001b[0mself\u001b[0m\u001b[0;34m)\u001b[0m\u001b[0;34m:\u001b[0m\u001b[0;34m\u001b[0m\u001b[0;34m\u001b[0m\u001b[0m\n",
      "\u001b[0;32m~/opt/anaconda3/lib/python3.7/site-packages/joblib/parallel.py\u001b[0m in \u001b[0;36m<listcomp>\u001b[0;34m(.0)\u001b[0m\n\u001b[1;32m    223\u001b[0m         \u001b[0;32mwith\u001b[0m \u001b[0mparallel_backend\u001b[0m\u001b[0;34m(\u001b[0m\u001b[0mself\u001b[0m\u001b[0;34m.\u001b[0m\u001b[0m_backend\u001b[0m\u001b[0;34m,\u001b[0m \u001b[0mn_jobs\u001b[0m\u001b[0;34m=\u001b[0m\u001b[0mself\u001b[0m\u001b[0;34m.\u001b[0m\u001b[0m_n_jobs\u001b[0m\u001b[0;34m)\u001b[0m\u001b[0;34m:\u001b[0m\u001b[0;34m\u001b[0m\u001b[0;34m\u001b[0m\u001b[0m\n\u001b[1;32m    224\u001b[0m             return [func(*args, **kwargs)\n\u001b[0;32m--> 225\u001b[0;31m                     for func, args, kwargs in self.items]\n\u001b[0m\u001b[1;32m    226\u001b[0m \u001b[0;34m\u001b[0m\u001b[0m\n\u001b[1;32m    227\u001b[0m     \u001b[0;32mdef\u001b[0m \u001b[0m__len__\u001b[0m\u001b[0;34m(\u001b[0m\u001b[0mself\u001b[0m\u001b[0;34m)\u001b[0m\u001b[0;34m:\u001b[0m\u001b[0;34m\u001b[0m\u001b[0;34m\u001b[0m\u001b[0m\n",
      "\u001b[0;32m~/opt/anaconda3/lib/python3.7/site-packages/sklearn/model_selection/_validation.py\u001b[0m in \u001b[0;36m_fit_and_score\u001b[0;34m(estimator, X, y, scorer, train, test, verbose, parameters, fit_params, return_train_score, return_parameters, return_n_test_samples, return_times, return_estimator, error_score)\u001b[0m\n\u001b[1;32m    514\u001b[0m             \u001b[0mestimator\u001b[0m\u001b[0;34m.\u001b[0m\u001b[0mfit\u001b[0m\u001b[0;34m(\u001b[0m\u001b[0mX_train\u001b[0m\u001b[0;34m,\u001b[0m \u001b[0;34m**\u001b[0m\u001b[0mfit_params\u001b[0m\u001b[0;34m)\u001b[0m\u001b[0;34m\u001b[0m\u001b[0;34m\u001b[0m\u001b[0m\n\u001b[1;32m    515\u001b[0m         \u001b[0;32melse\u001b[0m\u001b[0;34m:\u001b[0m\u001b[0;34m\u001b[0m\u001b[0;34m\u001b[0m\u001b[0m\n\u001b[0;32m--> 516\u001b[0;31m             \u001b[0mestimator\u001b[0m\u001b[0;34m.\u001b[0m\u001b[0mfit\u001b[0m\u001b[0;34m(\u001b[0m\u001b[0mX_train\u001b[0m\u001b[0;34m,\u001b[0m \u001b[0my_train\u001b[0m\u001b[0;34m,\u001b[0m \u001b[0;34m**\u001b[0m\u001b[0mfit_params\u001b[0m\u001b[0;34m)\u001b[0m\u001b[0;34m\u001b[0m\u001b[0;34m\u001b[0m\u001b[0m\n\u001b[0m\u001b[1;32m    517\u001b[0m \u001b[0;34m\u001b[0m\u001b[0m\n\u001b[1;32m    518\u001b[0m     \u001b[0;32mexcept\u001b[0m \u001b[0mException\u001b[0m \u001b[0;32mas\u001b[0m \u001b[0me\u001b[0m\u001b[0;34m:\u001b[0m\u001b[0;34m\u001b[0m\u001b[0;34m\u001b[0m\u001b[0m\n",
      "\u001b[0;32m~/opt/anaconda3/lib/python3.7/site-packages/sklearn/tree/tree.py\u001b[0m in \u001b[0;36mfit\u001b[0;34m(self, X, y, sample_weight, check_input, X_idx_sorted)\u001b[0m\n\u001b[1;32m    814\u001b[0m             \u001b[0msample_weight\u001b[0m\u001b[0;34m=\u001b[0m\u001b[0msample_weight\u001b[0m\u001b[0;34m,\u001b[0m\u001b[0;34m\u001b[0m\u001b[0;34m\u001b[0m\u001b[0m\n\u001b[1;32m    815\u001b[0m             \u001b[0mcheck_input\u001b[0m\u001b[0;34m=\u001b[0m\u001b[0mcheck_input\u001b[0m\u001b[0;34m,\u001b[0m\u001b[0;34m\u001b[0m\u001b[0;34m\u001b[0m\u001b[0m\n\u001b[0;32m--> 816\u001b[0;31m             X_idx_sorted=X_idx_sorted)\n\u001b[0m\u001b[1;32m    817\u001b[0m         \u001b[0;32mreturn\u001b[0m \u001b[0mself\u001b[0m\u001b[0;34m\u001b[0m\u001b[0;34m\u001b[0m\u001b[0m\n\u001b[1;32m    818\u001b[0m \u001b[0;34m\u001b[0m\u001b[0m\n",
      "\u001b[0;32m~/opt/anaconda3/lib/python3.7/site-packages/sklearn/tree/tree.py\u001b[0m in \u001b[0;36mfit\u001b[0;34m(self, X, y, sample_weight, check_input, X_idx_sorted)\u001b[0m\n\u001b[1;32m    152\u001b[0m \u001b[0;34m\u001b[0m\u001b[0m\n\u001b[1;32m    153\u001b[0m         \u001b[0;32mif\u001b[0m \u001b[0mis_classification\u001b[0m\u001b[0;34m:\u001b[0m\u001b[0;34m\u001b[0m\u001b[0;34m\u001b[0m\u001b[0m\n\u001b[0;32m--> 154\u001b[0;31m             \u001b[0mcheck_classification_targets\u001b[0m\u001b[0;34m(\u001b[0m\u001b[0my\u001b[0m\u001b[0;34m)\u001b[0m\u001b[0;34m\u001b[0m\u001b[0;34m\u001b[0m\u001b[0m\n\u001b[0m\u001b[1;32m    155\u001b[0m             \u001b[0my\u001b[0m \u001b[0;34m=\u001b[0m \u001b[0mnp\u001b[0m\u001b[0;34m.\u001b[0m\u001b[0mcopy\u001b[0m\u001b[0;34m(\u001b[0m\u001b[0my\u001b[0m\u001b[0;34m)\u001b[0m\u001b[0;34m\u001b[0m\u001b[0;34m\u001b[0m\u001b[0m\n\u001b[1;32m    156\u001b[0m \u001b[0;34m\u001b[0m\u001b[0m\n",
      "\u001b[0;32m~/opt/anaconda3/lib/python3.7/site-packages/sklearn/utils/multiclass.py\u001b[0m in \u001b[0;36mcheck_classification_targets\u001b[0;34m(y)\u001b[0m\n\u001b[1;32m    167\u001b[0m     if y_type not in ['binary', 'multiclass', 'multiclass-multioutput',\n\u001b[1;32m    168\u001b[0m                       'multilabel-indicator', 'multilabel-sequences']:\n\u001b[0;32m--> 169\u001b[0;31m         \u001b[0;32mraise\u001b[0m \u001b[0mValueError\u001b[0m\u001b[0;34m(\u001b[0m\u001b[0;34m\"Unknown label type: %r\"\u001b[0m \u001b[0;34m%\u001b[0m \u001b[0my_type\u001b[0m\u001b[0;34m)\u001b[0m\u001b[0;34m\u001b[0m\u001b[0;34m\u001b[0m\u001b[0m\n\u001b[0m\u001b[1;32m    170\u001b[0m \u001b[0;34m\u001b[0m\u001b[0m\n\u001b[1;32m    171\u001b[0m \u001b[0;34m\u001b[0m\u001b[0m\n",
      "\u001b[0;31mValueError\u001b[0m: Unknown label type: 'unknown'"
     ]
    }
   ],
   "source": [
    "dt_clf = DecisionTreeClassifier()\n",
    "\n",
    "dt_cv_score = cross_val_score(dt_clf, X_train, y_train, cv=3)\n",
    "mean_dt_cv_score = np.mean(dt_cv_score)\n",
    "\n",
    "print(f\"Mean Cross Validation Score: {mean_dt_cv_score :.2%}\")"
   ]
  },
  {
   "cell_type": "code",
   "execution_count": null,
   "metadata": {},
   "outputs": [],
   "source": []
  }
 ],
 "metadata": {
  "kernelspec": {
   "display_name": "Python 3",
   "language": "python",
   "name": "python3"
  },
  "language_info": {
   "codemirror_mode": {
    "name": "ipython",
    "version": 3
   },
   "file_extension": ".py",
   "mimetype": "text/x-python",
   "name": "python",
   "nbconvert_exporter": "python",
   "pygments_lexer": "ipython3",
   "version": "3.7.4"
  }
 },
 "nbformat": 4,
 "nbformat_minor": 2
}
